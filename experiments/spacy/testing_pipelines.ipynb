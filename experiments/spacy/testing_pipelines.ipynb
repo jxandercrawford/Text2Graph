{
 "cells": [
  {
   "cell_type": "markdown",
   "metadata": {},
   "source": [
    "# Testing Pipelines\n",
    "\n",
    "This is a notebook to test the different compenents avaiable to be added to SpaCy pipeline. The goal is to create a pipeline we can use to preprocess mtsamples for analysis."
   ]
  },
  {
   "cell_type": "code",
   "execution_count": 1,
   "metadata": {},
   "outputs": [],
   "source": [
    "import spacy\n",
    "nlp = spacy.load(\"en_core_web_sm\")"
   ]
  },
  {
   "cell_type": "code",
   "execution_count": 2,
   "metadata": {},
   "outputs": [],
   "source": [
    "import json"
   ]
  },
  {
   "cell_type": "code",
   "execution_count": 3,
   "metadata": {},
   "outputs": [
    {
     "data": {
      "text/plain": [
       "{'type_id': 3,\n",
       " 'sample_id': 343,\n",
       " 'type': 'Allergy / Immunology',\n",
       " 'name': 'Followup on Asthma',\n",
       " 'description': 'A female for a complete physical and follow up on asthma with allergic rhinitis',\n",
       " 'text': 'SUBJECTIVE:  This is a 42-year-old white female who comes in today for a complete physical and follow up on asthma.  She says her asthma has been worse over the last three months.  She has been using her inhaler daily.  Her allergies seem to be a little bit worse as well.  Her husband has been hauling corn and this seems to aggravate things.  She has not been taking Allegra daily but when she does take it, it seems to help somewhat.  She has not been taking her Flonase which has helped her in the past.  She also notes that in the past she was on Advair but she got some vaginal irritation with that.\\n\\nShe had been noticing increasing symptoms of irritability and PMS around her menstrual cycle.  She has been more impatient around that time.  Says otherwise her mood is normal during the rest of the month.  It usually is worse the week before her cycle and improves the day her menstrual cycle starts.  Menses have been regular but somewhat shorter than in the past.  Occasionally she will get some spotting after her cycles.  She denies any hot flashes or night sweats with this.  In reviewing the chart it is noted that she did have 3+ blood with what appeared to be a urinary tract infection previously.  Her urine has not been rechecked.  She recently had lab work and cholesterol drawn for a life insurance application and is going to send me those results when available.\\n\\nREVIEW OF SYSTEMS:  As above.  No fevers, no headaches, no shortness of breath currently.  No chest pain or tightness.  No abdominal pain, no heartburn, no constipation, diarrhea or dysuria.  Occasional stress incontinence.  No muscle or joint pain.  No concerns about her skin.  No polyphagia, polydipsia or polyuria.\\n\\nPAST MEDICAL HISTORY:  Significant for asthma, allergic rhinitis and cervical dysplasia.\\n\\nSOCIAL HISTORY:  She is married.  She is a nonsmoker.\\n\\nMEDICATIONS:  Proventil and Allegra.\\n\\nALLERGIES:  Sulfa.\\n\\nOBJECTIVE:\\nVital signs:  Her weight is 151 pounds.  Blood pressure is 110/60.  Pulse is 72.  Temperature is 97.1 degrees.  Respirations are 20.\\nGeneral:  This is a well-developed, well-nourished 42-year-old white female, alert and oriented in no acute distress.  Affect is appropriate and is pleasant.\\nHEENT:  Normocephalic, atraumatic.  Tympanic membranes are clear.  Conjunctivae are clear.  Pupils are equal, round and reactive to light.  Nares without turbinate edema.  Oropharynx is nonerythematous.\\nNeck:  Supple without lymphadenopathy, thyromegaly, carotid bruit or JVD.\\nChest:  Clear to auscultation bilaterally.\\nCardiovascular:  Regular rate and rhythm without murmur.\\nAbdomen:  Soft, nontender, nondistended.  Normoactive bowel sounds.  No masses or organomegaly to palpation.\\nExtremities:  Without cyanosis or edema.\\nSkin:  Without abnormalities.\\nBreasts:  Normal symmetrical breasts without dimpling or retraction.  No nipple discharge.  No masses or lesions to palpation.  No axillary masses or lymphadenopathy.\\nGenitourinary:  Normal external genitalia.  The walls of the vaginal vault are visualized with normal pink rugae with no lesions noted.  Cervix is visualized without lesion.  She has a moderate amount of thick white/yellow vaginal discharge in the vaginal vault.  No cervical motion tenderness.  No adnexal tenderness or fullness.\\n\\nASSESSMENT/PLAN:\\n1.  Asthma.  Seems to be worse than in the past.  She is just using her Proventil inhaler but is using it daily.  We will add Flovent 44 mcg two puffs p.o. b.i.d.  May need to increase the dose.  She did get some vaginal irritation with Advair in the past but she is willing to retry that if it is necessary.  May also need to consider Singulair.  She is to call me if she is not improving.  If her shortness of breath worsens she is to call me or go into the emergency department.  We will plan on following up for reevaluation in one month.\\n2.  Allergic rhinitis.  We will plan on restarting Allegra and Flonase daily for the time being.\\n3.  Premenstrual dysphoric disorder.  She may have some perimenopausal symptoms.  We will start her on fluoxetine 20 mg one tablet p.o. q.d.\\n4.  Hematuria.  Likely this is secondary to urinary tract infection but we will repeat a UA to document clearing.  She does have some frequent dysuria but is not having it currently.\\n5.  Cervical dysplasia.  Pap smear is taken.  We will notify the patient of results.  If normal we will go back to yearly Pap smear.  She is scheduled for screening mammogram and instructed on monthly self-breast exam techniques.  Recommend she get 1200 mg of calcium and 400 U of vitamin D a day.'}"
      ]
     },
     "execution_count": 3,
     "metadata": {},
     "output_type": "execute_result"
    }
   ],
   "source": [
    "\n",
    "with open(\"/home/xc383@drexel.edu/text2graph/data/mtsamples/parsed/mtsamples-type-3-sample-343.json\", \"r\") as fi:\n",
    "    sample = json.loads(fi.read())\n",
    "sample"
   ]
  },
  {
   "cell_type": "code",
   "execution_count": 5,
   "metadata": {},
   "outputs": [
    {
     "data": {
      "text/plain": [
       "SUBJECTIVE:  This is a 42-year-old white female who comes in today for a complete physical and follow up on asthma.  She says her asthma has been worse over the last three months.  She has been using her inhaler daily.  Her allergies seem to be a little bit worse as well.  Her husband has been hauling corn and this seems to aggravate things.  She has not been taking Allegra daily but when she does take it, it seems to help somewhat.  She has not been taking her Flonase which has helped her in the past.  She also notes that in the past she was on Advair but she got some vaginal irritation with that.\n",
       "\n",
       "She had been noticing increasing symptoms of irritability and PMS around her menstrual cycle.  She has been more impatient around that time.  Says otherwise her mood is normal during the rest of the month.  It usually is worse the week before her cycle and improves the day her menstrual cycle starts.  Menses have been regular but somewhat shorter than in the past.  Occasionally she will get some spotting after her cycles.  She denies any hot flashes or night sweats with this.  In reviewing the chart it is noted that she did have 3+ blood with what appeared to be a urinary tract infection previously.  Her urine has not been rechecked.  She recently had lab work and cholesterol drawn for a life insurance application and is going to send me those results when available.\n",
       "\n",
       "REVIEW OF SYSTEMS:  As above.  No fevers, no headaches, no shortness of breath currently.  No chest pain or tightness.  No abdominal pain, no heartburn, no constipation, diarrhea or dysuria.  Occasional stress incontinence.  No muscle or joint pain.  No concerns about her skin.  No polyphagia, polydipsia or polyuria.\n",
       "\n",
       "PAST MEDICAL HISTORY:  Significant for asthma, allergic rhinitis and cervical dysplasia.\n",
       "\n",
       "SOCIAL HISTORY:  She is married.  She is a nonsmoker.\n",
       "\n",
       "MEDICATIONS:  Proventil and Allegra.\n",
       "\n",
       "ALLERGIES:  Sulfa.\n",
       "\n",
       "OBJECTIVE:\n",
       "Vital signs:  Her weight is 151 pounds.  Blood pressure is 110/60.  Pulse is 72.  Temperature is 97.1 degrees.  Respirations are 20.\n",
       "General:  This is a well-developed, well-nourished 42-year-old white female, alert and oriented in no acute distress.  Affect is appropriate and is pleasant.\n",
       "HEENT:  Normocephalic, atraumatic.  Tympanic membranes are clear.  Conjunctivae are clear.  Pupils are equal, round and reactive to light.  Nares without turbinate edema.  Oropharynx is nonerythematous.\n",
       "Neck:  Supple without lymphadenopathy, thyromegaly, carotid bruit or JVD.\n",
       "Chest:  Clear to auscultation bilaterally.\n",
       "Cardiovascular:  Regular rate and rhythm without murmur.\n",
       "Abdomen:  Soft, nontender, nondistended.  Normoactive bowel sounds.  No masses or organomegaly to palpation.\n",
       "Extremities:  Without cyanosis or edema.\n",
       "Skin:  Without abnormalities.\n",
       "Breasts:  Normal symmetrical breasts without dimpling or retraction.  No nipple discharge.  No masses or lesions to palpation.  No axillary masses or lymphadenopathy.\n",
       "Genitourinary:  Normal external genitalia.  The walls of the vaginal vault are visualized with normal pink rugae with no lesions noted.  Cervix is visualized without lesion.  She has a moderate amount of thick white/yellow vaginal discharge in the vaginal vault.  No cervical motion tenderness.  No adnexal tenderness or fullness.\n",
       "\n",
       "ASSESSMENT/PLAN:\n",
       "1.  Asthma.  Seems to be worse than in the past.  She is just using her Proventil inhaler but is using it daily.  We will add Flovent 44 mcg two puffs p.o. b.i.d.  May need to increase the dose.  She did get some vaginal irritation with Advair in the past but she is willing to retry that if it is necessary.  May also need to consider Singulair.  She is to call me if she is not improving.  If her shortness of breath worsens she is to call me or go into the emergency department.  We will plan on following up for reevaluation in one month.\n",
       "2.  Allergic rhinitis.  We will plan on restarting Allegra and Flonase daily for the time being.\n",
       "3.  Premenstrual dysphoric disorder.  She may have some perimenopausal symptoms.  We will start her on fluoxetine 20 mg one tablet p.o. q.d.\n",
       "4.  Hematuria.  Likely this is secondary to urinary tract infection but we will repeat a UA to document clearing.  She does have some frequent dysuria but is not having it currently.\n",
       "5.  Cervical dysplasia.  Pap smear is taken.  We will notify the patient of results.  If normal we will go back to yearly Pap smear.  She is scheduled for screening mammogram and instructed on monthly self-breast exam techniques.  Recommend she get 1200 mg of calcium and 400 U of vitamin D a day."
      ]
     },
     "execution_count": 5,
     "metadata": {},
     "output_type": "execute_result"
    }
   ],
   "source": [
    "doc = nlp(sample[\"text\"])\n",
    "doc"
   ]
  },
  {
   "cell_type": "code",
   "execution_count": 12,
   "metadata": {},
   "outputs": [
    {
     "data": {
      "text/plain": [
       "[SUBJECTIVE, This, a 42-year-old white female]"
      ]
     },
     "execution_count": 12,
     "metadata": {},
     "output_type": "execute_result"
    }
   ],
   "source": [
    "nnp = doc.noun_chunks\n",
    "list(nnp)[:3]"
   ]
  },
  {
   "cell_type": "code",
   "execution_count": null,
   "metadata": {},
   "outputs": [],
   "source": [
    "doc."
   ]
  },
  {
   "cell_type": "code",
   "execution_count": 6,
   "metadata": {},
   "outputs": [
    {
     "data": {
      "text/plain": [
       "(42-year-old,\n",
       " today,\n",
       " the last three months,\n",
       " daily,\n",
       " Allegra,\n",
       " daily,\n",
       " Flonase,\n",
       " Advair,\n",
       " PMS,\n",
       " the month,\n",
       " the week,\n",
       " the day,\n",
       " night,\n",
       " 3,\n",
       " REVIEW OF SYSTEMS,\n",
       " polydipsia,\n",
       " Proventil,\n",
       " Allegra,\n",
       " 151 pounds,\n",
       " 110/60,\n",
       " Pulse,\n",
       " 72,\n",
       " Temperature,\n",
       " 97.1 degrees,\n",
       " 20,\n",
       " 42-year-old,\n",
       " Normocephalic,\n",
       " Tympanic,\n",
       " Conjunctivae,\n",
       " Oropharynx,\n",
       " thyromegaly,\n",
       " JVD,\n",
       " Soft,\n",
       " Normoactive,\n",
       " organomegaly,\n",
       " Normal,\n",
       " Cervix,\n",
       " 1,\n",
       " Proventil,\n",
       " daily,\n",
       " Flovent 44,\n",
       " two,\n",
       " May,\n",
       " Advair,\n",
       " May,\n",
       " Singulair,\n",
       " one month,\n",
       " 2,\n",
       " Allergic,\n",
       " Allegra,\n",
       " Flonase,\n",
       " 3,\n",
       " 20,\n",
       " p.o,\n",
       " q.d.,\n",
       " 4,\n",
       " Hematuria,\n",
       " UA,\n",
       " 5,\n",
       " Pap,\n",
       " Pap,\n",
       " monthly,\n",
       " 1200,\n",
       " 400)"
      ]
     },
     "execution_count": 6,
     "metadata": {},
     "output_type": "execute_result"
    }
   ],
   "source": [
    "doc.ents"
   ]
  }
 ],
 "metadata": {
  "kernelspec": {
   "display_name": "spacy",
   "language": "python",
   "name": "python3"
  },
  "language_info": {
   "codemirror_mode": {
    "name": "ipython",
    "version": 3
   },
   "file_extension": ".py",
   "mimetype": "text/x-python",
   "name": "python",
   "nbconvert_exporter": "python",
   "pygments_lexer": "ipython3",
   "version": "3.12.0"
  }
 },
 "nbformat": 4,
 "nbformat_minor": 2
}
