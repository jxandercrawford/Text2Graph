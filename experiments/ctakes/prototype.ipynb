{
 "cells": [
  {
   "cell_type": "markdown",
   "metadata": {},
   "source": [
    "# cTakes Prototyping\n",
    "\n",
    "To be used in developing a cTakes:\n",
    "1. Data class\n",
    "2. KG construction"
   ]
  },
  {
   "cell_type": "code",
   "execution_count": 1,
   "metadata": {},
   "outputs": [],
   "source": [
    "from lxml import etree\n",
    "import os"
   ]
  },
  {
   "cell_type": "code",
   "execution_count": 2,
   "metadata": {},
   "outputs": [
    {
     "data": {
      "text/plain": [
       "'/home/xc383@drexel.edu/text2graph/experiments/ctakes/sample/mtsamples-type-3-sample-343.txt.xmi'"
      ]
     },
     "execution_count": 2,
     "metadata": {},
     "output_type": "execute_result"
    }
   ],
   "source": [
    "USER_HOME = os.getenv(\"HOME\")\n",
    "SAMPLE_XMI = os.path.join(USER_HOME, \"text2graph/experiments/ctakes/sample/mtsamples-type-3-sample-343.txt.xmi\")\n",
    "\n",
    "SAMPLE_XMI"
   ]
  },
  {
   "cell_type": "code",
   "execution_count": 38,
   "metadata": {},
   "outputs": [],
   "source": [
    "import os\n",
    "from lxml import etree\n",
    "\n",
    "class Document:\n",
    "\n",
    "    def __init__(self, path:str):\n",
    "        self.__path = path\n",
    "        self.__validate_path()\n",
    "\n",
    "        # Create xml parser\n",
    "        self.__tree = etree.parse(SAMPLE_XMI)\n",
    "        self.__namespaces = namespaces = tree.getroot().nsmap.copy()\n",
    "        self.__root = root = tree.getroot()\n",
    "\n",
    "    def __str__(self):\n",
    "        return self.get_xpath(\"/xmi:XMI/structured:DocumentID/@documentID\")[0]\n",
    "\n",
    "    def __validate_path(self):\n",
    "        return os.path.isfile(self.__path)\n",
    "\n",
    "    @property\n",
    "    def root(self):\n",
    "        return self.__root\n",
    "\n",
    "    def get_xpath(self, xpath:str):\n",
    "        return self.__root.xpath(xpath, namespaces=self.__namespaces)\n",
    "\n",
    "    def get_id(self, id: int):\n",
    "        elems = root.xpath(\".//*[@xmi:id='%d']\" % x, namespaces=namespaces)\n",
    "        if elems:\n",
    "            return elems[0]\n",
    "        return None\n"
   ]
  },
  {
   "cell_type": "code",
   "execution_count": 39,
   "metadata": {},
   "outputs": [
    {
     "data": {
      "text/plain": [
       "'mtsamples-type-3-sample-343'"
      ]
     },
     "execution_count": 39,
     "metadata": {},
     "output_type": "execute_result"
    }
   ],
   "source": [
    "d = Document(SAMPLE_XMI)\n",
    "str(d)"
   ]
  },
  {
   "cell_type": "markdown",
   "metadata": {},
   "source": [
    "## Data Class"
   ]
  },
  {
   "cell_type": "markdown",
   "metadata": {},
   "source": [
    "### Dictionary"
   ]
  },
  {
   "cell_type": "markdown",
   "metadata": {},
   "source": [
    "Below is a dictionary that contains the fields in the output of the cTakes clinical pipeline. This dictionary can be used to parse a given XMI file."
   ]
  },
  {
   "cell_type": "code",
   "execution_count": 3,
   "metadata": {},
   "outputs": [],
   "source": [
    "clinpipe_dict = {\n",
    "    \"text\": {\n",
    "        \"description\": \"The text in which all artifacts are extracted from. Text is stored under the value of 'sofaString'.\",\n",
    "        \"xpath\": \"/xmi:XMI/cas:Sofa\"\n",
    "    },\n",
    "    \"metadata\": {\n",
    "        \"document_id\": {\n",
    "            \"description\": \"The name of document.\",\n",
    "            \"xpath\": \"/xmi:XMI/structured:DocumentID/@documentID\"\n",
    "        },\n",
    "        \"document_path\": {\n",
    "            \"description\": \"The origin of document.\",\n",
    "            \"xpath\": \"/xmi:XMI/structured:DocumentPath/@documentPath\"\n",
    "        }\n",
    "    },\n",
    "    \"index\": {\n",
    "        \"syntax\": {\n",
    "            \"sentence\": {\n",
    "                \"description\": \"The start and stop index of a sentence in the document.\",\n",
    "                \"xpath\": \"/xmi:XMI/textspan:Sentence\"\n",
    "            },\n",
    "            \"newline\": {\n",
    "                \"description\": \"The index of a newlines in the document.\",\n",
    "                \"xpath\": \"/xmi:XMI/syntax:NewlineToken\"\n",
    "            },\n",
    "            \"word\": {\n",
    "                \"description\": \"The index of a word in the document.\",\n",
    "                \"xpath\": \"/xmi:XMI/syntax:WordToken\"\n",
    "            },\n",
    "            \"punctuation\": {\n",
    "                \"description\": \"The index of punctuation in the document.\",\n",
    "                \"xpath\": \"/xmi:XMI/syntax:PunctuationToken\"\n",
    "            },\n",
    "            \"number\": {\n",
    "                \"description\": \"The index of punctuation in the document.\",\n",
    "                \"xpath\": \"/xmi:XMI/syntax:NumToken\"\n",
    "            },\n",
    "            \"symbol\": {\n",
    "                \"description\": \"The index of a symbol in the document.\",\n",
    "                \"xpath\": \"/xmi:XMI/syntax:SymbolToken\"\n",
    "            },\n",
    "            \"chunk\": {\n",
    "                \"description\": \"The index of a chunk in the document.\",\n",
    "                \"xpath\": \"/xmi:XMI/syntax:Chunk\"\n",
    "            },\n",
    "            \"dependant\": {\n",
    "                \"description\": \"The index of a dependancy node in the document.\",\n",
    "                \"xpath\": \"/xmi:XMI/syntax:ConllDependencyNode\"\n",
    "            },\n",
    "            \"predicate\": {\n",
    "                \"description\": \"The index of a predicate in the document.\",\n",
    "                \"xpath\": \"/xmi:XMI/textsem:Predicate\"\n",
    "            }\n",
    "        },\n",
    "        \"mention\": {\n",
    "            \"numeral\": {\n",
    "                \"description\": \"The index of a mentioned Roman numeral in the document.\",\n",
    "                \"xpath\": \"/xmi:XMI/textsem:RomanNumeralAnnotation\"\n",
    "            },\n",
    "            \"measurement\": {\n",
    "                \"description\": \"The index of a mentioned measurement in the document.\",\n",
    "                \"xpath\": \"/xmi:XMI/textsem:MeasurementAnnotation\"\n",
    "            },\n",
    "            \"fraction\": {\n",
    "                \"description\": \"The index of a mentioned fraction in the document.\",\n",
    "                \"xpath\": \"/xmi:XMI/textsem:FractionAnnotation\"\n",
    "            },\n",
    "            \"medication\": {\n",
    "                \"description\": \"The index of a mentioned medication in the document.\",\n",
    "                \"xpath\": \"/xmi:XMI/textsem:MedicationMention\"\n",
    "            },\n",
    "            \"disease\": {\n",
    "                \"description\": \"The index of a mentioned disease or disorder in the document.\",\n",
    "                \"xpath\": \"/xmi:XMI/textsem:DiseaseDisorderMention\"\n",
    "            },\n",
    "            \"symptom\": {\n",
    "                \"description\": \"The index of a mentioned symptom or sign in the document.\",\n",
    "                \"xpath\": \"/xmi:XMI/textsem:SignSymptomMention\"\n",
    "            },\n",
    "            \"procedure\": {\n",
    "                \"description\": \"The index of a mentioned procedure in the document.\",\n",
    "                \"xpath\": \"/xmi:XMI/textsem:ProcedureMention\"\n",
    "            },\n",
    "            \"anatomy\": {\n",
    "                \"description\": \"The index of a mentioned anatomical site in the document.\",\n",
    "                \"xpath\": \"/xmi:XMI/textsem:AnatomicalSiteMention\"\n",
    "            }\n",
    "        },\n",
    "        \"cas\": {\n",
    "            \"fs_list\": {\n",
    "                \"description\": \"A non-empty fs list.\",\n",
    "                \"xpath\": \"/xmi:XMI/cas:NonEmptyFSList\"\n",
    "            },\n",
    "            \"empty_fs_list\": {\n",
    "                \"description\": \"A empty fs list.\",\n",
    "                \"xpath\": \"/xmi:XMI/cas:EmptyFSList\"\n",
    "            }\n",
    "        }\n",
    "    },\n",
    "    \"semantic_role\": {\n",
    "        \"argument\": {\n",
    "            \"description\": \"The index of a semantic argument in the document.\",\n",
    "            \"xpath\": \"/xmi:XMI/textsem:SemanticArgument\"\n",
    "        },\n",
    "        \"relation\": {\n",
    "            \"description\": \"The index of a semantic role in the document.\",\n",
    "            \"xpath\": \"/xmi:XMI/textsem:SemanticRoleRelation\"\n",
    "        }\n",
    "    },\n",
    "    \"concept\": {\n",
    "        \"umls\": {\n",
    "            \"description\": \"A reference to an UMLS concept.\",\n",
    "            \"xpath\": \"/xmi:XMI/refsem:UmlsConcept\"\n",
    "        }\n",
    "    }\n",
    "}"
   ]
  },
  {
   "cell_type": "markdown",
   "metadata": {},
   "source": [
    "### Parsing cTakes Clincial Pipeline Output\n",
    "\n",
    "The construction of a data class for cTakes is a relitivly simple task with complicated means. The output of the cTakes clinical pipeline is a XMI file with many fields for each step of the pipeline"
   ]
  },
  {
   "cell_type": "code",
   "execution_count": 4,
   "metadata": {},
   "outputs": [
    {
     "name": "stdout",
     "output_type": "stream",
     "text": [
      "XML Version: 1.0\n"
     ]
    }
   ],
   "source": [
    "tree = etree.parse(SAMPLE_XMI)\n",
    "\n",
    "# Required to parse file\n",
    "namespaces = tree.getroot().nsmap.copy()\n",
    "\n",
    "root = tree.getroot()\n",
    "print(\"XML Version:\", tree.docinfo.xml_version)"
   ]
  },
  {
   "cell_type": "code",
   "execution_count": 5,
   "metadata": {},
   "outputs": [
    {
     "data": {
      "text/plain": [
       "[('{http://www.omg.org/XMI}id', '1'),\n",
       " ('sofaNum', '1'),\n",
       " ('sofaID', '_InitialView'),\n",
       " ('mimeType', 'text'),\n",
       " ('sofaString',\n",
       "  'Sample Type / Medical Specialty:  Allergy / Immunology\\n\\nSample Name: Followup on Asthma \\nDescription: A female for a complete physical and follow up on asthma with allergic rhinitis.\\n\\n(Medical Transcription Sample Report)\\n\\n-----\\n\\n\\nSUBJECTIVE:  This is a 42-year-old white female who comes in today for a complete physical and follow up on asthma.  She says her asthma has been worse over the last three months.  She has been using her inhaler daily.  Her allergies seem to be a little bit worse as well.  Her husband has been hauling corn and this seems to aggravate things.  She has not been taking Allegra daily but when she does take it, it seems to help somewhat.  She has not been taking her Flonase which has helped her in the past.  She also notes that in the past she was on Advair but she got some vaginal irritation with that.\\n\\nShe had been noticing increasing symptoms of irritability and PMS around her menstrual cycle.  She has been more impatient around that time.  Says otherwise her mood is normal during the rest of the month.  It usually is worse the week before her cycle and improves the day her menstrual cycle starts.  Menses have been regular but somewhat shorter than in the past.  Occasionally she will get some spotting after her cycles.  She denies any hot flashes or night sweats with this.  In reviewing the chart it is noted that she did have 3+ blood with what appeared to be a urinary tract infection previously.  Her urine has not been rechecked.  She recently had lab work and cholesterol drawn for a life insurance application and is going to send me those results when available.\\n\\nREVIEW OF SYSTEMS:  As above.  No fevers, no headaches, no shortness of breath currently.  No chest pain or tightness.  No abdominal pain, no heartburn, no constipation, diarrhea or dysuria.  Occasional stress incontinence.  No muscle or joint pain.  No concerns about her skin.  No polyphagia, polydipsia or polyuria.\\n\\nPAST MEDICAL HISTORY:  Significant for asthma, allergic rhinitis and cervical dysplasia.\\n\\nSOCIAL HISTORY:  She is married.  She is a nonsmoker.\\n\\nMEDICATIONS:  Proventil and Allegra.\\n\\nALLERGIES:  Sulfa.\\n\\nOBJECTIVE:\\nVital signs:  Her weight is 151 pounds.  Blood pressure is 110/60.  Pulse is 72.  Temperature is 97.1 degrees.  Respirations are 20.\\nGeneral:  This is a well-developed, well-nourished 42-year-old white female, alert and oriented in no acute distress.  Affect is appropriate and is pleasant.\\nHEENT:  Normocephalic, atraumatic.  Tympanic membranes are clear.  Conjunctivae are clear.  Pupils are equal, round and reactive to light.  Nares without turbinate edema.  Oropharynx is nonerythematous.\\nNeck:  Supple without lymphadenopathy, thyromegaly, carotid bruit or JVD.\\nChest:  Clear to auscultation bilaterally.\\nCardiovascular:  Regular rate and rhythm without murmur.\\nAbdomen:  Soft, nontender, nondistended.  Normoactive bowel sounds.  No masses or organomegaly to palpation.\\nExtremities:  Without cyanosis or edema.\\nSkin:  Without abnormalities.\\nBreasts:  Normal symmetrical breasts without dimpling or retraction.  No nipple discharge.  No masses or lesions to palpation.  No axillary masses or lymphadenopathy.\\nGenitourinary:  Normal external genitalia.  The walls of the vaginal vault are visualized with normal pink rugae with no lesions noted.  Cervix is visualized without lesion.  She has a moderate amount of thick white/yellow vaginal discharge in the vaginal vault.  No cervical motion tenderness.  No adnexal tenderness or fullness.\\n\\nASSESSMENT/PLAN:\\n1.  Asthma.  Seems to be worse than in the past.  She is just using her Proventil inhaler but is using it daily.  We will add Flovent 44 mcg two puffs p.o. b.i.d.  May need to increase the dose.  She did get some vaginal irritation with Advair in the past but she is willing to retry that if it is necessary.  May also need to consider Singulair.  She is to call me if she is not improving.  If her shortness of breath worsens she is to call me or go into the emergency department.  We will plan on following up for reevaluation in one month.\\n2.  Allergic rhinitis.  We will plan on restarting Allegra and Flonase daily for the time being.\\n3.  Premenstrual dysphoric disorder.  She may have some perimenopausal symptoms.  We will start her on fluoxetine 20 mg one tablet p.o. q.d.\\n4.  Hematuria.  Likely this is secondary to urinary tract infection but we will repeat a UA to document clearing.  She does have some frequent dysuria but is not having it currently.\\n5.  Cervical dysplasia.  Pap smear is taken.  We will notify the patient of results.  If normal we will go back to yearly Pap smear.  She is scheduled for screening mammogram and instructed on monthly self-breast exam techniques.  Recommend she get 1200 mg of calcium and 400 U of vitamin D a day.\\n\\n')]"
      ]
     },
     "execution_count": 5,
     "metadata": {},
     "output_type": "execute_result"
    }
   ],
   "source": [
    "# Get an element of id x.\n",
    "get_id = lambda x: root.xpath(\".//*[@xmi:id='%d']\" % x, namespaces=namespaces)[0]\n",
    "\n",
    "get_id(1).items()"
   ]
  },
  {
   "cell_type": "code",
   "execution_count": 6,
   "metadata": {},
   "outputs": [
    {
     "data": {
      "text/plain": [
       "[<Element {http://www.omg.org/XMI}XMI at 0x7fec723da300>]"
      ]
     },
     "execution_count": 6,
     "metadata": {},
     "output_type": "execute_result"
    }
   ],
   "source": [
    "# Get an element of id x.\n",
    "get_xpath = lambda x: root.xpath(x, namespaces=namespaces)\n",
    "\n",
    "get_xpath(\".\")"
   ]
  },
  {
   "cell_type": "code",
   "execution_count": 7,
   "metadata": {},
   "outputs": [
    {
     "name": "stdout",
     "output_type": "stream",
     "text": [
      "Sample Type / Medical Specialty:  Allergy / Immunology\n",
      "\n",
      "Sample Name: Followup on Asthma \n",
      "Description: A female for a complete physical and follow up on asthma with allergic rhinitis.\n",
      "\n",
      "(Medical Transcription Sample Report)\n",
      "\n",
      "-----\n",
      "\n",
      "\n",
      "SUBJECTIVE:  This is a 4 . . . \n",
      "\n",
      "source: /home/xc383@drexel.edu/text2graph/data/mtsamples/raw/mtsamples-type-3-sample-343.txt\n"
     ]
    }
   ],
   "source": [
    "document_path = root.xpath(\n",
    "    clinpipe_dict[\"metadata\"][\"document_path\"][\"xpath\"],\n",
    "    namespaces=namespaces\n",
    ")[0]\n",
    "\n",
    "document_text = get_xpath(clinpipe_dict[\"text\"][\"xpath\"])[0].get(\"sofaString\")\n",
    "print(document_text[:255] + \" . . . \\n\\nsource: \" + document_path)"
   ]
  },
  {
   "cell_type": "code",
   "execution_count": 24,
   "metadata": {},
   "outputs": [
    {
     "data": {
      "text/plain": [
       "[('{http://www.omg.org/XMI}id', '37682'),\n",
       " ('sofa', '1'),\n",
       " ('begin', '139'),\n",
       " ('end', '145'),\n",
       " ('relations', '37713 37723 37733 37743'),\n",
       " ('frameSet', 'follow.03')]"
      ]
     },
     "execution_count": 24,
     "metadata": {},
     "output_type": "execute_result"
    }
   ],
   "source": [
    "get_id(37682).items()"
   ]
  },
  {
   "cell_type": "code",
   "execution_count": 23,
   "metadata": {},
   "outputs": [
    {
     "data": {
      "text/plain": [
       "[('{http://www.omg.org/XMI}id', '37713'),\n",
       " ('id', '0'),\n",
       " ('category', 'A1'),\n",
       " ('discoveryTechnique', '0'),\n",
       " ('confidence', '0.0'),\n",
       " ('polarity', '0'),\n",
       " ('uncertainty', '0'),\n",
       " ('conditional', 'false'),\n",
       " ('predicate', '37682'),\n",
       " ('argument', '37689')]"
      ]
     },
     "execution_count": 23,
     "metadata": {},
     "output_type": "execute_result"
    }
   ],
   "source": [
    "get_id(37713).items()"
   ]
  },
  {
   "cell_type": "code",
   "execution_count": 21,
   "metadata": {},
   "outputs": [
    {
     "data": {
      "text/plain": [
       "[('{http://www.omg.org/XMI}id', '37689'),\n",
       " ('sofa', '1'),\n",
       " ('begin', '104'),\n",
       " ('end', '110'),\n",
       " ('relation', '37713'),\n",
       " ('label', 'A1')]"
      ]
     },
     "execution_count": 21,
     "metadata": {},
     "output_type": "execute_result"
    }
   ],
   "source": [
    "root.xpath(\n",
    "    clinpipe_dict[\"semantic_role\"][\"argument\"][\"xpath\"],\n",
    "    namespaces=namespaces\n",
    ")[0].items()"
   ]
  },
  {
   "cell_type": "code",
   "execution_count": 19,
   "metadata": {},
   "outputs": [
    {
     "data": {
      "text/plain": [
       "[('{http://www.omg.org/XMI}id', '14645'),\n",
       " ('codingScheme', 'sno_rx_16ab'),\n",
       " ('score', '0.0'),\n",
       " ('disambiguated', 'false'),\n",
       " ('cui', 'C0310367'),\n",
       " ('tui', 'T109'),\n",
       " ('preferredText', 'Today')]"
      ]
     },
     "execution_count": 19,
     "metadata": {},
     "output_type": "execute_result"
    }
   ],
   "source": [
    "root.xpath(\n",
    "    clinpipe_dict[\"concept\"][\"umls\"][\"xpath\"],\n",
    "    namespaces=namespaces\n",
    ")[0].items()"
   ]
  },
  {
   "cell_type": "code",
   "execution_count": 8,
   "metadata": {},
   "outputs": [
    {
     "data": {
      "text/plain": [
       "[('{http://www.omg.org/XMI}id', '15016'),\n",
       " ('sofa', '1'),\n",
       " ('begin', '697'),\n",
       " ('end', '704'),\n",
       " ('id', '0'),\n",
       " ('ontologyConceptArr', '14992 15002'),\n",
       " ('typeID', '1'),\n",
       " ('discoveryTechnique', '1'),\n",
       " ('confidence', '0.0'),\n",
       " ('polarity', '1'),\n",
       " ('uncertainty', '0'),\n",
       " ('conditional', 'false'),\n",
       " ('generic', 'false'),\n",
       " ('subject', 'patient'),\n",
       " ('historyOf', '0')]"
      ]
     },
     "execution_count": 8,
     "metadata": {},
     "output_type": "execute_result"
    }
   ],
   "source": [
    "medi = root.xpath(\n",
    "    clinpipe_dict[\"index\"][\"mention\"][\"medication\"][\"xpath\"],\n",
    "    namespaces=namespaces\n",
    ")[2]\n",
    "medi.items()"
   ]
  },
  {
   "cell_type": "code",
   "execution_count": 9,
   "metadata": {},
   "outputs": [
    {
     "data": {
      "text/plain": [
       "[('{http://www.omg.org/XMI}id', '15002'),\n",
       " ('codingScheme', 'RXNORM'),\n",
       " ('code', '83373'),\n",
       " ('score', '0.0'),\n",
       " ('disambiguated', 'false'),\n",
       " ('cui', 'C0286677'),\n",
       " ('tui', 'T121'),\n",
       " ('preferredText', 'Flonase')]"
      ]
     },
     "execution_count": 9,
     "metadata": {},
     "output_type": "execute_result"
    }
   ],
   "source": [
    "\n",
    "get_id(15002).items()"
   ]
  },
  {
   "cell_type": "code",
   "execution_count": 11,
   "metadata": {},
   "outputs": [
    {
     "data": {
      "text/plain": [
       "[<Element {http:///org/apache/ctakes/typesystem/type/refsem.ecore}UmlsConcept at 0x7f1dadf4a6c0>,\n",
       " <Element {http:///org/apache/ctakes/typesystem/type/refsem.ecore}UmlsConcept at 0x7f1dbf664540>,\n",
       " <Element {http:///org/apache/ctakes/typesystem/type/refsem.ecore}UmlsConcept at 0x7f1dbf61c880>,\n",
       " <Element {http:///org/apache/ctakes/typesystem/type/refsem.ecore}UmlsConcept at 0x7f1dadfa8440>,\n",
       " <Element {http:///org/apache/ctakes/typesystem/type/refsem.ecore}UmlsConcept at 0x7f1dadfaafc0>,\n",
       " <Element {http:///org/apache/ctakes/typesystem/type/refsem.ecore}UmlsConcept at 0x7f1dadfabec0>,\n",
       " <Element {http:///org/apache/ctakes/typesystem/type/refsem.ecore}UmlsConcept at 0x7f1dadfabe80>,\n",
       " <Element {http:///org/apache/ctakes/typesystem/type/refsem.ecore}UmlsConcept at 0x7f1dadfab080>,\n",
       " <Element {http:///org/apache/ctakes/typesystem/type/refsem.ecore}UmlsConcept at 0x7f1dadfa92c0>,\n",
       " <Element {http:///org/apache/ctakes/typesystem/type/refsem.ecore}UmlsConcept at 0x7f1dadfabf00>,\n",
       " <Element {http:///org/apache/ctakes/typesystem/type/refsem.ecore}UmlsConcept at 0x7f1dadfab200>,\n",
       " <Element {http:///org/apache/ctakes/typesystem/type/refsem.ecore}UmlsConcept at 0x7f1dadfa9800>,\n",
       " <Element {http:///org/apache/ctakes/typesystem/type/refsem.ecore}UmlsConcept at 0x7f1dadfab0c0>,\n",
       " <Element {http:///org/apache/ctakes/typesystem/type/refsem.ecore}UmlsConcept at 0x7f1dadfa9e80>,\n",
       " <Element {http:///org/apache/ctakes/typesystem/type/refsem.ecore}UmlsConcept at 0x7f1dadfa9ec0>,\n",
       " <Element {http:///org/apache/ctakes/typesystem/type/refsem.ecore}UmlsConcept at 0x7f1dadfa9f40>,\n",
       " <Element {http:///org/apache/ctakes/typesystem/type/refsem.ecore}UmlsConcept at 0x7f1dadfa9f80>,\n",
       " <Element {http:///org/apache/ctakes/typesystem/type/refsem.ecore}UmlsConcept at 0x7f1dadfa9e40>,\n",
       " <Element {http:///org/apache/ctakes/typesystem/type/refsem.ecore}UmlsConcept at 0x7f1dadfa9d40>,\n",
       " <Element {http:///org/apache/ctakes/typesystem/type/refsem.ecore}UmlsConcept at 0x7f1dadf84f40>,\n",
       " <Element {http:///org/apache/ctakes/typesystem/type/refsem.ecore}UmlsConcept at 0x7f1dadf85240>,\n",
       " <Element {http:///org/apache/ctakes/typesystem/type/refsem.ecore}UmlsConcept at 0x7f1dadf86580>,\n",
       " <Element {http:///org/apache/ctakes/typesystem/type/refsem.ecore}UmlsConcept at 0x7f1dadf84400>,\n",
       " <Element {http:///org/apache/ctakes/typesystem/type/refsem.ecore}UmlsConcept at 0x7f1dadf867c0>,\n",
       " <Element {http:///org/apache/ctakes/typesystem/type/refsem.ecore}UmlsConcept at 0x7f1dadf85f40>,\n",
       " <Element {http:///org/apache/ctakes/typesystem/type/refsem.ecore}UmlsConcept at 0x7f1dadf843c0>,\n",
       " <Element {http:///org/apache/ctakes/typesystem/type/refsem.ecore}UmlsConcept at 0x7f1dadf851c0>,\n",
       " <Element {http:///org/apache/ctakes/typesystem/type/refsem.ecore}UmlsConcept at 0x7f1dadf84e40>,\n",
       " <Element {http:///org/apache/ctakes/typesystem/type/refsem.ecore}UmlsConcept at 0x7f1dadf847c0>,\n",
       " <Element {http:///org/apache/ctakes/typesystem/type/refsem.ecore}UmlsConcept at 0x7f1dadf849c0>,\n",
       " <Element {http:///org/apache/ctakes/typesystem/type/refsem.ecore}UmlsConcept at 0x7f1dadf85600>,\n",
       " <Element {http:///org/apache/ctakes/typesystem/type/refsem.ecore}UmlsConcept at 0x7f1dadf84a40>,\n",
       " <Element {http:///org/apache/ctakes/typesystem/type/refsem.ecore}UmlsConcept at 0x7f1dadf85100>,\n",
       " <Element {http:///org/apache/ctakes/typesystem/type/refsem.ecore}UmlsConcept at 0x7f1dadf84b40>,\n",
       " <Element {http:///org/apache/ctakes/typesystem/type/refsem.ecore}UmlsConcept at 0x7f1dadf86480>,\n",
       " <Element {http:///org/apache/ctakes/typesystem/type/refsem.ecore}UmlsConcept at 0x7f1dadf86300>,\n",
       " <Element {http:///org/apache/ctakes/typesystem/type/refsem.ecore}UmlsConcept at 0x7f1dadf84900>,\n",
       " <Element {http:///org/apache/ctakes/typesystem/type/refsem.ecore}UmlsConcept at 0x7f1dadf85300>,\n",
       " <Element {http:///org/apache/ctakes/typesystem/type/refsem.ecore}UmlsConcept at 0x7f1dadf85840>,\n",
       " <Element {http:///org/apache/ctakes/typesystem/type/refsem.ecore}UmlsConcept at 0x7f1dadf84dc0>,\n",
       " <Element {http:///org/apache/ctakes/typesystem/type/refsem.ecore}UmlsConcept at 0x7f1dadf85180>,\n",
       " <Element {http:///org/apache/ctakes/typesystem/type/refsem.ecore}UmlsConcept at 0x7f1dadf84800>,\n",
       " <Element {http:///org/apache/ctakes/typesystem/type/refsem.ecore}UmlsConcept at 0x7f1dadf84a80>,\n",
       " <Element {http:///org/apache/ctakes/typesystem/type/refsem.ecore}UmlsConcept at 0x7f1dadf84880>,\n",
       " <Element {http:///org/apache/ctakes/typesystem/type/refsem.ecore}UmlsConcept at 0x7f1dadf84500>,\n",
       " <Element {http:///org/apache/ctakes/typesystem/type/refsem.ecore}UmlsConcept at 0x7f1dadf845c0>,\n",
       " <Element {http:///org/apache/ctakes/typesystem/type/refsem.ecore}UmlsConcept at 0x7f1dadf871c0>,\n",
       " <Element {http:///org/apache/ctakes/typesystem/type/refsem.ecore}UmlsConcept at 0x7f1dadf878c0>,\n",
       " <Element {http:///org/apache/ctakes/typesystem/type/refsem.ecore}UmlsConcept at 0x7f1dadf87b00>,\n",
       " <Element {http:///org/apache/ctakes/typesystem/type/refsem.ecore}UmlsConcept at 0x7f1dadf87bc0>,\n",
       " <Element {http:///org/apache/ctakes/typesystem/type/refsem.ecore}UmlsConcept at 0x7f1dadf87d40>,\n",
       " <Element {http:///org/apache/ctakes/typesystem/type/refsem.ecore}UmlsConcept at 0x7f1dadf84b00>,\n",
       " <Element {http:///org/apache/ctakes/typesystem/type/refsem.ecore}UmlsConcept at 0x7f1dadf84700>,\n",
       " <Element {http:///org/apache/ctakes/typesystem/type/refsem.ecore}UmlsConcept at 0x7f1dadf87a40>,\n",
       " <Element {http:///org/apache/ctakes/typesystem/type/refsem.ecore}UmlsConcept at 0x7f1dadf84e80>,\n",
       " <Element {http:///org/apache/ctakes/typesystem/type/refsem.ecore}UmlsConcept at 0x7f1dadf86ac0>,\n",
       " <Element {http:///org/apache/ctakes/typesystem/type/refsem.ecore}UmlsConcept at 0x7f1dadf848c0>,\n",
       " <Element {http:///org/apache/ctakes/typesystem/type/refsem.ecore}UmlsConcept at 0x7f1dadf84940>,\n",
       " <Element {http:///org/apache/ctakes/typesystem/type/refsem.ecore}UmlsConcept at 0x7f1dadf84ac0>,\n",
       " <Element {http:///org/apache/ctakes/typesystem/type/refsem.ecore}UmlsConcept at 0x7f1dadf87100>,\n",
       " <Element {http:///org/apache/ctakes/typesystem/type/refsem.ecore}UmlsConcept at 0x7f1dadf84980>,\n",
       " <Element {http:///org/apache/ctakes/typesystem/type/refsem.ecore}UmlsConcept at 0x7f1dadf84a00>,\n",
       " <Element {http:///org/apache/ctakes/typesystem/type/refsem.ecore}UmlsConcept at 0x7f1dadf86f80>,\n",
       " <Element {http:///org/apache/ctakes/typesystem/type/refsem.ecore}UmlsConcept at 0x7f1dadf86540>,\n",
       " <Element {http:///org/apache/ctakes/typesystem/type/refsem.ecore}UmlsConcept at 0x7f1dadf863c0>,\n",
       " <Element {http:///org/apache/ctakes/typesystem/type/refsem.ecore}UmlsConcept at 0x7f1dadf86880>,\n",
       " <Element {http:///org/apache/ctakes/typesystem/type/refsem.ecore}UmlsConcept at 0x7f1dadf86700>,\n",
       " <Element {http:///org/apache/ctakes/typesystem/type/refsem.ecore}UmlsConcept at 0x7f1dadf86240>,\n",
       " <Element {http:///org/apache/ctakes/typesystem/type/refsem.ecore}UmlsConcept at 0x7f1dadf856c0>,\n",
       " <Element {http:///org/apache/ctakes/typesystem/type/refsem.ecore}UmlsConcept at 0x7f1dadf85340>,\n",
       " <Element {http:///org/apache/ctakes/typesystem/type/refsem.ecore}UmlsConcept at 0x7f1dadf86000>,\n",
       " <Element {http:///org/apache/ctakes/typesystem/type/refsem.ecore}UmlsConcept at 0x7f1dadf85a80>,\n",
       " <Element {http:///org/apache/ctakes/typesystem/type/refsem.ecore}UmlsConcept at 0x7f1dadf852c0>,\n",
       " <Element {http:///org/apache/ctakes/typesystem/type/refsem.ecore}UmlsConcept at 0x7f1dadf85080>,\n",
       " <Element {http:///org/apache/ctakes/typesystem/type/refsem.ecore}UmlsConcept at 0x7f1dadf85140>,\n",
       " <Element {http:///org/apache/ctakes/typesystem/type/refsem.ecore}UmlsConcept at 0x7f1dadf85280>,\n",
       " <Element {http:///org/apache/ctakes/typesystem/type/refsem.ecore}UmlsConcept at 0x7f1dadf85200>,\n",
       " <Element {http:///org/apache/ctakes/typesystem/type/refsem.ecore}UmlsConcept at 0x7f1dadf850c0>,\n",
       " <Element {http:///org/apache/ctakes/typesystem/type/refsem.ecore}UmlsConcept at 0x7f1dadf84ec0>,\n",
       " <Element {http:///org/apache/ctakes/typesystem/type/refsem.ecore}UmlsConcept at 0x7f1dadf84e00>,\n",
       " <Element {http:///org/apache/ctakes/typesystem/type/refsem.ecore}UmlsConcept at 0x7f1dadf85000>,\n",
       " <Element {http:///org/apache/ctakes/typesystem/type/refsem.ecore}UmlsConcept at 0x7f1dadf84f80>,\n",
       " <Element {http:///org/apache/ctakes/typesystem/type/refsem.ecore}UmlsConcept at 0x7f1dadf84d80>,\n",
       " <Element {http:///org/apache/ctakes/typesystem/type/refsem.ecore}UmlsConcept at 0x7f1dadf84c00>,\n",
       " <Element {http:///org/apache/ctakes/typesystem/type/refsem.ecore}UmlsConcept at 0x7f1dadf84780>,\n",
       " <Element {http:///org/apache/ctakes/typesystem/type/refsem.ecore}UmlsConcept at 0x7f1dadf84680>,\n",
       " <Element {http:///org/apache/ctakes/typesystem/type/refsem.ecore}UmlsConcept at 0x7f1dadf84bc0>,\n",
       " <Element {http:///org/apache/ctakes/typesystem/type/refsem.ecore}UmlsConcept at 0x7f1dadf84840>,\n",
       " <Element {http:///org/apache/ctakes/typesystem/type/refsem.ecore}UmlsConcept at 0x7f1dadf84580>,\n",
       " <Element {http:///org/apache/ctakes/typesystem/type/refsem.ecore}UmlsConcept at 0x7f1dadf84600>,\n",
       " <Element {http:///org/apache/ctakes/typesystem/type/refsem.ecore}UmlsConcept at 0x7f1dadf84480>,\n",
       " <Element {http:///org/apache/ctakes/typesystem/type/refsem.ecore}UmlsConcept at 0x7f1dadf84d40>,\n",
       " <Element {http:///org/apache/ctakes/typesystem/type/refsem.ecore}UmlsConcept at 0x7f1dadf84cc0>,\n",
       " <Element {http:///org/apache/ctakes/typesystem/type/refsem.ecore}UmlsConcept at 0x7f1dadf87c80>,\n",
       " <Element {http:///org/apache/ctakes/typesystem/type/refsem.ecore}UmlsConcept at 0x7f1dadf90300>,\n",
       " <Element {http:///org/apache/ctakes/typesystem/type/refsem.ecore}UmlsConcept at 0x7f1dadf90c40>,\n",
       " <Element {http:///org/apache/ctakes/typesystem/type/refsem.ecore}UmlsConcept at 0x7f1dadf92b40>,\n",
       " <Element {http:///org/apache/ctakes/typesystem/type/refsem.ecore}UmlsConcept at 0x7f1dadf91700>,\n",
       " <Element {http:///org/apache/ctakes/typesystem/type/refsem.ecore}UmlsConcept at 0x7f1dadf93f80>,\n",
       " <Element {http:///org/apache/ctakes/typesystem/type/refsem.ecore}UmlsConcept at 0x7f1dadf93b80>,\n",
       " <Element {http:///org/apache/ctakes/typesystem/type/refsem.ecore}UmlsConcept at 0x7f1dadf93240>,\n",
       " <Element {http:///org/apache/ctakes/typesystem/type/refsem.ecore}UmlsConcept at 0x7f1dadf92100>,\n",
       " <Element {http:///org/apache/ctakes/typesystem/type/refsem.ecore}UmlsConcept at 0x7f1dadf93e80>,\n",
       " <Element {http:///org/apache/ctakes/typesystem/type/refsem.ecore}UmlsConcept at 0x7f1dadf93480>,\n",
       " <Element {http:///org/apache/ctakes/typesystem/type/refsem.ecore}UmlsConcept at 0x7f1dadf91580>,\n",
       " <Element {http:///org/apache/ctakes/typesystem/type/refsem.ecore}UmlsConcept at 0x7f1dadf90d00>,\n",
       " <Element {http:///org/apache/ctakes/typesystem/type/refsem.ecore}UmlsConcept at 0x7f1dadf929c0>,\n",
       " <Element {http:///org/apache/ctakes/typesystem/type/refsem.ecore}UmlsConcept at 0x7f1dadf8b100>,\n",
       " <Element {http:///org/apache/ctakes/typesystem/type/refsem.ecore}UmlsConcept at 0x7f1dadf8b0c0>,\n",
       " <Element {http:///org/apache/ctakes/typesystem/type/refsem.ecore}UmlsConcept at 0x7f1dadf8b280>,\n",
       " <Element {http:///org/apache/ctakes/typesystem/type/refsem.ecore}UmlsConcept at 0x7f1dadf8b300>,\n",
       " <Element {http:///org/apache/ctakes/typesystem/type/refsem.ecore}UmlsConcept at 0x7f1dadf8b240>,\n",
       " <Element {http:///org/apache/ctakes/typesystem/type/refsem.ecore}UmlsConcept at 0x7f1dadf8b2c0>,\n",
       " <Element {http:///org/apache/ctakes/typesystem/type/refsem.ecore}UmlsConcept at 0x7f1dadf8b340>,\n",
       " <Element {http:///org/apache/ctakes/typesystem/type/refsem.ecore}UmlsConcept at 0x7f1dadf8b200>,\n",
       " <Element {http:///org/apache/ctakes/typesystem/type/refsem.ecore}UmlsConcept at 0x7f1dadf8ab00>,\n",
       " <Element {http:///org/apache/ctakes/typesystem/type/refsem.ecore}UmlsConcept at 0x7f1dadf8aac0>,\n",
       " <Element {http:///org/apache/ctakes/typesystem/type/refsem.ecore}UmlsConcept at 0x7f1dadf8aa80>,\n",
       " <Element {http:///org/apache/ctakes/typesystem/type/refsem.ecore}UmlsConcept at 0x7f1dadf8aa40>,\n",
       " <Element {http:///org/apache/ctakes/typesystem/type/refsem.ecore}UmlsConcept at 0x7f1dadf8aa00>,\n",
       " <Element {http:///org/apache/ctakes/typesystem/type/refsem.ecore}UmlsConcept at 0x7f1dadf8a9c0>,\n",
       " <Element {http:///org/apache/ctakes/typesystem/type/refsem.ecore}UmlsConcept at 0x7f1dadf8a980>,\n",
       " <Element {http:///org/apache/ctakes/typesystem/type/refsem.ecore}UmlsConcept at 0x7f1dadf8a940>,\n",
       " <Element {http:///org/apache/ctakes/typesystem/type/refsem.ecore}UmlsConcept at 0x7f1dadf8a900>,\n",
       " <Element {http:///org/apache/ctakes/typesystem/type/refsem.ecore}UmlsConcept at 0x7f1dadf8a8c0>,\n",
       " <Element {http:///org/apache/ctakes/typesystem/type/refsem.ecore}UmlsConcept at 0x7f1dadf8a880>,\n",
       " <Element {http:///org/apache/ctakes/typesystem/type/refsem.ecore}UmlsConcept at 0x7f1dadf8a840>,\n",
       " <Element {http:///org/apache/ctakes/typesystem/type/refsem.ecore}UmlsConcept at 0x7f1dadf8a800>,\n",
       " <Element {http:///org/apache/ctakes/typesystem/type/refsem.ecore}UmlsConcept at 0x7f1dadf8a7c0>,\n",
       " <Element {http:///org/apache/ctakes/typesystem/type/refsem.ecore}UmlsConcept at 0x7f1dadf8a780>,\n",
       " <Element {http:///org/apache/ctakes/typesystem/type/refsem.ecore}UmlsConcept at 0x7f1dadf8a180>,\n",
       " <Element {http:///org/apache/ctakes/typesystem/type/refsem.ecore}UmlsConcept at 0x7f1dadf8a2c0>,\n",
       " <Element {http:///org/apache/ctakes/typesystem/type/refsem.ecore}UmlsConcept at 0x7f1dadf8a140>,\n",
       " <Element {http:///org/apache/ctakes/typesystem/type/refsem.ecore}UmlsConcept at 0x7f1dadf8a1c0>,\n",
       " <Element {http:///org/apache/ctakes/typesystem/type/refsem.ecore}UmlsConcept at 0x7f1dadf8a240>,\n",
       " <Element {http:///org/apache/ctakes/typesystem/type/refsem.ecore}UmlsConcept at 0x7f1dadf8a280>,\n",
       " <Element {http:///org/apache/ctakes/typesystem/type/refsem.ecore}UmlsConcept at 0x7f1dadf8a300>,\n",
       " <Element {http:///org/apache/ctakes/typesystem/type/refsem.ecore}UmlsConcept at 0x7f1dadf8a380>,\n",
       " <Element {http:///org/apache/ctakes/typesystem/type/refsem.ecore}UmlsConcept at 0x7f1dadf8a3c0>,\n",
       " <Element {http:///org/apache/ctakes/typesystem/type/refsem.ecore}UmlsConcept at 0x7f1dadf8a440>,\n",
       " <Element {http:///org/apache/ctakes/typesystem/type/refsem.ecore}UmlsConcept at 0x7f1dadf8a480>,\n",
       " <Element {http:///org/apache/ctakes/typesystem/type/refsem.ecore}UmlsConcept at 0x7f1dadf8a4c0>,\n",
       " <Element {http:///org/apache/ctakes/typesystem/type/refsem.ecore}UmlsConcept at 0x7f1dadf8a100>,\n",
       " <Element {http:///org/apache/ctakes/typesystem/type/refsem.ecore}UmlsConcept at 0x7f1dadf8a0c0>,\n",
       " <Element {http:///org/apache/ctakes/typesystem/type/refsem.ecore}UmlsConcept at 0x7f1dadf8a080>,\n",
       " <Element {http:///org/apache/ctakes/typesystem/type/refsem.ecore}UmlsConcept at 0x7f1dadf8a040>,\n",
       " <Element {http:///org/apache/ctakes/typesystem/type/refsem.ecore}UmlsConcept at 0x7f1dadf8a000>,\n",
       " <Element {http:///org/apache/ctakes/typesystem/type/refsem.ecore}UmlsConcept at 0x7f1dadf89fc0>,\n",
       " <Element {http:///org/apache/ctakes/typesystem/type/refsem.ecore}UmlsConcept at 0x7f1dadf89f80>,\n",
       " <Element {http:///org/apache/ctakes/typesystem/type/refsem.ecore}UmlsConcept at 0x7f1dadf89f40>,\n",
       " <Element {http:///org/apache/ctakes/typesystem/type/refsem.ecore}UmlsConcept at 0x7f1dadf89f00>,\n",
       " <Element {http:///org/apache/ctakes/typesystem/type/refsem.ecore}UmlsConcept at 0x7f1dadf89ec0>,\n",
       " <Element {http:///org/apache/ctakes/typesystem/type/refsem.ecore}UmlsConcept at 0x7f1dadf89e80>,\n",
       " <Element {http:///org/apache/ctakes/typesystem/type/refsem.ecore}UmlsConcept at 0x7f1dadf89e40>,\n",
       " <Element {http:///org/apache/ctakes/typesystem/type/refsem.ecore}UmlsConcept at 0x7f1dadf89e00>,\n",
       " <Element {http:///org/apache/ctakes/typesystem/type/refsem.ecore}UmlsConcept at 0x7f1dadf89dc0>,\n",
       " <Element {http:///org/apache/ctakes/typesystem/type/refsem.ecore}UmlsConcept at 0x7f1dadf89d80>,\n",
       " <Element {http:///org/apache/ctakes/typesystem/type/refsem.ecore}UmlsConcept at 0x7f1dadf89d40>,\n",
       " <Element {http:///org/apache/ctakes/typesystem/type/refsem.ecore}UmlsConcept at 0x7f1dadf89d00>,\n",
       " <Element {http:///org/apache/ctakes/typesystem/type/refsem.ecore}UmlsConcept at 0x7f1dadf89cc0>,\n",
       " <Element {http:///org/apache/ctakes/typesystem/type/refsem.ecore}UmlsConcept at 0x7f1dadf89c80>,\n",
       " <Element {http:///org/apache/ctakes/typesystem/type/refsem.ecore}UmlsConcept at 0x7f1dadf89c40>,\n",
       " <Element {http:///org/apache/ctakes/typesystem/type/refsem.ecore}UmlsConcept at 0x7f1dadf89c00>,\n",
       " <Element {http:///org/apache/ctakes/typesystem/type/refsem.ecore}UmlsConcept at 0x7f1dadf89bc0>,\n",
       " <Element {http:///org/apache/ctakes/typesystem/type/refsem.ecore}UmlsConcept at 0x7f1dadf89b80>,\n",
       " <Element {http:///org/apache/ctakes/typesystem/type/refsem.ecore}UmlsConcept at 0x7f1dadf89b40>,\n",
       " <Element {http:///org/apache/ctakes/typesystem/type/refsem.ecore}UmlsConcept at 0x7f1dadf89b00>,\n",
       " <Element {http:///org/apache/ctakes/typesystem/type/refsem.ecore}UmlsConcept at 0x7f1dadf89ac0>,\n",
       " <Element {http:///org/apache/ctakes/typesystem/type/refsem.ecore}UmlsConcept at 0x7f1dadf89a80>,\n",
       " <Element {http:///org/apache/ctakes/typesystem/type/refsem.ecore}UmlsConcept at 0x7f1dadf89a40>,\n",
       " <Element {http:///org/apache/ctakes/typesystem/type/refsem.ecore}UmlsConcept at 0x7f1dadf89a00>,\n",
       " <Element {http:///org/apache/ctakes/typesystem/type/refsem.ecore}UmlsConcept at 0x7f1dadf899c0>,\n",
       " <Element {http:///org/apache/ctakes/typesystem/type/refsem.ecore}UmlsConcept at 0x7f1dadf89980>,\n",
       " <Element {http:///org/apache/ctakes/typesystem/type/refsem.ecore}UmlsConcept at 0x7f1dadf89940>,\n",
       " <Element {http:///org/apache/ctakes/typesystem/type/refsem.ecore}UmlsConcept at 0x7f1dadf89900>,\n",
       " <Element {http:///org/apache/ctakes/typesystem/type/refsem.ecore}UmlsConcept at 0x7f1dadf898c0>,\n",
       " <Element {http:///org/apache/ctakes/typesystem/type/refsem.ecore}UmlsConcept at 0x7f1dadf89880>,\n",
       " <Element {http:///org/apache/ctakes/typesystem/type/refsem.ecore}UmlsConcept at 0x7f1dadf89840>,\n",
       " <Element {http:///org/apache/ctakes/typesystem/type/refsem.ecore}UmlsConcept at 0x7f1dadf89800>,\n",
       " <Element {http:///org/apache/ctakes/typesystem/type/refsem.ecore}UmlsConcept at 0x7f1dadf897c0>,\n",
       " <Element {http:///org/apache/ctakes/typesystem/type/refsem.ecore}UmlsConcept at 0x7f1dadf89780>,\n",
       " <Element {http:///org/apache/ctakes/typesystem/type/refsem.ecore}UmlsConcept at 0x7f1dadf89740>,\n",
       " <Element {http:///org/apache/ctakes/typesystem/type/refsem.ecore}UmlsConcept at 0x7f1dadf89700>,\n",
       " <Element {http:///org/apache/ctakes/typesystem/type/refsem.ecore}UmlsConcept at 0x7f1dadf896c0>,\n",
       " <Element {http:///org/apache/ctakes/typesystem/type/refsem.ecore}UmlsConcept at 0x7f1dadf89680>,\n",
       " <Element {http:///org/apache/ctakes/typesystem/type/refsem.ecore}UmlsConcept at 0x7f1dadf89640>,\n",
       " <Element {http:///org/apache/ctakes/typesystem/type/refsem.ecore}UmlsConcept at 0x7f1dadf89600>,\n",
       " <Element {http:///org/apache/ctakes/typesystem/type/refsem.ecore}UmlsConcept at 0x7f1dadf895c0>,\n",
       " <Element {http:///org/apache/ctakes/typesystem/type/refsem.ecore}UmlsConcept at 0x7f1dadf89580>,\n",
       " <Element {http:///org/apache/ctakes/typesystem/type/refsem.ecore}UmlsConcept at 0x7f1dadf89540>,\n",
       " <Element {http:///org/apache/ctakes/typesystem/type/refsem.ecore}UmlsConcept at 0x7f1dadf89500>,\n",
       " <Element {http:///org/apache/ctakes/typesystem/type/refsem.ecore}UmlsConcept at 0x7f1dadf894c0>,\n",
       " <Element {http:///org/apache/ctakes/typesystem/type/refsem.ecore}UmlsConcept at 0x7f1dadf89480>,\n",
       " <Element {http:///org/apache/ctakes/typesystem/type/refsem.ecore}UmlsConcept at 0x7f1dadf89440>,\n",
       " <Element {http:///org/apache/ctakes/typesystem/type/refsem.ecore}UmlsConcept at 0x7f1dadf89400>,\n",
       " <Element {http:///org/apache/ctakes/typesystem/type/refsem.ecore}UmlsConcept at 0x7f1dadf893c0>,\n",
       " <Element {http:///org/apache/ctakes/typesystem/type/refsem.ecore}UmlsConcept at 0x7f1dadf89380>,\n",
       " <Element {http:///org/apache/ctakes/typesystem/type/refsem.ecore}UmlsConcept at 0x7f1dadf89340>,\n",
       " <Element {http:///org/apache/ctakes/typesystem/type/refsem.ecore}UmlsConcept at 0x7f1dadf89300>,\n",
       " <Element {http:///org/apache/ctakes/typesystem/type/refsem.ecore}UmlsConcept at 0x7f1dadf892c0>,\n",
       " <Element {http:///org/apache/ctakes/typesystem/type/refsem.ecore}UmlsConcept at 0x7f1dadf89280>,\n",
       " <Element {http:///org/apache/ctakes/typesystem/type/refsem.ecore}UmlsConcept at 0x7f1dadf89240>,\n",
       " <Element {http:///org/apache/ctakes/typesystem/type/refsem.ecore}UmlsConcept at 0x7f1dadf89200>,\n",
       " <Element {http:///org/apache/ctakes/typesystem/type/refsem.ecore}UmlsConcept at 0x7f1dadf891c0>,\n",
       " <Element {http:///org/apache/ctakes/typesystem/type/refsem.ecore}UmlsConcept at 0x7f1dadf89180>,\n",
       " <Element {http:///org/apache/ctakes/typesystem/type/refsem.ecore}UmlsConcept at 0x7f1dadf89140>,\n",
       " <Element {http:///org/apache/ctakes/typesystem/type/refsem.ecore}UmlsConcept at 0x7f1dadf89100>,\n",
       " <Element {http:///org/apache/ctakes/typesystem/type/refsem.ecore}UmlsConcept at 0x7f1dadf890c0>,\n",
       " <Element {http:///org/apache/ctakes/typesystem/type/refsem.ecore}UmlsConcept at 0x7f1dadf89080>,\n",
       " <Element {http:///org/apache/ctakes/typesystem/type/refsem.ecore}UmlsConcept at 0x7f1dadf89040>,\n",
       " <Element {http:///org/apache/ctakes/typesystem/type/refsem.ecore}UmlsConcept at 0x7f1dadf89000>,\n",
       " <Element {http:///org/apache/ctakes/typesystem/type/refsem.ecore}UmlsConcept at 0x7f1dadf88fc0>,\n",
       " <Element {http:///org/apache/ctakes/typesystem/type/refsem.ecore}UmlsConcept at 0x7f1dadf88f80>,\n",
       " <Element {http:///org/apache/ctakes/typesystem/type/refsem.ecore}UmlsConcept at 0x7f1dadf88f40>,\n",
       " <Element {http:///org/apache/ctakes/typesystem/type/refsem.ecore}UmlsConcept at 0x7f1dadf88f00>,\n",
       " <Element {http:///org/apache/ctakes/typesystem/type/refsem.ecore}UmlsConcept at 0x7f1dadf88ec0>,\n",
       " <Element {http:///org/apache/ctakes/typesystem/type/refsem.ecore}UmlsConcept at 0x7f1dadf88e80>,\n",
       " <Element {http:///org/apache/ctakes/typesystem/type/refsem.ecore}UmlsConcept at 0x7f1dadf88e40>,\n",
       " <Element {http:///org/apache/ctakes/typesystem/type/refsem.ecore}UmlsConcept at 0x7f1dadf88e00>,\n",
       " <Element {http:///org/apache/ctakes/typesystem/type/refsem.ecore}UmlsConcept at 0x7f1dadf88dc0>,\n",
       " <Element {http:///org/apache/ctakes/typesystem/type/refsem.ecore}UmlsConcept at 0x7f1dadf88d80>,\n",
       " <Element {http:///org/apache/ctakes/typesystem/type/refsem.ecore}UmlsConcept at 0x7f1dadf88d40>,\n",
       " <Element {http:///org/apache/ctakes/typesystem/type/refsem.ecore}UmlsConcept at 0x7f1dadf88d00>,\n",
       " <Element {http:///org/apache/ctakes/typesystem/type/refsem.ecore}UmlsConcept at 0x7f1dadf88cc0>,\n",
       " <Element {http:///org/apache/ctakes/typesystem/type/refsem.ecore}UmlsConcept at 0x7f1dadf88c80>,\n",
       " <Element {http:///org/apache/ctakes/typesystem/type/refsem.ecore}UmlsConcept at 0x7f1dadf88c40>,\n",
       " <Element {http:///org/apache/ctakes/typesystem/type/refsem.ecore}UmlsConcept at 0x7f1dadf88c00>,\n",
       " <Element {http:///org/apache/ctakes/typesystem/type/refsem.ecore}UmlsConcept at 0x7f1dadf88bc0>,\n",
       " <Element {http:///org/apache/ctakes/typesystem/type/refsem.ecore}UmlsConcept at 0x7f1dadf88b80>,\n",
       " <Element {http:///org/apache/ctakes/typesystem/type/refsem.ecore}UmlsConcept at 0x7f1dadf88b40>,\n",
       " <Element {http:///org/apache/ctakes/typesystem/type/refsem.ecore}UmlsConcept at 0x7f1dadf88b00>,\n",
       " <Element {http:///org/apache/ctakes/typesystem/type/refsem.ecore}UmlsConcept at 0x7f1dadf88ac0>,\n",
       " <Element {http:///org/apache/ctakes/typesystem/type/refsem.ecore}UmlsConcept at 0x7f1dadf88a80>,\n",
       " <Element {http:///org/apache/ctakes/typesystem/type/refsem.ecore}UmlsConcept at 0x7f1dadf88a40>,\n",
       " <Element {http:///org/apache/ctakes/typesystem/type/refsem.ecore}UmlsConcept at 0x7f1dadf88a00>,\n",
       " <Element {http:///org/apache/ctakes/typesystem/type/refsem.ecore}UmlsConcept at 0x7f1dadf889c0>,\n",
       " <Element {http:///org/apache/ctakes/typesystem/type/refsem.ecore}UmlsConcept at 0x7f1dadf88980>,\n",
       " <Element {http:///org/apache/ctakes/typesystem/type/refsem.ecore}UmlsConcept at 0x7f1dadf88940>,\n",
       " <Element {http:///org/apache/ctakes/typesystem/type/refsem.ecore}UmlsConcept at 0x7f1dadf88900>,\n",
       " <Element {http:///org/apache/ctakes/typesystem/type/refsem.ecore}UmlsConcept at 0x7f1dadf888c0>,\n",
       " <Element {http:///org/apache/ctakes/typesystem/type/refsem.ecore}UmlsConcept at 0x7f1dadf88880>,\n",
       " <Element {http:///org/apache/ctakes/typesystem/type/refsem.ecore}UmlsConcept at 0x7f1dadf88840>,\n",
       " <Element {http:///org/apache/ctakes/typesystem/type/refsem.ecore}UmlsConcept at 0x7f1dadf88800>,\n",
       " <Element {http:///org/apache/ctakes/typesystem/type/refsem.ecore}UmlsConcept at 0x7f1dadf887c0>,\n",
       " <Element {http:///org/apache/ctakes/typesystem/type/refsem.ecore}UmlsConcept at 0x7f1dadf88780>,\n",
       " <Element {http:///org/apache/ctakes/typesystem/type/refsem.ecore}UmlsConcept at 0x7f1dadf88740>,\n",
       " <Element {http:///org/apache/ctakes/typesystem/type/refsem.ecore}UmlsConcept at 0x7f1dadf88700>,\n",
       " <Element {http:///org/apache/ctakes/typesystem/type/refsem.ecore}UmlsConcept at 0x7f1dadf886c0>,\n",
       " <Element {http:///org/apache/ctakes/typesystem/type/refsem.ecore}UmlsConcept at 0x7f1dadf88680>,\n",
       " <Element {http:///org/apache/ctakes/typesystem/type/refsem.ecore}UmlsConcept at 0x7f1dadf88640>,\n",
       " <Element {http:///org/apache/ctakes/typesystem/type/refsem.ecore}UmlsConcept at 0x7f1dadf88600>,\n",
       " <Element {http:///org/apache/ctakes/typesystem/type/refsem.ecore}UmlsConcept at 0x7f1dadf885c0>,\n",
       " <Element {http:///org/apache/ctakes/typesystem/type/refsem.ecore}UmlsConcept at 0x7f1dadf88580>,\n",
       " <Element {http:///org/apache/ctakes/typesystem/type/refsem.ecore}UmlsConcept at 0x7f1dadf88540>,\n",
       " <Element {http:///org/apache/ctakes/typesystem/type/refsem.ecore}UmlsConcept at 0x7f1dadf88500>,\n",
       " <Element {http:///org/apache/ctakes/typesystem/type/refsem.ecore}UmlsConcept at 0x7f1dadf884c0>,\n",
       " <Element {http:///org/apache/ctakes/typesystem/type/refsem.ecore}UmlsConcept at 0x7f1dadf88480>,\n",
       " <Element {http:///org/apache/ctakes/typesystem/type/refsem.ecore}UmlsConcept at 0x7f1dadf88440>,\n",
       " <Element {http:///org/apache/ctakes/typesystem/type/refsem.ecore}UmlsConcept at 0x7f1dadf88400>,\n",
       " <Element {http:///org/apache/ctakes/typesystem/type/refsem.ecore}UmlsConcept at 0x7f1dadf883c0>,\n",
       " <Element {http:///org/apache/ctakes/typesystem/type/refsem.ecore}UmlsConcept at 0x7f1dadf88380>,\n",
       " <Element {http:///org/apache/ctakes/typesystem/type/refsem.ecore}UmlsConcept at 0x7f1dadf88340>,\n",
       " <Element {http:///org/apache/ctakes/typesystem/type/refsem.ecore}UmlsConcept at 0x7f1dadf88300>,\n",
       " <Element {http:///org/apache/ctakes/typesystem/type/refsem.ecore}UmlsConcept at 0x7f1dadf882c0>,\n",
       " <Element {http:///org/apache/ctakes/typesystem/type/refsem.ecore}UmlsConcept at 0x7f1dadf88280>,\n",
       " <Element {http:///org/apache/ctakes/typesystem/type/refsem.ecore}UmlsConcept at 0x7f1dadf88240>,\n",
       " <Element {http:///org/apache/ctakes/typesystem/type/refsem.ecore}UmlsConcept at 0x7f1dadf88200>,\n",
       " <Element {http:///org/apache/ctakes/typesystem/type/refsem.ecore}UmlsConcept at 0x7f1dadf881c0>,\n",
       " <Element {http:///org/apache/ctakes/typesystem/type/refsem.ecore}UmlsConcept at 0x7f1dadf88180>,\n",
       " <Element {http:///org/apache/ctakes/typesystem/type/refsem.ecore}UmlsConcept at 0x7f1dadf8a740>,\n",
       " <Element {http:///org/apache/ctakes/typesystem/type/refsem.ecore}UmlsConcept at 0x7f1dadf8a700>,\n",
       " <Element {http:///org/apache/ctakes/typesystem/type/refsem.ecore}UmlsConcept at 0x7f1dadf8a6c0>,\n",
       " <Element {http:///org/apache/ctakes/typesystem/type/refsem.ecore}UmlsConcept at 0x7f1dadf8a680>,\n",
       " <Element {http:///org/apache/ctakes/typesystem/type/refsem.ecore}UmlsConcept at 0x7f1dadf8a640>,\n",
       " <Element {http:///org/apache/ctakes/typesystem/type/refsem.ecore}UmlsConcept at 0x7f1dadf8a600>,\n",
       " <Element {http:///org/apache/ctakes/typesystem/type/refsem.ecore}UmlsConcept at 0x7f1dadf8a5c0>,\n",
       " <Element {http:///org/apache/ctakes/typesystem/type/refsem.ecore}UmlsConcept at 0x7f1dadf8a580>,\n",
       " <Element {http:///org/apache/ctakes/typesystem/type/refsem.ecore}UmlsConcept at 0x7f1dadf8a500>,\n",
       " <Element {http:///org/apache/ctakes/typesystem/type/refsem.ecore}UmlsConcept at 0x7f1dadf88040>,\n",
       " <Element {http:///org/apache/ctakes/typesystem/type/refsem.ecore}UmlsConcept at 0x7f1dadf88080>,\n",
       " <Element {http:///org/apache/ctakes/typesystem/type/refsem.ecore}UmlsConcept at 0x7f1dadf880c0>,\n",
       " <Element {http:///org/apache/ctakes/typesystem/type/refsem.ecore}UmlsConcept at 0x7f1dadf88140>,\n",
       " <Element {http:///org/apache/ctakes/typesystem/type/refsem.ecore}UmlsConcept at 0x7f1dadf8a540>,\n",
       " <Element {http:///org/apache/ctakes/typesystem/type/refsem.ecore}UmlsConcept at 0x7f1dadf88100>,\n",
       " <Element {http:///org/apache/ctakes/typesystem/type/refsem.ecore}UmlsConcept at 0x7f1dadf8b3c0>,\n",
       " <Element {http:///org/apache/ctakes/typesystem/type/refsem.ecore}UmlsConcept at 0x7f1dadf8b400>,\n",
       " <Element {http:///org/apache/ctakes/typesystem/type/refsem.ecore}UmlsConcept at 0x7f1dadf8b440>,\n",
       " <Element {http:///org/apache/ctakes/typesystem/type/refsem.ecore}UmlsConcept at 0x7f1dadf8b480>,\n",
       " <Element {http:///org/apache/ctakes/typesystem/type/refsem.ecore}UmlsConcept at 0x7f1dadf8b4c0>,\n",
       " <Element {http:///org/apache/ctakes/typesystem/type/refsem.ecore}UmlsConcept at 0x7f1dadf8b500>,\n",
       " <Element {http:///org/apache/ctakes/typesystem/type/refsem.ecore}UmlsConcept at 0x7f1dadf8b540>,\n",
       " <Element {http:///org/apache/ctakes/typesystem/type/refsem.ecore}UmlsConcept at 0x7f1dadf8b580>,\n",
       " <Element {http:///org/apache/ctakes/typesystem/type/refsem.ecore}UmlsConcept at 0x7f1dadf8b5c0>,\n",
       " <Element {http:///org/apache/ctakes/typesystem/type/refsem.ecore}UmlsConcept at 0x7f1dadf8b600>,\n",
       " <Element {http:///org/apache/ctakes/typesystem/type/refsem.ecore}UmlsConcept at 0x7f1dadf8b640>,\n",
       " <Element {http:///org/apache/ctakes/typesystem/type/refsem.ecore}UmlsConcept at 0x7f1dadf8b680>,\n",
       " <Element {http:///org/apache/ctakes/typesystem/type/refsem.ecore}UmlsConcept at 0x7f1dadf8b6c0>,\n",
       " <Element {http:///org/apache/ctakes/typesystem/type/refsem.ecore}UmlsConcept at 0x7f1dadf8b700>,\n",
       " <Element {http:///org/apache/ctakes/typesystem/type/refsem.ecore}UmlsConcept at 0x7f1dadf8b740>,\n",
       " <Element {http:///org/apache/ctakes/typesystem/type/refsem.ecore}UmlsConcept at 0x7f1dadf8b780>,\n",
       " <Element {http:///org/apache/ctakes/typesystem/type/refsem.ecore}UmlsConcept at 0x7f1dadf8b7c0>,\n",
       " <Element {http:///org/apache/ctakes/typesystem/type/refsem.ecore}UmlsConcept at 0x7f1dadf8b800>]"
      ]
     },
     "execution_count": 11,
     "metadata": {},
     "output_type": "execute_result"
    }
   ],
   "source": [
    "root.xpath(clinpipe_dict[\"concept\"][\"umls\"][\"xpath\"], namespaces=namespaces)"
   ]
  },
  {
   "cell_type": "code",
   "execution_count": 35,
   "metadata": {},
   "outputs": [
    {
     "data": {
      "text/plain": [
       "'14992 15002'"
      ]
     },
     "execution_count": 35,
     "metadata": {},
     "output_type": "execute_result"
    }
   ],
   "source": [
    "medi.get(\"ontologyConceptArr\")"
   ]
  },
  {
   "cell_type": "code",
   "execution_count": 30,
   "metadata": {},
   "outputs": [
    {
     "data": {
      "text/plain": [
       "'Flonase'"
      ]
     },
     "execution_count": 30,
     "metadata": {},
     "output_type": "execute_result"
    }
   ],
   "source": [
    "document_text[int(medi.get(\"begin\")):int(medi.get(\"end\"))]"
   ]
  }
 ],
 "metadata": {
  "kernelspec": {
   "display_name": "ctakes",
   "language": "python",
   "name": "python3"
  },
  "language_info": {
   "codemirror_mode": {
    "name": "ipython",
    "version": 3
   },
   "file_extension": ".py",
   "mimetype": "text/x-python",
   "name": "python",
   "nbconvert_exporter": "python",
   "pygments_lexer": "ipython3",
   "version": "3.12.0"
  }
 },
 "nbformat": 4,
 "nbformat_minor": 2
}
