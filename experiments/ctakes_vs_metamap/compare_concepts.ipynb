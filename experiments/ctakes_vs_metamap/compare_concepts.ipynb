{
 "cells": [
  {
   "cell_type": "markdown",
   "metadata": {},
   "source": [
    "# cTakes vs Metamap Concept Extraction Comparison"
   ]
  },
  {
   "cell_type": "code",
   "execution_count": 1,
   "metadata": {},
   "outputs": [],
   "source": [
    "import pandas as pd\n",
    "import matplotlib.pyplot as plt\n",
    "import seaborn as sns\n",
    "sns.set_style(\"darkgrid\")"
   ]
  },
  {
   "cell_type": "markdown",
   "metadata": {},
   "source": [
    "### Reading in data"
   ]
  },
  {
   "cell_type": "markdown",
   "metadata": {},
   "source": [
    "#### Metamap"
   ]
  },
  {
   "cell_type": "code",
   "execution_count": 2,
   "metadata": {},
   "outputs": [
    {
     "data": {
      "text/html": [
       "<div>\n",
       "<style scoped>\n",
       "    .dataframe tbody tr th:only-of-type {\n",
       "        vertical-align: middle;\n",
       "    }\n",
       "\n",
       "    .dataframe tbody tr th {\n",
       "        vertical-align: top;\n",
       "    }\n",
       "\n",
       "    .dataframe thead th {\n",
       "        text-align: right;\n",
       "    }\n",
       "</style>\n",
       "<table border=\"1\" class=\"dataframe\">\n",
       "  <thead>\n",
       "    <tr style=\"text-align: right;\">\n",
       "      <th></th>\n",
       "      <th>file</th>\n",
       "      <th>cui</th>\n",
       "      <th>source</th>\n",
       "      <th>score</th>\n",
       "      <th>matched</th>\n",
       "      <th>preferred</th>\n",
       "      <th>matched_words</th>\n",
       "      <th>semantic_types</th>\n",
       "      <th>is_head</th>\n",
       "      <th>negated</th>\n",
       "      <th>norm_file</th>\n",
       "    </tr>\n",
       "  </thead>\n",
       "  <tbody>\n",
       "    <tr>\n",
       "      <th>0</th>\n",
       "      <td>mtsamples-type-70-sample-110.txt.json</td>\n",
       "      <td>C0370003</td>\n",
       "      <td>SNOMEDCT_US</td>\n",
       "      <td>-645</td>\n",
       "      <td>Specimen</td>\n",
       "      <td>Specimen</td>\n",
       "      <td>['sample']</td>\n",
       "      <td>['sbst']</td>\n",
       "      <td>False</td>\n",
       "      <td>False</td>\n",
       "      <td>mtsamples-type-70-sample-110</td>\n",
       "    </tr>\n",
       "    <tr>\n",
       "      <th>1</th>\n",
       "      <td>mtsamples-type-70-sample-110.txt.json</td>\n",
       "      <td>C0332307</td>\n",
       "      <td>SNOMEDCT_US</td>\n",
       "      <td>-645</td>\n",
       "      <td>Type - attribute</td>\n",
       "      <td>Type - attribute</td>\n",
       "      <td>['type']</td>\n",
       "      <td>['qlco']</td>\n",
       "      <td>False</td>\n",
       "      <td>False</td>\n",
       "      <td>mtsamples-type-70-sample-110</td>\n",
       "    </tr>\n",
       "    <tr>\n",
       "      <th>2</th>\n",
       "      <td>mtsamples-type-70-sample-110.txt.json</td>\n",
       "      <td>C0037778</td>\n",
       "      <td>SNOMEDCT_US</td>\n",
       "      <td>-861</td>\n",
       "      <td>Medical speciality</td>\n",
       "      <td>Medical Specialities</td>\n",
       "      <td>['medical', 'specialty']</td>\n",
       "      <td>['bmod']</td>\n",
       "      <td>True</td>\n",
       "      <td>False</td>\n",
       "      <td>mtsamples-type-70-sample-110</td>\n",
       "    </tr>\n",
       "  </tbody>\n",
       "</table>\n",
       "</div>"
      ],
      "text/plain": [
       "                                    file       cui       source  score  \\\n",
       "0  mtsamples-type-70-sample-110.txt.json  C0370003  SNOMEDCT_US   -645   \n",
       "1  mtsamples-type-70-sample-110.txt.json  C0332307  SNOMEDCT_US   -645   \n",
       "2  mtsamples-type-70-sample-110.txt.json  C0037778  SNOMEDCT_US   -861   \n",
       "\n",
       "              matched             preferred             matched_words  \\\n",
       "0            Specimen              Specimen                ['sample']   \n",
       "1    Type - attribute      Type - attribute                  ['type']   \n",
       "2  Medical speciality  Medical Specialities  ['medical', 'specialty']   \n",
       "\n",
       "  semantic_types  is_head  negated                     norm_file  \n",
       "0       ['sbst']    False    False  mtsamples-type-70-sample-110  \n",
       "1       ['qlco']    False    False  mtsamples-type-70-sample-110  \n",
       "2       ['bmod']     True    False  mtsamples-type-70-sample-110  "
      ]
     },
     "execution_count": 2,
     "metadata": {},
     "output_type": "execute_result"
    }
   ],
   "source": [
    "metamap = pd.read_csv(\"data/metamap_mappings.csv\")\n",
    "metamap[\"norm_file\"] = metamap.file.apply(lambda x: x.split(\".\")[0])\n",
    "metamap.head(3)"
   ]
  },
  {
   "cell_type": "markdown",
   "metadata": {},
   "source": [
    "#### cTakes"
   ]
  },
  {
   "cell_type": "code",
   "execution_count": 3,
   "metadata": {},
   "outputs": [
    {
     "data": {
      "text/html": [
       "<div>\n",
       "<style scoped>\n",
       "    .dataframe tbody tr th:only-of-type {\n",
       "        vertical-align: middle;\n",
       "    }\n",
       "\n",
       "    .dataframe tbody tr th {\n",
       "        vertical-align: top;\n",
       "    }\n",
       "\n",
       "    .dataframe thead th {\n",
       "        text-align: right;\n",
       "    }\n",
       "</style>\n",
       "<table border=\"1\" class=\"dataframe\">\n",
       "  <thead>\n",
       "    <tr style=\"text-align: right;\">\n",
       "      <th></th>\n",
       "      <th>file</th>\n",
       "      <th>id</th>\n",
       "      <th>codingScheme</th>\n",
       "      <th>code</th>\n",
       "      <th>score</th>\n",
       "      <th>disambiguated</th>\n",
       "      <th>cui</th>\n",
       "      <th>tui</th>\n",
       "      <th>preferredText</th>\n",
       "      <th>norm_file</th>\n",
       "    </tr>\n",
       "  </thead>\n",
       "  <tbody>\n",
       "    <tr>\n",
       "      <th>0</th>\n",
       "      <td>mtsamples-type-70-sample-1650.txt.xmi</td>\n",
       "      <td>8167</td>\n",
       "      <td>SNOMEDCT_US</td>\n",
       "      <td>322837006.0</td>\n",
       "      <td>0.0</td>\n",
       "      <td>False</td>\n",
       "      <td>C0355642</td>\n",
       "      <td>T121</td>\n",
       "      <td>Drugs used in migraine prophylaxis</td>\n",
       "      <td>mtsamples-type-70-sample-1650</td>\n",
       "    </tr>\n",
       "    <tr>\n",
       "      <th>1</th>\n",
       "      <td>mtsamples-type-70-sample-1650.txt.xmi</td>\n",
       "      <td>8210</td>\n",
       "      <td>SNOMEDCT_US</td>\n",
       "      <td>255631004.0</td>\n",
       "      <td>0.0</td>\n",
       "      <td>False</td>\n",
       "      <td>C0003232</td>\n",
       "      <td>T195</td>\n",
       "      <td>Antibiotics</td>\n",
       "      <td>mtsamples-type-70-sample-1650</td>\n",
       "    </tr>\n",
       "    <tr>\n",
       "      <th>2</th>\n",
       "      <td>mtsamples-type-70-sample-1650.txt.xmi</td>\n",
       "      <td>8901</td>\n",
       "      <td>SNOMEDCT_US</td>\n",
       "      <td>13924000.0</td>\n",
       "      <td>0.0</td>\n",
       "      <td>False</td>\n",
       "      <td>C0043250</td>\n",
       "      <td>T037</td>\n",
       "      <td>Injury wounds</td>\n",
       "      <td>mtsamples-type-70-sample-1650</td>\n",
       "    </tr>\n",
       "  </tbody>\n",
       "</table>\n",
       "</div>"
      ],
      "text/plain": [
       "                                    file    id codingScheme         code  \\\n",
       "0  mtsamples-type-70-sample-1650.txt.xmi  8167  SNOMEDCT_US  322837006.0   \n",
       "1  mtsamples-type-70-sample-1650.txt.xmi  8210  SNOMEDCT_US  255631004.0   \n",
       "2  mtsamples-type-70-sample-1650.txt.xmi  8901  SNOMEDCT_US   13924000.0   \n",
       "\n",
       "   score  disambiguated       cui   tui                       preferredText  \\\n",
       "0    0.0          False  C0355642  T121  Drugs used in migraine prophylaxis   \n",
       "1    0.0          False  C0003232  T195                         Antibiotics   \n",
       "2    0.0          False  C0043250  T037                       Injury wounds   \n",
       "\n",
       "                       norm_file  \n",
       "0  mtsamples-type-70-sample-1650  \n",
       "1  mtsamples-type-70-sample-1650  \n",
       "2  mtsamples-type-70-sample-1650  "
      ]
     },
     "execution_count": 3,
     "metadata": {},
     "output_type": "execute_result"
    }
   ],
   "source": [
    "ctakes = pd.read_csv(\"data/ctake_concepts.csv\")\n",
    "ctakes[\"norm_file\"] = ctakes.file.apply(lambda x: x.split(\".\")[0])\n",
    "ctakes = ctakes.rename(columns={\"{http://www.omg.org/XMI}id\": \"id\"})\n",
    "ctakes.head(3)"
   ]
  },
  {
   "cell_type": "markdown",
   "metadata": {},
   "source": [
    "#### Semantic Types"
   ]
  },
  {
   "cell_type": "code",
   "execution_count": 61,
   "metadata": {},
   "outputs": [
    {
     "data": {
      "text/html": [
       "<div>\n",
       "<style scoped>\n",
       "    .dataframe tbody tr th:only-of-type {\n",
       "        vertical-align: middle;\n",
       "    }\n",
       "\n",
       "    .dataframe tbody tr th {\n",
       "        vertical-align: top;\n",
       "    }\n",
       "\n",
       "    .dataframe thead th {\n",
       "        text-align: right;\n",
       "    }\n",
       "</style>\n",
       "<table border=\"1\" class=\"dataframe\">\n",
       "  <thead>\n",
       "    <tr style=\"text-align: right;\">\n",
       "      <th></th>\n",
       "      <th>abbrev</th>\n",
       "      <th>name</th>\n",
       "      <th>tui</th>\n",
       "      <th>type_name</th>\n",
       "    </tr>\n",
       "  </thead>\n",
       "  <tbody>\n",
       "    <tr>\n",
       "      <th>0</th>\n",
       "      <td>ACTI</td>\n",
       "      <td>Activities &amp; Behaviors</td>\n",
       "      <td>T052</td>\n",
       "      <td>Activity</td>\n",
       "    </tr>\n",
       "    <tr>\n",
       "      <th>1</th>\n",
       "      <td>ACTI</td>\n",
       "      <td>Activities &amp; Behaviors</td>\n",
       "      <td>T053</td>\n",
       "      <td>Behavior</td>\n",
       "    </tr>\n",
       "    <tr>\n",
       "      <th>2</th>\n",
       "      <td>ACTI</td>\n",
       "      <td>Activities &amp; Behaviors</td>\n",
       "      <td>T056</td>\n",
       "      <td>Daily or Recreational Activity</td>\n",
       "    </tr>\n",
       "    <tr>\n",
       "      <th>3</th>\n",
       "      <td>ACTI</td>\n",
       "      <td>Activities &amp; Behaviors</td>\n",
       "      <td>T051</td>\n",
       "      <td>Event</td>\n",
       "    </tr>\n",
       "    <tr>\n",
       "      <th>4</th>\n",
       "      <td>ACTI</td>\n",
       "      <td>Activities &amp; Behaviors</td>\n",
       "      <td>T064</td>\n",
       "      <td>Governmental or Regulatory Activity</td>\n",
       "    </tr>\n",
       "  </tbody>\n",
       "</table>\n",
       "</div>"
      ],
      "text/plain": [
       "  abbrev                    name   tui                            type_name\n",
       "0   ACTI  Activities & Behaviors  T052                             Activity\n",
       "1   ACTI  Activities & Behaviors  T053                             Behavior\n",
       "2   ACTI  Activities & Behaviors  T056       Daily or Recreational Activity\n",
       "3   ACTI  Activities & Behaviors  T051                                Event\n",
       "4   ACTI  Activities & Behaviors  T064  Governmental or Regulatory Activity"
      ]
     },
     "execution_count": 61,
     "metadata": {},
     "output_type": "execute_result"
    }
   ],
   "source": [
    "import requests\n",
    "\n",
    "semantic_group_types_url = \"https://lhncbc.nlm.nih.gov/ii/tools/MetaMap/Docs/SemGroups_2018.txt\"\n",
    "semantic_group_types_columns = [\"abbrev\", \"name\", \"tui\", \"type_name\"]\n",
    "\n",
    "response = requests.get(semantic_group_types_url)\n",
    "semantic_groups = pd.DataFrame(map(lambda x: x.split(\"|\"), response.text.split(\"\\n\")), columns=semantic_group_types_columns)\n",
    "semantic_groups = semantic_groups.iloc[:-1,:]\n",
    "semantic_groups.head()"
   ]
  },
  {
   "cell_type": "code",
   "execution_count": 62,
   "metadata": {},
   "outputs": [
    {
     "data": {
      "text/html": [
       "<div>\n",
       "<style scoped>\n",
       "    .dataframe tbody tr th:only-of-type {\n",
       "        vertical-align: middle;\n",
       "    }\n",
       "\n",
       "    .dataframe tbody tr th {\n",
       "        vertical-align: top;\n",
       "    }\n",
       "\n",
       "    .dataframe thead th {\n",
       "        text-align: right;\n",
       "    }\n",
       "</style>\n",
       "<table border=\"1\" class=\"dataframe\">\n",
       "  <thead>\n",
       "    <tr style=\"text-align: right;\">\n",
       "      <th></th>\n",
       "      <th>abbrev</th>\n",
       "      <th>tui</th>\n",
       "      <th>name</th>\n",
       "    </tr>\n",
       "  </thead>\n",
       "  <tbody>\n",
       "    <tr>\n",
       "      <th>0</th>\n",
       "      <td>aapp</td>\n",
       "      <td>T116</td>\n",
       "      <td>Amino Acid, Peptide, or Protein</td>\n",
       "    </tr>\n",
       "    <tr>\n",
       "      <th>1</th>\n",
       "      <td>acab</td>\n",
       "      <td>T020</td>\n",
       "      <td>Acquired Abnormality</td>\n",
       "    </tr>\n",
       "    <tr>\n",
       "      <th>2</th>\n",
       "      <td>acty</td>\n",
       "      <td>T052</td>\n",
       "      <td>Activity</td>\n",
       "    </tr>\n",
       "    <tr>\n",
       "      <th>3</th>\n",
       "      <td>aggp</td>\n",
       "      <td>T100</td>\n",
       "      <td>Age Group</td>\n",
       "    </tr>\n",
       "    <tr>\n",
       "      <th>4</th>\n",
       "      <td>amas</td>\n",
       "      <td>T087</td>\n",
       "      <td>Amino Acid Sequence</td>\n",
       "    </tr>\n",
       "  </tbody>\n",
       "</table>\n",
       "</div>"
      ],
      "text/plain": [
       "  abbrev   tui                             name\n",
       "0   aapp  T116  Amino Acid, Peptide, or Protein\n",
       "1   acab  T020             Acquired Abnormality\n",
       "2   acty  T052                         Activity\n",
       "3   aggp  T100                        Age Group\n",
       "4   amas  T087              Amino Acid Sequence"
      ]
     },
     "execution_count": 62,
     "metadata": {},
     "output_type": "execute_result"
    }
   ],
   "source": [
    "semantic_types_url = \"https://lhncbc.nlm.nih.gov/ii/tools/MetaMap/Docs/SemanticTypes_2018AB.txt\"\n",
    "semantic_types_columns = [\"abbrev\", \"tui\", \"name\"]\n",
    "\n",
    "response = requests.get(semantic_types_url)\n",
    "semantic_types = pd.DataFrame(map(lambda x: x.split(\"|\"), response.text.split(\"\\n\")), columns=semantic_types_columns)\n",
    "semantic_types = semantic_types.iloc[:-1,:]\n",
    "semantic_types.head()"
   ]
  },
  {
   "cell_type": "code",
   "execution_count": 66,
   "metadata": {},
   "outputs": [
    {
     "data": {
      "text/html": [
       "<div>\n",
       "<style scoped>\n",
       "    .dataframe tbody tr th:only-of-type {\n",
       "        vertical-align: middle;\n",
       "    }\n",
       "\n",
       "    .dataframe tbody tr th {\n",
       "        vertical-align: top;\n",
       "    }\n",
       "\n",
       "    .dataframe thead th {\n",
       "        text-align: right;\n",
       "    }\n",
       "</style>\n",
       "<table border=\"1\" class=\"dataframe\">\n",
       "  <thead>\n",
       "    <tr style=\"text-align: right;\">\n",
       "      <th></th>\n",
       "      <th>abbrev_group</th>\n",
       "      <th>name_group</th>\n",
       "      <th>tui</th>\n",
       "      <th>type_name</th>\n",
       "      <th>abbrev_type</th>\n",
       "      <th>name_type</th>\n",
       "    </tr>\n",
       "  </thead>\n",
       "  <tbody>\n",
       "    <tr>\n",
       "      <th>0</th>\n",
       "      <td>ACTI</td>\n",
       "      <td>Activities &amp; Behaviors</td>\n",
       "      <td>T052</td>\n",
       "      <td>Activity</td>\n",
       "      <td>acty</td>\n",
       "      <td>Activity</td>\n",
       "    </tr>\n",
       "    <tr>\n",
       "      <th>1</th>\n",
       "      <td>ACTI</td>\n",
       "      <td>Activities &amp; Behaviors</td>\n",
       "      <td>T053</td>\n",
       "      <td>Behavior</td>\n",
       "      <td>bhvr</td>\n",
       "      <td>Behavior</td>\n",
       "    </tr>\n",
       "    <tr>\n",
       "      <th>2</th>\n",
       "      <td>ACTI</td>\n",
       "      <td>Activities &amp; Behaviors</td>\n",
       "      <td>T056</td>\n",
       "      <td>Daily or Recreational Activity</td>\n",
       "      <td>dora</td>\n",
       "      <td>Daily or Recreational Activity</td>\n",
       "    </tr>\n",
       "    <tr>\n",
       "      <th>3</th>\n",
       "      <td>ACTI</td>\n",
       "      <td>Activities &amp; Behaviors</td>\n",
       "      <td>T051</td>\n",
       "      <td>Event</td>\n",
       "      <td>evnt</td>\n",
       "      <td>Event</td>\n",
       "    </tr>\n",
       "    <tr>\n",
       "      <th>4</th>\n",
       "      <td>ACTI</td>\n",
       "      <td>Activities &amp; Behaviors</td>\n",
       "      <td>T064</td>\n",
       "      <td>Governmental or Regulatory Activity</td>\n",
       "      <td>gora</td>\n",
       "      <td>Governmental or Regulatory Activity</td>\n",
       "    </tr>\n",
       "  </tbody>\n",
       "</table>\n",
       "</div>"
      ],
      "text/plain": [
       "  abbrev_group              name_group   tui  \\\n",
       "0         ACTI  Activities & Behaviors  T052   \n",
       "1         ACTI  Activities & Behaviors  T053   \n",
       "2         ACTI  Activities & Behaviors  T056   \n",
       "3         ACTI  Activities & Behaviors  T051   \n",
       "4         ACTI  Activities & Behaviors  T064   \n",
       "\n",
       "                             type_name abbrev_type  \\\n",
       "0                             Activity        acty   \n",
       "1                             Behavior        bhvr   \n",
       "2       Daily or Recreational Activity        dora   \n",
       "3                                Event        evnt   \n",
       "4  Governmental or Regulatory Activity        gora   \n",
       "\n",
       "                             name_type  \n",
       "0                             Activity  \n",
       "1                             Behavior  \n",
       "2       Daily or Recreational Activity  \n",
       "3                                Event  \n",
       "4  Governmental or Regulatory Activity  "
      ]
     },
     "execution_count": 66,
     "metadata": {},
     "output_type": "execute_result"
    }
   ],
   "source": [
    "semantic_map = pd.merge(semantic_groups, semantic_types, on=\"tui\", suffixes=[\"_group\", \"_type\"])\n",
    "semantic_map.head()"
   ]
  },
  {
   "cell_type": "code",
   "execution_count": 69,
   "metadata": {},
   "outputs": [
    {
     "data": {
      "text/plain": [
       "abbrev_group  name_group                 \n",
       "LIVB          Living Beings                  21\n",
       "CHEM          Chemicals & Drugs              20\n",
       "CONC          Concepts & Ideas               12\n",
       "DISO          Disorders                      12\n",
       "ANAT          Anatomy                        11\n",
       "ACTI          Activities & Behaviors          9\n",
       "PHYS          Physiology                      9\n",
       "PROC          Procedures                      7\n",
       "PHEN          Phenomena                       6\n",
       "GENE          Genes & Molecular Sequences     5\n",
       "OBJC          Objects                         5\n",
       "ORGA          Organizations                   4\n",
       "DEVI          Devices                         3\n",
       "OCCU          Occupations                     2\n",
       "GEOG          Geographic Areas                1\n",
       "Name: count, dtype: int64"
      ]
     },
     "execution_count": 69,
     "metadata": {},
     "output_type": "execute_result"
    }
   ],
   "source": [
    "semantic_map.value_counts([\"abbrev_group\", \"name_group\"])"
   ]
  },
  {
   "cell_type": "code",
   "execution_count": 70,
   "metadata": {},
   "outputs": [
    {
     "data": {
      "text/plain": [
       "0               ['sbst']\n",
       "1               ['qlco']\n",
       "2               ['bmod']\n",
       "3               ['topp']\n",
       "4               ['sbst']\n",
       "              ...       \n",
       "6878            ['qnco']\n",
       "6879    ['orch', 'phsu']\n",
       "6880            ['ftcn']\n",
       "6881            ['qnco']\n",
       "6882    ['orch', 'phsu']\n",
       "Name: semantic_types, Length: 6883, dtype: object"
      ]
     },
     "execution_count": 70,
     "metadata": {},
     "output_type": "execute_result"
    }
   ],
   "source": [
    "metamap.semantic_types"
   ]
  },
  {
   "cell_type": "markdown",
   "metadata": {},
   "source": [
    "## Analysis"
   ]
  },
  {
   "cell_type": "markdown",
   "metadata": {},
   "source": [
    "### Typing Analysis"
   ]
  },
  {
   "cell_type": "code",
   "execution_count": 35,
   "metadata": {},
   "outputs": [],
   "source": [
    "import re\n",
    "\n",
    "def strlist_to_list(strlist: str) -> list:\n",
    "    pattern = re.compile(r\"\\'(\\w+)\\'\")\n",
    "    return re.findall(pattern, strlist)\n",
    "\n",
    "def map_upper(texts: list) -> str:\n",
    "    upper_list = []\n",
    "\n",
    "    for text in texts:\n",
    "        upper_list.append(str(text).upper())\n",
    "    return upper_list"
   ]
  },
  {
   "cell_type": "markdown",
   "metadata": {},
   "source": [
    "All multi-types can be broken down into single groups."
   ]
  },
  {
   "cell_type": "code",
   "execution_count": 90,
   "metadata": {},
   "outputs": [
    {
     "data": {
      "text/plain": [
       "[(['CHEM'], 1, ['orch', 'phsu', 'vita']),\n",
       " (['CHEM'], 1, ['orch', 'phsu']),\n",
       " (['CHEM'], 1, ['horm', 'orch', 'phsu']),\n",
       " (['CHEM'], 1, ['hcro', 'mnob']),\n",
       " (['CHEM'], 1, ['bodm', 'orch']),\n",
       " (['CHEM'], 1, ['nnon', 'phsu']),\n",
       " (['CHEM'], 1, ['inch', 'phsu']),\n",
       " (['CHEM'], 1, ['tisu', 'topp']),\n",
       " (['CHEM'], 1, ['elii', 'hops']),\n",
       " (['CHEM'], 1, ['bacs', 'elii', 'phsu']),\n",
       " (['CHEM'], 1, ['antb', 'orch']),\n",
       " (['CHEM'], 1, ['aapp', 'antb']),\n",
       " (['CHEM'], 1, ['aapp', 'phsu']),\n",
       " (['CHEM'], 1, ['aapp', 'bacs', 'phsu']),\n",
       " (['CHEM'], 1, ['elii', 'phsu']),\n",
       " (['CHEM'], 1, ['aapp', 'imft'])]"
      ]
     },
     "execution_count": 90,
     "metadata": {},
     "output_type": "execute_result"
    }
   ],
   "source": [
    "meatmap_sems = list(map(strlist_to_list, metamap.semantic_types.unique()))\n",
    "multi_meatmap_sems = list(filter(lambda x: len(x) > 1, meatmap_sems))\n",
    "\n",
    "sems2 = []\n",
    "for sems in multi_meatmap_sems:\n",
    "    group = semantic_map.loc[semantic_map.abbrev_type.isin(['orch', 'phsu', 'vita']), \"abbrev_group\"].unique().tolist()\n",
    "    sems2.append(\n",
    "        (\n",
    "            group,\n",
    "            len(group),\n",
    "            sems,\n",
    "        )\n",
    "    )\n",
    "\n",
    "sems2"
   ]
  },
  {
   "cell_type": "code",
   "execution_count": 103,
   "metadata": {},
   "outputs": [
    {
     "data": {
      "text/html": [
       "<div>\n",
       "<style scoped>\n",
       "    .dataframe tbody tr th:only-of-type {\n",
       "        vertical-align: middle;\n",
       "    }\n",
       "\n",
       "    .dataframe tbody tr th {\n",
       "        vertical-align: top;\n",
       "    }\n",
       "\n",
       "    .dataframe thead th {\n",
       "        text-align: right;\n",
       "    }\n",
       "</style>\n",
       "<table border=\"1\" class=\"dataframe\">\n",
       "  <thead>\n",
       "    <tr style=\"text-align: right;\">\n",
       "      <th></th>\n",
       "      <th>semantic_types</th>\n",
       "    </tr>\n",
       "  </thead>\n",
       "  <tbody>\n",
       "    <tr>\n",
       "      <th>0</th>\n",
       "      <td>sbst</td>\n",
       "    </tr>\n",
       "    <tr>\n",
       "      <th>1</th>\n",
       "      <td>qlco</td>\n",
       "    </tr>\n",
       "    <tr>\n",
       "      <th>2</th>\n",
       "      <td>bmod</td>\n",
       "    </tr>\n",
       "    <tr>\n",
       "      <th>3</th>\n",
       "      <td>topp</td>\n",
       "    </tr>\n",
       "    <tr>\n",
       "      <th>4</th>\n",
       "      <td>sbst</td>\n",
       "    </tr>\n",
       "    <tr>\n",
       "      <th>...</th>\n",
       "      <td>...</td>\n",
       "    </tr>\n",
       "    <tr>\n",
       "      <th>6878</th>\n",
       "      <td>qnco</td>\n",
       "    </tr>\n",
       "    <tr>\n",
       "      <th>6879</th>\n",
       "      <td>orch</td>\n",
       "    </tr>\n",
       "    <tr>\n",
       "      <th>6880</th>\n",
       "      <td>ftcn</td>\n",
       "    </tr>\n",
       "    <tr>\n",
       "      <th>6881</th>\n",
       "      <td>qnco</td>\n",
       "    </tr>\n",
       "    <tr>\n",
       "      <th>6882</th>\n",
       "      <td>orch</td>\n",
       "    </tr>\n",
       "  </tbody>\n",
       "</table>\n",
       "<p>6883 rows × 1 columns</p>\n",
       "</div>"
      ],
      "text/plain": [
       "     semantic_types\n",
       "0              sbst\n",
       "1              qlco\n",
       "2              bmod\n",
       "3              topp\n",
       "4              sbst\n",
       "...             ...\n",
       "6878           qnco\n",
       "6879           orch\n",
       "6880           ftcn\n",
       "6881           qnco\n",
       "6882           orch\n",
       "\n",
       "[6883 rows x 1 columns]"
      ]
     },
     "execution_count": 103,
     "metadata": {},
     "output_type": "execute_result"
    }
   ],
   "source": [
    "semantic_map\n",
    "metamap.semantic_types.apply(lambda x: strlist_to_list(x)[0]).to_frame()"
   ]
  },
  {
   "cell_type": "code",
   "execution_count": 109,
   "metadata": {},
   "outputs": [
    {
     "data": {
      "text/html": [
       "<div>\n",
       "<style scoped>\n",
       "    .dataframe tbody tr th:only-of-type {\n",
       "        vertical-align: middle;\n",
       "    }\n",
       "\n",
       "    .dataframe tbody tr th {\n",
       "        vertical-align: top;\n",
       "    }\n",
       "\n",
       "    .dataframe thead th {\n",
       "        text-align: right;\n",
       "    }\n",
       "</style>\n",
       "<table border=\"1\" class=\"dataframe\">\n",
       "  <thead>\n",
       "    <tr style=\"text-align: right;\">\n",
       "      <th></th>\n",
       "      <th>file</th>\n",
       "      <th>cui</th>\n",
       "      <th>source</th>\n",
       "      <th>score</th>\n",
       "      <th>matched</th>\n",
       "      <th>preferred</th>\n",
       "      <th>matched_words</th>\n",
       "      <th>semantic_types</th>\n",
       "      <th>is_head</th>\n",
       "      <th>negated</th>\n",
       "      <th>norm_file</th>\n",
       "      <th>tui</th>\n",
       "    </tr>\n",
       "  </thead>\n",
       "  <tbody>\n",
       "    <tr>\n",
       "      <th>0</th>\n",
       "      <td>mtsamples-type-70-sample-110.txt.json</td>\n",
       "      <td>C0370003</td>\n",
       "      <td>SNOMEDCT_US</td>\n",
       "      <td>-645</td>\n",
       "      <td>Specimen</td>\n",
       "      <td>Specimen</td>\n",
       "      <td>['sample']</td>\n",
       "      <td>['sbst']</td>\n",
       "      <td>False</td>\n",
       "      <td>False</td>\n",
       "      <td>mtsamples-type-70-sample-110</td>\n",
       "      <td>T052</td>\n",
       "    </tr>\n",
       "    <tr>\n",
       "      <th>1</th>\n",
       "      <td>mtsamples-type-70-sample-110.txt.json</td>\n",
       "      <td>C0332307</td>\n",
       "      <td>SNOMEDCT_US</td>\n",
       "      <td>-645</td>\n",
       "      <td>Type - attribute</td>\n",
       "      <td>Type - attribute</td>\n",
       "      <td>['type']</td>\n",
       "      <td>['qlco']</td>\n",
       "      <td>False</td>\n",
       "      <td>False</td>\n",
       "      <td>mtsamples-type-70-sample-110</td>\n",
       "      <td>T052</td>\n",
       "    </tr>\n",
       "    <tr>\n",
       "      <th>2</th>\n",
       "      <td>mtsamples-type-70-sample-110.txt.json</td>\n",
       "      <td>C0037778</td>\n",
       "      <td>SNOMEDCT_US</td>\n",
       "      <td>-861</td>\n",
       "      <td>Medical speciality</td>\n",
       "      <td>Medical Specialities</td>\n",
       "      <td>['medical', 'specialty']</td>\n",
       "      <td>['bmod']</td>\n",
       "      <td>True</td>\n",
       "      <td>False</td>\n",
       "      <td>mtsamples-type-70-sample-110</td>\n",
       "      <td>T052</td>\n",
       "    </tr>\n",
       "    <tr>\n",
       "      <th>3</th>\n",
       "      <td>mtsamples-type-70-sample-110.txt.json</td>\n",
       "      <td>C1318456</td>\n",
       "      <td>SNOMEDCT_US</td>\n",
       "      <td>-913</td>\n",
       "      <td>Cosmetic surgery</td>\n",
       "      <td>Cosmetic surgery</td>\n",
       "      <td>['cosmetic', 'surgery']</td>\n",
       "      <td>['topp']</td>\n",
       "      <td>True</td>\n",
       "      <td>False</td>\n",
       "      <td>mtsamples-type-70-sample-110</td>\n",
       "      <td>T052</td>\n",
       "    </tr>\n",
       "    <tr>\n",
       "      <th>4</th>\n",
       "      <td>mtsamples-type-70-sample-110.txt.json</td>\n",
       "      <td>C0032167</td>\n",
       "      <td>SNOMEDCT_US</td>\n",
       "      <td>-827</td>\n",
       "      <td>Plastic, NOS</td>\n",
       "      <td>Plastics</td>\n",
       "      <td>['plastic']</td>\n",
       "      <td>['sbst']</td>\n",
       "      <td>True</td>\n",
       "      <td>False</td>\n",
       "      <td>mtsamples-type-70-sample-110</td>\n",
       "      <td>T052</td>\n",
       "    </tr>\n",
       "  </tbody>\n",
       "</table>\n",
       "</div>"
      ],
      "text/plain": [
       "                                    file       cui       source  score  \\\n",
       "0  mtsamples-type-70-sample-110.txt.json  C0370003  SNOMEDCT_US   -645   \n",
       "1  mtsamples-type-70-sample-110.txt.json  C0332307  SNOMEDCT_US   -645   \n",
       "2  mtsamples-type-70-sample-110.txt.json  C0037778  SNOMEDCT_US   -861   \n",
       "3  mtsamples-type-70-sample-110.txt.json  C1318456  SNOMEDCT_US   -913   \n",
       "4  mtsamples-type-70-sample-110.txt.json  C0032167  SNOMEDCT_US   -827   \n",
       "\n",
       "              matched             preferred             matched_words  \\\n",
       "0            Specimen              Specimen                ['sample']   \n",
       "1    Type - attribute      Type - attribute                  ['type']   \n",
       "2  Medical speciality  Medical Specialities  ['medical', 'specialty']   \n",
       "3    Cosmetic surgery      Cosmetic surgery   ['cosmetic', 'surgery']   \n",
       "4        Plastic, NOS              Plastics               ['plastic']   \n",
       "\n",
       "  semantic_types  is_head  negated                     norm_file   tui  \n",
       "0       ['sbst']    False    False  mtsamples-type-70-sample-110  T052  \n",
       "1       ['qlco']    False    False  mtsamples-type-70-sample-110  T052  \n",
       "2       ['bmod']     True    False  mtsamples-type-70-sample-110  T052  \n",
       "3       ['topp']     True    False  mtsamples-type-70-sample-110  T052  \n",
       "4       ['sbst']     True    False  mtsamples-type-70-sample-110  T052  "
      ]
     },
     "execution_count": 109,
     "metadata": {},
     "output_type": "execute_result"
    }
   ],
   "source": [
    "metamap[\"tui\"] = pd.merge(\n",
    "    semantic_map.loc[:, [\"abbrev_type\", \"tui\"]],\n",
    "    metamap.semantic_types.apply(lambda x: strlist_to_list(x)[0]).to_frame(),\n",
    "    left_on=\"abbrev_type\",\n",
    "    right_on=\"semantic_types\"\n",
    ").tui\n",
    "metamap.head()"
   ]
  },
  {
   "cell_type": "markdown",
   "metadata": {},
   "source": [
    "### Comparing CUI"
   ]
  },
  {
   "cell_type": "code",
   "execution_count": 92,
   "metadata": {},
   "outputs": [
    {
     "name": "stdout",
     "output_type": "stream",
     "text": [
      "There are 616 unique CUI in ctakes.\n",
      "There are 1409 unique CUI in metamap.\n",
      "There are 420 unique CUI in both ctakes and metamap.\n",
      "There are 196 unique ctakes CUI not in metamap.\n",
      "There are 989 unique metamap CUI not in ctakes.\n"
     ]
    }
   ],
   "source": [
    "ctakes_cui = set(ctakes.cui.unique())\n",
    "metamap_cui = set(metamap.cui.unique())\n",
    "\n",
    "print(\"There are %d unique CUI in ctakes.\" % len(ctakes_cui))\n",
    "print(\"There are %d unique CUI in metamap.\" % len(metamap_cui))\n",
    "print(\"There are %d unique CUI in both ctakes and metamap.\" % len(ctakes_cui.intersection(metamap_cui)))\n",
    "print(\"There are %d unique ctakes CUI not in metamap.\" % len(ctakes_cui.difference(metamap_cui)))\n",
    "print(\"There are %d unique metamap CUI not in ctakes.\" % len(metamap_cui.difference(ctakes_cui)))"
   ]
  },
  {
   "cell_type": "code",
   "execution_count": 9,
   "metadata": {},
   "outputs": [
    {
     "data": {
      "text/html": [
       "<div>\n",
       "<style scoped>\n",
       "    .dataframe tbody tr th:only-of-type {\n",
       "        vertical-align: middle;\n",
       "    }\n",
       "\n",
       "    .dataframe tbody tr th {\n",
       "        vertical-align: top;\n",
       "    }\n",
       "\n",
       "    .dataframe thead th {\n",
       "        text-align: right;\n",
       "    }\n",
       "</style>\n",
       "<table border=\"1\" class=\"dataframe\">\n",
       "  <thead>\n",
       "    <tr style=\"text-align: right;\">\n",
       "      <th></th>\n",
       "      <th></th>\n",
       "      <th>count_ctakes</th>\n",
       "      <th>count_metamap</th>\n",
       "    </tr>\n",
       "    <tr>\n",
       "      <th>norm_file</th>\n",
       "      <th>cui</th>\n",
       "      <th></th>\n",
       "      <th></th>\n",
       "    </tr>\n",
       "  </thead>\n",
       "  <tbody>\n",
       "    <tr>\n",
       "      <th>mtsamples-type-70-sample-188</th>\n",
       "      <th>C0028429</th>\n",
       "      <td>46</td>\n",
       "      <td>2</td>\n",
       "    </tr>\n",
       "    <tr>\n",
       "      <th>mtsamples-type-70-sample-1365</th>\n",
       "      <th>C0018916</th>\n",
       "      <td>42</td>\n",
       "      <td>14</td>\n",
       "    </tr>\n",
       "    <tr>\n",
       "      <th>mtsamples-type-70-sample-109</th>\n",
       "      <th>C0037114</th>\n",
       "      <td>24</td>\n",
       "      <td>1</td>\n",
       "    </tr>\n",
       "  </tbody>\n",
       "</table>\n",
       "</div>"
      ],
      "text/plain": [
       "                                        count_ctakes  count_metamap\n",
       "norm_file                     cui                                  \n",
       "mtsamples-type-70-sample-188  C0028429            46              2\n",
       "mtsamples-type-70-sample-1365 C0018916            42             14\n",
       "mtsamples-type-70-sample-109  C0037114            24              1"
      ]
     },
     "execution_count": 9,
     "metadata": {},
     "output_type": "execute_result"
    }
   ],
   "source": [
    "file_cui_counts = pd.merge(\n",
    "    left=ctakes.value_counts(merge_cols),\n",
    "    right=metamap.value_counts(merge_cols),\n",
    "    on=[\"norm_file\", \"cui\"],\n",
    "    suffixes=[\"_ctakes\", \"_metamap\"]\n",
    ")\n",
    "file_cui_counts.head(3)"
   ]
  },
  {
   "cell_type": "markdown",
   "metadata": {},
   "source": [
    "**CTAKES HAS MORE MENTIONS THAN METAMAP DUE TO ISSUE IN PARSING**\n",
    "\n",
    "Need to seperate `PIs` into seperate instances."
   ]
  },
  {
   "cell_type": "code",
   "execution_count": 10,
   "metadata": {},
   "outputs": [
    {
     "data": {
      "image/png": "[encoded data removed]",
      "text/plain": [
       "<Figure size 640x480 with 1 Axes>"
      ]
     },
     "metadata": {},
     "output_type": "display_data"
    }
   ],
   "source": [
    "file_cui_counts[\"ctakes_minus_metamap\"] = file_cui_counts.count_ctakes - file_cui_counts.count_metamap\n",
    "\n",
    "diff_by_file = sns.boxplot(file_cui_counts.groupby(\"norm_file\").ctakes_minus_metamap.sum().sort_values())\n",
    "diff_by_file.set_title(\"CUI Count Difference by File (ctakes - metamap)\")\n",
    "diff_by_file.set_ylabel(\"Count Difference\")\n",
    "\n",
    "plt.show()"
   ]
  },
  {
   "cell_type": "code",
   "execution_count": 11,
   "metadata": {},
   "outputs": [
    {
     "data": {
      "image/png": "[encoded data removed]",
      "text/plain": [
       "<Figure size 640x480 with 1 Axes>"
      ]
     },
     "metadata": {},
     "output_type": "display_data"
    }
   ],
   "source": [
    "diff_by_file = sns.boxplot(file_cui_counts.groupby(\"cui\").ctakes_minus_metamap.sum().sort_values(), showfliers=False)\n",
    "diff_by_file.set_title(\"File CUI Count Difference by CUI (ctakes - metamap)\")\n",
    "diff_by_file.set_ylabel(\"Count Difference\")\n",
    "\n",
    "plt.show()"
   ]
  }
 ],
 "metadata": {
  "kernelspec": {
   "display_name": "ctakes",
   "language": "python",
   "name": "python3"
  },
  "language_info": {
   "codemirror_mode": {
    "name": "ipython",
    "version": 3
   },
   "file_extension": ".py",
   "mimetype": "text/x-python",
   "name": "python",
   "nbconvert_exporter": "python",
   "pygments_lexer": "ipython3",
   "version": "3.12.0"
  }
 },
 "nbformat": 4,
 "nbformat_minor": 2
}
