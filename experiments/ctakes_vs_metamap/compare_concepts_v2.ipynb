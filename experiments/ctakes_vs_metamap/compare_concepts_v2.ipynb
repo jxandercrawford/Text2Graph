{
 "cells": [
  {
   "cell_type": "markdown",
   "metadata": {},
   "source": [
    "# cTakes vs Metamap Concept Extraction Comparison\n",
    "\n",
    "\n",
    "Metamap was run without word ordering\n"
   ]
  },
  {
   "cell_type": "code",
   "execution_count": 2,
   "metadata": {},
   "outputs": [],
   "source": [
    "import pandas as pd\n",
    "import matplotlib.pyplot as plt\n",
    "import seaborn as sns\n",
    "sns.set_style(\"darkgrid\")"
   ]
  },
  {
   "cell_type": "markdown",
   "metadata": {},
   "source": [
    "### Reading in data"
   ]
  },
  {
   "cell_type": "markdown",
   "metadata": {},
   "source": [
    "#### Metamap"
   ]
  },
  {
   "cell_type": "code",
   "execution_count": 3,
   "metadata": {},
   "outputs": [
    {
     "name": "stdout",
     "output_type": "stream",
     "text": [
      "(1134524, 19)\n"
     ]
    },
    {
     "data": {
      "text/html": [
       "<div>\n",
       "<style scoped>\n",
       "    .dataframe tbody tr th:only-of-type {\n",
       "        vertical-align: middle;\n",
       "    }\n",
       "\n",
       "    .dataframe tbody tr th {\n",
       "        vertical-align: top;\n",
       "    }\n",
       "\n",
       "    .dataframe thead th {\n",
       "        text-align: right;\n",
       "    }\n",
       "</style>\n",
       "<table border=\"1\" class=\"dataframe\">\n",
       "  <thead>\n",
       "    <tr style=\"text-align: right;\">\n",
       "      <th></th>\n",
       "      <th>file</th>\n",
       "      <th>document_id</th>\n",
       "      <th>utterance_id</th>\n",
       "      <th>phrase_id</th>\n",
       "      <th>mapping_id</th>\n",
       "      <th>canidate_id</th>\n",
       "      <th>cui</th>\n",
       "      <th>start_pos</th>\n",
       "      <th>end_pos</th>\n",
       "      <th>document_offset</th>\n",
       "      <th>semantic_types</th>\n",
       "      <th>sources</th>\n",
       "      <th>score</th>\n",
       "      <th>matched</th>\n",
       "      <th>preferred</th>\n",
       "      <th>is_head</th>\n",
       "      <th>negated</th>\n",
       "      <th>file_name</th>\n",
       "      <th>norm_file</th>\n",
       "    </tr>\n",
       "  </thead>\n",
       "  <tbody>\n",
       "    <tr>\n",
       "      <th>0</th>\n",
       "      <td>mtsamples-type-85-sample-1996.txt.json</td>\n",
       "      <td>0</td>\n",
       "      <td>0</td>\n",
       "      <td>0</td>\n",
       "      <td>0</td>\n",
       "      <td>0</td>\n",
       "      <td>C0370003</td>\n",
       "      <td>0</td>\n",
       "      <td>6</td>\n",
       "      <td>0</td>\n",
       "      <td>['sbst']</td>\n",
       "      <td>['SNOMEDCT_US']</td>\n",
       "      <td>-604</td>\n",
       "      <td>Specimen</td>\n",
       "      <td>Specimen</td>\n",
       "      <td>no</td>\n",
       "      <td>False</td>\n",
       "      <td>NaN</td>\n",
       "      <td>mtsamples-type-85-sample-1996</td>\n",
       "    </tr>\n",
       "    <tr>\n",
       "      <th>1</th>\n",
       "      <td>mtsamples-type-85-sample-1996.txt.json</td>\n",
       "      <td>0</td>\n",
       "      <td>0</td>\n",
       "      <td>0</td>\n",
       "      <td>0</td>\n",
       "      <td>1</td>\n",
       "      <td>C0332307</td>\n",
       "      <td>7</td>\n",
       "      <td>11</td>\n",
       "      <td>0</td>\n",
       "      <td>['qlco']</td>\n",
       "      <td>['SNOMEDCT_US']</td>\n",
       "      <td>-604</td>\n",
       "      <td>Type - attribute</td>\n",
       "      <td>Type - attribute</td>\n",
       "      <td>no</td>\n",
       "      <td>False</td>\n",
       "      <td>NaN</td>\n",
       "      <td>mtsamples-type-85-sample-1996</td>\n",
       "    </tr>\n",
       "    <tr>\n",
       "      <th>2</th>\n",
       "      <td>mtsamples-type-85-sample-1996.txt.json</td>\n",
       "      <td>0</td>\n",
       "      <td>0</td>\n",
       "      <td>0</td>\n",
       "      <td>0</td>\n",
       "      <td>2</td>\n",
       "      <td>C0037778</td>\n",
       "      <td>14</td>\n",
       "      <td>31</td>\n",
       "      <td>0</td>\n",
       "      <td>['bmod']</td>\n",
       "      <td>['SNOMEDCT_US']</td>\n",
       "      <td>-833</td>\n",
       "      <td>Medical speciality</td>\n",
       "      <td>Medical Specialities</td>\n",
       "      <td>yes</td>\n",
       "      <td>True</td>\n",
       "      <td>NaN</td>\n",
       "      <td>mtsamples-type-85-sample-1996</td>\n",
       "    </tr>\n",
       "  </tbody>\n",
       "</table>\n",
       "</div>"
      ],
      "text/plain": [
       "                                     file  document_id  utterance_id  \\\n",
       "0  mtsamples-type-85-sample-1996.txt.json            0             0   \n",
       "1  mtsamples-type-85-sample-1996.txt.json            0             0   \n",
       "2  mtsamples-type-85-sample-1996.txt.json            0             0   \n",
       "\n",
       "   phrase_id  mapping_id  canidate_id       cui  start_pos  end_pos  \\\n",
       "0          0           0            0  C0370003          0        6   \n",
       "1          0           0            1  C0332307          7       11   \n",
       "2          0           0            2  C0037778         14       31   \n",
       "\n",
       "   document_offset semantic_types          sources  score             matched  \\\n",
       "0                0       ['sbst']  ['SNOMEDCT_US']   -604            Specimen   \n",
       "1                0       ['qlco']  ['SNOMEDCT_US']   -604    Type - attribute   \n",
       "2                0       ['bmod']  ['SNOMEDCT_US']   -833  Medical speciality   \n",
       "\n",
       "              preferred is_head  negated  file_name  \\\n",
       "0              Specimen      no    False        NaN   \n",
       "1      Type - attribute      no    False        NaN   \n",
       "2  Medical Specialities     yes     True        NaN   \n",
       "\n",
       "                       norm_file  \n",
       "0  mtsamples-type-85-sample-1996  \n",
       "1  mtsamples-type-85-sample-1996  \n",
       "2  mtsamples-type-85-sample-1996  "
      ]
     },
     "execution_count": 3,
     "metadata": {},
     "output_type": "execute_result"
    }
   ],
   "source": [
    "metamap = pd.read_csv(\"/home/xc383@drexel.edu/text2graph/data/mtsamples/metamap/concepts/metamap_concepts.csv\")\n",
    "metamap[\"norm_file\"] = metamap.file.apply(lambda x: x.split(\".\")[0])\n",
    "print(metamap.shape)\n",
    "metamap.head(3)"
   ]
  },
  {
   "cell_type": "markdown",
   "metadata": {},
   "source": [
    "#### cTakes"
   ]
  },
  {
   "cell_type": "code",
   "execution_count": 4,
   "metadata": {},
   "outputs": [
    {
     "data": {
      "text/html": [
       "<div>\n",
       "<style scoped>\n",
       "    .dataframe tbody tr th:only-of-type {\n",
       "        vertical-align: middle;\n",
       "    }\n",
       "\n",
       "    .dataframe tbody tr th {\n",
       "        vertical-align: top;\n",
       "    }\n",
       "\n",
       "    .dataframe thead th {\n",
       "        text-align: right;\n",
       "    }\n",
       "</style>\n",
       "<table border=\"1\" class=\"dataframe\">\n",
       "  <thead>\n",
       "    <tr style=\"text-align: right;\">\n",
       "      <th></th>\n",
       "      <th>file</th>\n",
       "      <th>start</th>\n",
       "      <th>end</th>\n",
       "      <th>subject</th>\n",
       "      <th>polarity</th>\n",
       "      <th>uncertainty</th>\n",
       "      <th>confidence</th>\n",
       "      <th>conditional</th>\n",
       "      <th>generic</th>\n",
       "      <th>history</th>\n",
       "      <th>concept_scheme</th>\n",
       "      <th>cui</th>\n",
       "      <th>tui</th>\n",
       "      <th>concept_text</th>\n",
       "      <th>concept_score</th>\n",
       "      <th>concept_disambiguated</th>\n",
       "      <th>norm_file</th>\n",
       "    </tr>\n",
       "  </thead>\n",
       "  <tbody>\n",
       "    <tr>\n",
       "      <th>0</th>\n",
       "      <td>despaced_mtsamples-type-42-sample-495.txt.xmi</td>\n",
       "      <td>68</td>\n",
       "      <td>71</td>\n",
       "      <td>patient</td>\n",
       "      <td>1</td>\n",
       "      <td>0</td>\n",
       "      <td>0.0</td>\n",
       "      <td>False</td>\n",
       "      <td>False</td>\n",
       "      <td>0</td>\n",
       "      <td>snomedct_us</td>\n",
       "      <td>C0036001</td>\n",
       "      <td>T116</td>\n",
       "      <td>S-Adenosylhomocysteine</td>\n",
       "      <td>0.0</td>\n",
       "      <td>False</td>\n",
       "      <td>mtsamples-type-42-sample-495</td>\n",
       "    </tr>\n",
       "    <tr>\n",
       "      <th>1</th>\n",
       "      <td>despaced_mtsamples-type-42-sample-495.txt.xmi</td>\n",
       "      <td>901</td>\n",
       "      <td>905</td>\n",
       "      <td>patient</td>\n",
       "      <td>-1</td>\n",
       "      <td>0</td>\n",
       "      <td>0.0</td>\n",
       "      <td>False</td>\n",
       "      <td>False</td>\n",
       "      <td>0</td>\n",
       "      <td>snomedct_us</td>\n",
       "      <td>C0013227</td>\n",
       "      <td>T121</td>\n",
       "      <td>Pharmaceutical Preparations</td>\n",
       "      <td>0.0</td>\n",
       "      <td>False</td>\n",
       "      <td>mtsamples-type-42-sample-495</td>\n",
       "    </tr>\n",
       "    <tr>\n",
       "      <th>2</th>\n",
       "      <td>despaced_mtsamples-type-42-sample-495.txt.xmi</td>\n",
       "      <td>906</td>\n",
       "      <td>910</td>\n",
       "      <td>patient</td>\n",
       "      <td>-1</td>\n",
       "      <td>0</td>\n",
       "      <td>0.0</td>\n",
       "      <td>False</td>\n",
       "      <td>False</td>\n",
       "      <td>0</td>\n",
       "      <td>snomedct_us</td>\n",
       "      <td>C0001962</td>\n",
       "      <td>T109</td>\n",
       "      <td>ethanol</td>\n",
       "      <td>0.0</td>\n",
       "      <td>False</td>\n",
       "      <td>mtsamples-type-42-sample-495</td>\n",
       "    </tr>\n",
       "  </tbody>\n",
       "</table>\n",
       "</div>"
      ],
      "text/plain": [
       "                                            file  start  end  subject  \\\n",
       "0  despaced_mtsamples-type-42-sample-495.txt.xmi     68   71  patient   \n",
       "1  despaced_mtsamples-type-42-sample-495.txt.xmi    901  905  patient   \n",
       "2  despaced_mtsamples-type-42-sample-495.txt.xmi    906  910  patient   \n",
       "\n",
       "   polarity  uncertainty  confidence  conditional  generic  history  \\\n",
       "0         1            0         0.0        False    False        0   \n",
       "1        -1            0         0.0        False    False        0   \n",
       "2        -1            0         0.0        False    False        0   \n",
       "\n",
       "  concept_scheme       cui   tui                 concept_text  concept_score  \\\n",
       "0    snomedct_us  C0036001  T116       S-Adenosylhomocysteine            0.0   \n",
       "1    snomedct_us  C0013227  T121  Pharmaceutical Preparations            0.0   \n",
       "2    snomedct_us  C0001962  T109                      ethanol            0.0   \n",
       "\n",
       "   concept_disambiguated                     norm_file  \n",
       "0                  False  mtsamples-type-42-sample-495  \n",
       "1                  False  mtsamples-type-42-sample-495  \n",
       "2                  False  mtsamples-type-42-sample-495  "
      ]
     },
     "execution_count": 4,
     "metadata": {},
     "output_type": "execute_result"
    }
   ],
   "source": [
    "ctakes = pd.read_csv(\"/home/xc383@drexel.edu/text2graph/data/mtsamples/ctakes/concepts_2021ab_snomedct_us/ctake_concepts.csv\")\n",
    "ctakes[\"norm_file\"] = ctakes.file.apply(lambda x: \"_\".join(x.split(\".\")[0].split(\"_\")[1:]))\n",
    "ctakes = ctakes.rename(columns={\"concept_cui\": \"cui\", \"concept_tui\": \"tui\"})\n",
    "ctakes.head(3)"
   ]
  },
  {
   "cell_type": "markdown",
   "metadata": {},
   "source": [
    "#### Semantic Types"
   ]
  },
  {
   "cell_type": "code",
   "execution_count": 5,
   "metadata": {},
   "outputs": [
    {
     "data": {
      "text/html": [
       "<div>\n",
       "<style scoped>\n",
       "    .dataframe tbody tr th:only-of-type {\n",
       "        vertical-align: middle;\n",
       "    }\n",
       "\n",
       "    .dataframe tbody tr th {\n",
       "        vertical-align: top;\n",
       "    }\n",
       "\n",
       "    .dataframe thead th {\n",
       "        text-align: right;\n",
       "    }\n",
       "</style>\n",
       "<table border=\"1\" class=\"dataframe\">\n",
       "  <thead>\n",
       "    <tr style=\"text-align: right;\">\n",
       "      <th></th>\n",
       "      <th>abbrev</th>\n",
       "      <th>name</th>\n",
       "      <th>tui</th>\n",
       "      <th>type_name</th>\n",
       "    </tr>\n",
       "  </thead>\n",
       "  <tbody>\n",
       "    <tr>\n",
       "      <th>0</th>\n",
       "      <td>ACTI</td>\n",
       "      <td>Activities &amp; Behaviors</td>\n",
       "      <td>T052</td>\n",
       "      <td>Activity</td>\n",
       "    </tr>\n",
       "    <tr>\n",
       "      <th>1</th>\n",
       "      <td>ACTI</td>\n",
       "      <td>Activities &amp; Behaviors</td>\n",
       "      <td>T053</td>\n",
       "      <td>Behavior</td>\n",
       "    </tr>\n",
       "    <tr>\n",
       "      <th>2</th>\n",
       "      <td>ACTI</td>\n",
       "      <td>Activities &amp; Behaviors</td>\n",
       "      <td>T056</td>\n",
       "      <td>Daily or Recreational Activity</td>\n",
       "    </tr>\n",
       "    <tr>\n",
       "      <th>3</th>\n",
       "      <td>ACTI</td>\n",
       "      <td>Activities &amp; Behaviors</td>\n",
       "      <td>T051</td>\n",
       "      <td>Event</td>\n",
       "    </tr>\n",
       "    <tr>\n",
       "      <th>4</th>\n",
       "      <td>ACTI</td>\n",
       "      <td>Activities &amp; Behaviors</td>\n",
       "      <td>T064</td>\n",
       "      <td>Governmental or Regulatory Activity</td>\n",
       "    </tr>\n",
       "  </tbody>\n",
       "</table>\n",
       "</div>"
      ],
      "text/plain": [
       "  abbrev                    name   tui                            type_name\n",
       "0   ACTI  Activities & Behaviors  T052                             Activity\n",
       "1   ACTI  Activities & Behaviors  T053                             Behavior\n",
       "2   ACTI  Activities & Behaviors  T056       Daily or Recreational Activity\n",
       "3   ACTI  Activities & Behaviors  T051                                Event\n",
       "4   ACTI  Activities & Behaviors  T064  Governmental or Regulatory Activity"
      ]
     },
     "execution_count": 5,
     "metadata": {},
     "output_type": "execute_result"
    }
   ],
   "source": [
    "import requests\n",
    "\n",
    "semantic_group_types_url = \"https://lhncbc.nlm.nih.gov/ii/tools/MetaMap/Docs/SemGroups_2018.txt\"\n",
    "semantic_group_types_columns = [\"abbrev\", \"name\", \"tui\", \"type_name\"]\n",
    "\n",
    "response = requests.get(semantic_group_types_url)\n",
    "semantic_groups = pd.DataFrame(map(lambda x: x.split(\"|\"), response.text.split(\"\\n\")), columns=semantic_group_types_columns)\n",
    "semantic_groups = semantic_groups.iloc[:-1,:]\n",
    "semantic_groups.head()"
   ]
  },
  {
   "cell_type": "code",
   "execution_count": 6,
   "metadata": {},
   "outputs": [
    {
     "data": {
      "text/html": [
       "<div>\n",
       "<style scoped>\n",
       "    .dataframe tbody tr th:only-of-type {\n",
       "        vertical-align: middle;\n",
       "    }\n",
       "\n",
       "    .dataframe tbody tr th {\n",
       "        vertical-align: top;\n",
       "    }\n",
       "\n",
       "    .dataframe thead th {\n",
       "        text-align: right;\n",
       "    }\n",
       "</style>\n",
       "<table border=\"1\" class=\"dataframe\">\n",
       "  <thead>\n",
       "    <tr style=\"text-align: right;\">\n",
       "      <th></th>\n",
       "      <th>abbrev</th>\n",
       "      <th>tui</th>\n",
       "      <th>name</th>\n",
       "    </tr>\n",
       "  </thead>\n",
       "  <tbody>\n",
       "    <tr>\n",
       "      <th>0</th>\n",
       "      <td>aapp</td>\n",
       "      <td>T116</td>\n",
       "      <td>Amino Acid, Peptide, or Protein</td>\n",
       "    </tr>\n",
       "    <tr>\n",
       "      <th>1</th>\n",
       "      <td>acab</td>\n",
       "      <td>T020</td>\n",
       "      <td>Acquired Abnormality</td>\n",
       "    </tr>\n",
       "    <tr>\n",
       "      <th>2</th>\n",
       "      <td>acty</td>\n",
       "      <td>T052</td>\n",
       "      <td>Activity</td>\n",
       "    </tr>\n",
       "    <tr>\n",
       "      <th>3</th>\n",
       "      <td>aggp</td>\n",
       "      <td>T100</td>\n",
       "      <td>Age Group</td>\n",
       "    </tr>\n",
       "    <tr>\n",
       "      <th>4</th>\n",
       "      <td>amas</td>\n",
       "      <td>T087</td>\n",
       "      <td>Amino Acid Sequence</td>\n",
       "    </tr>\n",
       "  </tbody>\n",
       "</table>\n",
       "</div>"
      ],
      "text/plain": [
       "  abbrev   tui                             name\n",
       "0   aapp  T116  Amino Acid, Peptide, or Protein\n",
       "1   acab  T020             Acquired Abnormality\n",
       "2   acty  T052                         Activity\n",
       "3   aggp  T100                        Age Group\n",
       "4   amas  T087              Amino Acid Sequence"
      ]
     },
     "execution_count": 6,
     "metadata": {},
     "output_type": "execute_result"
    }
   ],
   "source": [
    "semantic_types_url = \"https://lhncbc.nlm.nih.gov/ii/tools/MetaMap/Docs/SemanticTypes_2018AB.txt\"\n",
    "semantic_types_columns = [\"abbrev\", \"tui\", \"name\"]\n",
    "\n",
    "response = requests.get(semantic_types_url)\n",
    "semantic_types = pd.DataFrame(map(lambda x: x.split(\"|\"), response.text.split(\"\\n\")), columns=semantic_types_columns)\n",
    "semantic_types = semantic_types.iloc[:-1,:]\n",
    "semantic_types.head()"
   ]
  },
  {
   "cell_type": "code",
   "execution_count": 7,
   "metadata": {},
   "outputs": [
    {
     "data": {
      "text/html": [
       "<div>\n",
       "<style scoped>\n",
       "    .dataframe tbody tr th:only-of-type {\n",
       "        vertical-align: middle;\n",
       "    }\n",
       "\n",
       "    .dataframe tbody tr th {\n",
       "        vertical-align: top;\n",
       "    }\n",
       "\n",
       "    .dataframe thead th {\n",
       "        text-align: right;\n",
       "    }\n",
       "</style>\n",
       "<table border=\"1\" class=\"dataframe\">\n",
       "  <thead>\n",
       "    <tr style=\"text-align: right;\">\n",
       "      <th></th>\n",
       "      <th>abbrev_group</th>\n",
       "      <th>name_group</th>\n",
       "      <th>tui</th>\n",
       "      <th>type_name</th>\n",
       "      <th>abbrev_type</th>\n",
       "      <th>name_type</th>\n",
       "    </tr>\n",
       "  </thead>\n",
       "  <tbody>\n",
       "    <tr>\n",
       "      <th>0</th>\n",
       "      <td>ACTI</td>\n",
       "      <td>Activities &amp; Behaviors</td>\n",
       "      <td>T052</td>\n",
       "      <td>Activity</td>\n",
       "      <td>acty</td>\n",
       "      <td>Activity</td>\n",
       "    </tr>\n",
       "    <tr>\n",
       "      <th>1</th>\n",
       "      <td>ACTI</td>\n",
       "      <td>Activities &amp; Behaviors</td>\n",
       "      <td>T053</td>\n",
       "      <td>Behavior</td>\n",
       "      <td>bhvr</td>\n",
       "      <td>Behavior</td>\n",
       "    </tr>\n",
       "    <tr>\n",
       "      <th>2</th>\n",
       "      <td>ACTI</td>\n",
       "      <td>Activities &amp; Behaviors</td>\n",
       "      <td>T056</td>\n",
       "      <td>Daily or Recreational Activity</td>\n",
       "      <td>dora</td>\n",
       "      <td>Daily or Recreational Activity</td>\n",
       "    </tr>\n",
       "    <tr>\n",
       "      <th>3</th>\n",
       "      <td>ACTI</td>\n",
       "      <td>Activities &amp; Behaviors</td>\n",
       "      <td>T051</td>\n",
       "      <td>Event</td>\n",
       "      <td>evnt</td>\n",
       "      <td>Event</td>\n",
       "    </tr>\n",
       "    <tr>\n",
       "      <th>4</th>\n",
       "      <td>ACTI</td>\n",
       "      <td>Activities &amp; Behaviors</td>\n",
       "      <td>T064</td>\n",
       "      <td>Governmental or Regulatory Activity</td>\n",
       "      <td>gora</td>\n",
       "      <td>Governmental or Regulatory Activity</td>\n",
       "    </tr>\n",
       "  </tbody>\n",
       "</table>\n",
       "</div>"
      ],
      "text/plain": [
       "  abbrev_group              name_group   tui  \\\n",
       "0         ACTI  Activities & Behaviors  T052   \n",
       "1         ACTI  Activities & Behaviors  T053   \n",
       "2         ACTI  Activities & Behaviors  T056   \n",
       "3         ACTI  Activities & Behaviors  T051   \n",
       "4         ACTI  Activities & Behaviors  T064   \n",
       "\n",
       "                             type_name abbrev_type  \\\n",
       "0                             Activity        acty   \n",
       "1                             Behavior        bhvr   \n",
       "2       Daily or Recreational Activity        dora   \n",
       "3                                Event        evnt   \n",
       "4  Governmental or Regulatory Activity        gora   \n",
       "\n",
       "                             name_type  \n",
       "0                             Activity  \n",
       "1                             Behavior  \n",
       "2       Daily or Recreational Activity  \n",
       "3                                Event  \n",
       "4  Governmental or Regulatory Activity  "
      ]
     },
     "execution_count": 7,
     "metadata": {},
     "output_type": "execute_result"
    }
   ],
   "source": [
    "semantic_map = pd.merge(semantic_groups, semantic_types, on=\"tui\", suffixes=[\"_group\", \"_type\"])\n",
    "semantic_map.head()"
   ]
  },
  {
   "cell_type": "code",
   "execution_count": 8,
   "metadata": {},
   "outputs": [
    {
     "data": {
      "text/html": [
       "<div>\n",
       "<style scoped>\n",
       "    .dataframe tbody tr th:only-of-type {\n",
       "        vertical-align: middle;\n",
       "    }\n",
       "\n",
       "    .dataframe tbody tr th {\n",
       "        vertical-align: top;\n",
       "    }\n",
       "\n",
       "    .dataframe thead th {\n",
       "        text-align: right;\n",
       "    }\n",
       "</style>\n",
       "<table border=\"1\" class=\"dataframe\">\n",
       "  <thead>\n",
       "    <tr style=\"text-align: right;\">\n",
       "      <th></th>\n",
       "      <th>abbrev_group</th>\n",
       "      <th>name_group</th>\n",
       "      <th>tui</th>\n",
       "      <th>type_name</th>\n",
       "      <th>abbrev_type</th>\n",
       "      <th>name_type</th>\n",
       "    </tr>\n",
       "  </thead>\n",
       "  <tbody>\n",
       "    <tr>\n",
       "      <th>100</th>\n",
       "      <td>OCCU</td>\n",
       "      <td>Occupations</td>\n",
       "      <td>T090</td>\n",
       "      <td>Occupation or Discipline</td>\n",
       "      <td>ocdi</td>\n",
       "      <td>Occupation or Discipline</td>\n",
       "    </tr>\n",
       "  </tbody>\n",
       "</table>\n",
       "</div>"
      ],
      "text/plain": [
       "    abbrev_group   name_group   tui                 type_name abbrev_type  \\\n",
       "100         OCCU  Occupations  T090  Occupation or Discipline        ocdi   \n",
       "\n",
       "                    name_type  \n",
       "100  Occupation or Discipline  "
      ]
     },
     "execution_count": 8,
     "metadata": {},
     "output_type": "execute_result"
    }
   ],
   "source": [
    "semantic_map.loc[semantic_map.abbrev_type==\"ocdi\"]"
   ]
  },
  {
   "cell_type": "code",
   "execution_count": 9,
   "metadata": {},
   "outputs": [
    {
     "data": {
      "text/plain": [
       "abbrev_group  name_group                 \n",
       "LIVB          Living Beings                  21\n",
       "CHEM          Chemicals & Drugs              20\n",
       "CONC          Concepts & Ideas               12\n",
       "DISO          Disorders                      12\n",
       "ANAT          Anatomy                        11\n",
       "ACTI          Activities & Behaviors          9\n",
       "PHYS          Physiology                      9\n",
       "PROC          Procedures                      7\n",
       "PHEN          Phenomena                       6\n",
       "GENE          Genes & Molecular Sequences     5\n",
       "OBJC          Objects                         5\n",
       "ORGA          Organizations                   4\n",
       "DEVI          Devices                         3\n",
       "OCCU          Occupations                     2\n",
       "GEOG          Geographic Areas                1\n",
       "Name: count, dtype: int64"
      ]
     },
     "execution_count": 9,
     "metadata": {},
     "output_type": "execute_result"
    }
   ],
   "source": [
    "semantic_map.value_counts([\"abbrev_group\", \"name_group\"])"
   ]
  },
  {
   "cell_type": "markdown",
   "metadata": {},
   "source": [
    "### Filter by Files"
   ]
  },
  {
   "cell_type": "code",
   "execution_count": 10,
   "metadata": {},
   "outputs": [
    {
     "data": {
      "text/plain": [
       "2871"
      ]
     },
     "execution_count": 10,
     "metadata": {},
     "output_type": "execute_result"
    }
   ],
   "source": [
    "valid_files = set(metamap.norm_file.unique()).intersection(set(ctakes.norm_file.unique()))\n",
    "metamap = metamap.loc[metamap.norm_file.isin(valid_files)]\n",
    "ctakes = ctakes.loc[ctakes.norm_file.isin(valid_files)]\n",
    "\n",
    "len(valid_files)"
   ]
  },
  {
   "cell_type": "markdown",
   "metadata": {},
   "source": [
    "## Analysis"
   ]
  },
  {
   "cell_type": "markdown",
   "metadata": {},
   "source": [
    "### Typing Analysis"
   ]
  },
  {
   "cell_type": "code",
   "execution_count": 11,
   "metadata": {},
   "outputs": [],
   "source": [
    "import re\n",
    "\n",
    "def strlist_to_list(strlist: str) -> list:\n",
    "    pattern = re.compile(r\"\\'(\\w+)\\'\")\n",
    "    return re.findall(pattern, strlist)\n",
    "\n",
    "def map_upper(texts: list) -> str:\n",
    "    upper_list = []\n",
    "\n",
    "    for text in texts:\n",
    "        upper_list.append(str(text).upper())\n",
    "    return upper_list"
   ]
  },
  {
   "cell_type": "markdown",
   "metadata": {},
   "source": [
    "All multi-types can be broken down into single groups."
   ]
  },
  {
   "cell_type": "code",
   "execution_count": 12,
   "metadata": {},
   "outputs": [
    {
     "data": {
      "text/plain": [
       "[(['CHEM'], 1, ['orch', 'phsu']),\n",
       " (['CHEM'], 1, ['hops', 'orch', 'phsu']),\n",
       " (['CHEM'], 1, ['aapp', 'bacs', 'phsu']),\n",
       " (['CHEM'], 1, ['elii', 'phsu']),\n",
       " (['CHEM'], 1, ['inch', 'phsu']),\n",
       " (['CHEM'], 1, ['hcro', 'mnob']),\n",
       " (['CHEM'], 1, ['orch', 'phsu', 'vita']),\n",
       " (['CHEM'], 1, ['aapp', 'imft']),\n",
       " (['CHEM'], 1, ['bodm', 'orch']),\n",
       " (['CHEM'], 1, ['aapp', 'enzy']),\n",
       " (['CHEM'], 1, ['bacs', 'orch', 'phsu']),\n",
       " (['CHEM'], 1, ['horm', 'orch', 'phsu']),\n",
       " (['CHEM'], 1, ['antb', 'orch']),\n",
       " (['CHEM'], 1, ['aapp', 'enzy', 'phsu']),\n",
       " (['CHEM'], 1, ['aapp', 'horm', 'phsu']),\n",
       " (['CHEM'], 1, ['nnon', 'phsu']),\n",
       " (['CHEM'], 1, ['elii', 'irda', 'phsu']),\n",
       " (['CHEM'], 1, ['bacs', 'orch']),\n",
       " (['CHEM'], 1, ['aapp', 'bacs']),\n",
       " (['CHEM'], 1, ['bacs', 'elii', 'phsu']),\n",
       " (['CHEM'], 1, ['bacs', 'elii']),\n",
       " (['CHEM'], 1, ['aapp', 'phsu']),\n",
       " (['CHEM'], 1, ['elii', 'hops']),\n",
       " (['CHEM'], 1, ['elii', 'irda']),\n",
       " (['CHEM'], 1, ['aapp', 'antb']),\n",
       " (['CHEM'], 1, ['mnob', 'orgt']),\n",
       " (['CHEM'], 1, ['aapp', 'enzy', 'imft']),\n",
       " (['CHEM'], 1, ['aapp', 'imft', 'rcpt']),\n",
       " (['CHEM'], 1, ['irda', 'orch']),\n",
       " (['CHEM'], 1, ['inpr', 'mnob']),\n",
       " (['CHEM'], 1, ['bacs', 'inch', 'phsu']),\n",
       " (['CHEM'], 1, ['hops', 'orch']),\n",
       " (['CHEM'], 1, ['aapp', 'enzy', 'rcpt']),\n",
       " (['CHEM'], 1, ['bacs', 'nnon']),\n",
       " (['CHEM'], 1, ['imft', 'orch']),\n",
       " (['CHEM'], 1, ['bacs', 'nnon', 'phsu']),\n",
       " (['CHEM'], 1, ['aapp', 'imft', 'phsu']),\n",
       " (['CHEM'], 1, ['aapp', 'horm']),\n",
       " (['CHEM'], 1, ['diap', 'inpr']),\n",
       " (['CHEM'], 1, ['aapp', 'irda', 'phsu']),\n",
       " (['CHEM'], 1, ['patf', 'sosy']),\n",
       " (['CHEM'], 1, ['aapp', 'rcpt']),\n",
       " (['CHEM'], 1, ['anab', 'patf']),\n",
       " (['CHEM'], 1, ['bacs', 'inch']),\n",
       " (['CHEM'], 1, ['phsu', 'vita']),\n",
       " (['CHEM'], 1, ['irda', 'orch', 'phsu']),\n",
       " (['CHEM'], 1, ['aapp', 'bacs', 'hops']),\n",
       " (['CHEM'], 1, ['imft', 'phsu']),\n",
       " (['CHEM'], 1, ['tisu', 'topp']),\n",
       " (['CHEM'], 1, ['aapp', 'hops', 'phsu']),\n",
       " (['CHEM'], 1, ['aapp', 'imft', 'irda']),\n",
       " (['CHEM'], 1, ['bacs', 'hops']),\n",
       " (['CHEM'], 1, ['horm', 'phsu', 'vita']),\n",
       " (['CHEM'], 1, ['inch', 'irda', 'phsu']),\n",
       " (['CHEM'], 1, ['inch', 'irda']),\n",
       " (['CHEM'], 1, ['aapp', 'horm', 'irda']),\n",
       " (['CHEM'], 1, ['mobd', 'sosy']),\n",
       " (['CHEM'], 1, ['food', 'orch', 'phsu']),\n",
       " (['CHEM'], 1, ['bacs', 'phsu']),\n",
       " (['CHEM'], 1, ['irda', 'phsu']),\n",
       " (['CHEM'], 1, ['horm', 'phsu']),\n",
       " (['CHEM'], 1, ['cgab', 'dsyn']),\n",
       " (['CHEM'], 1, ['horm', 'orch']),\n",
       " (['CHEM'], 1, ['aapp', 'hops'])]"
      ]
     },
     "execution_count": 12,
     "metadata": {},
     "output_type": "execute_result"
    }
   ],
   "source": [
    "meatmap_sems = list(map(strlist_to_list, metamap.semantic_types.unique()))\n",
    "multi_meatmap_sems = list(filter(lambda x: len(x) > 1, meatmap_sems))\n",
    "\n",
    "sems2 = []\n",
    "for sems in multi_meatmap_sems:\n",
    "    group = semantic_map.loc[semantic_map.abbrev_type.isin(['orch', 'phsu', 'vita']), \"abbrev_group\"].unique().tolist()\n",
    "    sems2.append(\n",
    "        (\n",
    "            group,\n",
    "            len(group),\n",
    "            sems,\n",
    "        )\n",
    "    )\n",
    "\n",
    "sems2"
   ]
  },
  {
   "cell_type": "code",
   "execution_count": 13,
   "metadata": {},
   "outputs": [],
   "source": [
    "abbrev_to_tui = {k:v for k, v in semantic_map.loc[:, [\"abbrev_type\", \"tui\"]].values.tolist()}\n",
    "tui_to_group = {k:v for k, v in semantic_map.loc[:, [\"tui\", \"abbrev_group\"]].values.tolist()}"
   ]
  },
  {
   "cell_type": "code",
   "execution_count": 14,
   "metadata": {},
   "outputs": [],
   "source": [
    "metamap[\"tui\"] = metamap.semantic_types.apply(lambda x: strlist_to_list(x)[0]).map(abbrev_to_tui)\n",
    "metamap[\"tgroup\"] = metamap.tui.map(tui_to_group)\n",
    "ctakes[\"tgroup\"] = ctakes.tui.map(tui_to_group)"
   ]
  },
  {
   "cell_type": "markdown",
   "metadata": {},
   "source": [
    "### Comparing CUI"
   ]
  },
  {
   "cell_type": "code",
   "execution_count": 15,
   "metadata": {},
   "outputs": [
    {
     "name": "stdout",
     "output_type": "stream",
     "text": [
      "There are 9793 unique CUI in ctakes.\n",
      "There are 17510 unique CUI in metamap.\n",
      "There are 8405 unique CUI in both ctakes and metamap.\n",
      "There are 1388 unique ctakes CUI not in metamap.\n",
      "There are 9105 unique metamap CUI not in ctakes.\n"
     ]
    }
   ],
   "source": [
    "ctakes_cui = set(ctakes.cui.unique())\n",
    "metamap_cui = set(metamap.cui.unique())\n",
    "\n",
    "print(\"There are %d unique CUI in ctakes.\" % len(ctakes_cui))\n",
    "print(\"There are %d unique CUI in metamap.\" % len(metamap_cui))\n",
    "print(\"There are %d unique CUI in both ctakes and metamap.\" % len(ctakes_cui.intersection(metamap_cui)))\n",
    "print(\"There are %d unique ctakes CUI not in metamap.\" % len(ctakes_cui.difference(metamap_cui)))\n",
    "print(\"There are %d unique metamap CUI not in ctakes.\" % len(metamap_cui.difference(ctakes_cui)))"
   ]
  },
  {
   "cell_type": "code",
   "execution_count": 16,
   "metadata": {},
   "outputs": [],
   "source": [
    "merge_cols = [\"norm_file\", \"cui\"]"
   ]
  },
  {
   "cell_type": "code",
   "execution_count": 17,
   "metadata": {},
   "outputs": [
    {
     "data": {
      "text/html": [
       "<div>\n",
       "<style scoped>\n",
       "    .dataframe tbody tr th:only-of-type {\n",
       "        vertical-align: middle;\n",
       "    }\n",
       "\n",
       "    .dataframe tbody tr th {\n",
       "        vertical-align: top;\n",
       "    }\n",
       "\n",
       "    .dataframe thead th {\n",
       "        text-align: right;\n",
       "    }\n",
       "</style>\n",
       "<table border=\"1\" class=\"dataframe\">\n",
       "  <thead>\n",
       "    <tr style=\"text-align: right;\">\n",
       "      <th></th>\n",
       "      <th></th>\n",
       "      <th>count_ctakes</th>\n",
       "      <th>count_metamap</th>\n",
       "    </tr>\n",
       "    <tr>\n",
       "      <th>norm_file</th>\n",
       "      <th>cui</th>\n",
       "      <th></th>\n",
       "      <th></th>\n",
       "    </tr>\n",
       "  </thead>\n",
       "  <tbody>\n",
       "    <tr>\n",
       "      <th>mtsamples-type-99-sample-213</th>\n",
       "      <th>C0030193</th>\n",
       "      <td>56</td>\n",
       "      <td>33</td>\n",
       "    </tr>\n",
       "    <tr>\n",
       "      <th>mtsamples-type-86-sample-213</th>\n",
       "      <th>C0030193</th>\n",
       "      <td>56</td>\n",
       "      <td>33</td>\n",
       "    </tr>\n",
       "    <tr>\n",
       "      <th>mtsamples-type-90-sample-213</th>\n",
       "      <th>C0030193</th>\n",
       "      <td>56</td>\n",
       "      <td>33</td>\n",
       "    </tr>\n",
       "  </tbody>\n",
       "</table>\n",
       "</div>"
      ],
      "text/plain": [
       "                                       count_ctakes  count_metamap\n",
       "norm_file                    cui                                  \n",
       "mtsamples-type-99-sample-213 C0030193            56             33\n",
       "mtsamples-type-86-sample-213 C0030193            56             33\n",
       "mtsamples-type-90-sample-213 C0030193            56             33"
      ]
     },
     "execution_count": 17,
     "metadata": {},
     "output_type": "execute_result"
    }
   ],
   "source": [
    "file_cui_counts = pd.merge(\n",
    "    left=ctakes.value_counts(merge_cols),\n",
    "    right=metamap.value_counts(merge_cols),\n",
    "    on=merge_cols,\n",
    "    suffixes=[\"_ctakes\", \"_metamap\"]\n",
    ")\n",
    "file_cui_counts.head(3)"
   ]
  },
  {
   "cell_type": "code",
   "execution_count": 18,
   "metadata": {},
   "outputs": [
    {
     "data": {
      "image/png": "[encoded data removed]",
      "text/plain": [
       "<Figure size 640x480 with 1 Axes>"
      ]
     },
     "metadata": {},
     "output_type": "display_data"
    }
   ],
   "source": [
    "file_cui_counts[\"ctakes_minus_metamap\"] = file_cui_counts.count_ctakes - file_cui_counts.count_metamap\n",
    "\n",
    "diff_by_file = sns.boxplot(file_cui_counts.groupby(\"norm_file\").ctakes_minus_metamap.sum().sort_values())\n",
    "diff_by_file.set_title(\"CUI Count Difference by File (ctakes - metamap)\")\n",
    "diff_by_file.set_ylabel(\"Count Difference\")\n",
    "\n",
    "plt.show()"
   ]
  },
  {
   "cell_type": "code",
   "execution_count": 19,
   "metadata": {},
   "outputs": [
    {
     "data": {
      "image/png": "[encoded data removed]",
      "text/plain": [
       "<Figure size 640x480 with 1 Axes>"
      ]
     },
     "metadata": {},
     "output_type": "display_data"
    }
   ],
   "source": [
    "diff_by_file = sns.boxplot(file_cui_counts.groupby(\"cui\").ctakes_minus_metamap.sum().sort_values(), showfliers=False)\n",
    "diff_by_file.set_title(\"File CUI Count Difference by CUI (ctakes - metamap)\")\n",
    "diff_by_file.set_ylabel(\"Count Difference\")\n",
    "\n",
    "plt.show()"
   ]
  },
  {
   "cell_type": "code",
   "execution_count": 20,
   "metadata": {},
   "outputs": [
    {
     "data": {
      "text/html": [
       "<div>\n",
       "<style scoped>\n",
       "    .dataframe tbody tr th:only-of-type {\n",
       "        vertical-align: middle;\n",
       "    }\n",
       "\n",
       "    .dataframe tbody tr th {\n",
       "        vertical-align: top;\n",
       "    }\n",
       "\n",
       "    .dataframe thead th {\n",
       "        text-align: right;\n",
       "    }\n",
       "</style>\n",
       "<table border=\"1\" class=\"dataframe\">\n",
       "  <thead>\n",
       "    <tr style=\"text-align: right;\">\n",
       "      <th></th>\n",
       "      <th>count_ctakes</th>\n",
       "      <th>count_metamap</th>\n",
       "    </tr>\n",
       "  </thead>\n",
       "  <tbody>\n",
       "    <tr>\n",
       "      <th>count</th>\n",
       "      <td>2871.000000</td>\n",
       "      <td>2871.000000</td>\n",
       "    </tr>\n",
       "    <tr>\n",
       "      <th>mean</th>\n",
       "      <td>82.880181</td>\n",
       "      <td>67.152560</td>\n",
       "    </tr>\n",
       "    <tr>\n",
       "      <th>std</th>\n",
       "      <td>62.560373</td>\n",
       "      <td>47.445678</td>\n",
       "    </tr>\n",
       "    <tr>\n",
       "      <th>min</th>\n",
       "      <td>1.000000</td>\n",
       "      <td>1.000000</td>\n",
       "    </tr>\n",
       "    <tr>\n",
       "      <th>25%</th>\n",
       "      <td>42.000000</td>\n",
       "      <td>35.000000</td>\n",
       "    </tr>\n",
       "    <tr>\n",
       "      <th>50%</th>\n",
       "      <td>70.000000</td>\n",
       "      <td>58.000000</td>\n",
       "    </tr>\n",
       "    <tr>\n",
       "      <th>75%</th>\n",
       "      <td>109.000000</td>\n",
       "      <td>87.000000</td>\n",
       "    </tr>\n",
       "    <tr>\n",
       "      <th>max</th>\n",
       "      <td>773.000000</td>\n",
       "      <td>572.000000</td>\n",
       "    </tr>\n",
       "  </tbody>\n",
       "</table>\n",
       "</div>"
      ],
      "text/plain": [
       "       count_ctakes  count_metamap\n",
       "count   2871.000000    2871.000000\n",
       "mean      82.880181      67.152560\n",
       "std       62.560373      47.445678\n",
       "min        1.000000       1.000000\n",
       "25%       42.000000      35.000000\n",
       "50%       70.000000      58.000000\n",
       "75%      109.000000      87.000000\n",
       "max      773.000000     572.000000"
      ]
     },
     "execution_count": 20,
     "metadata": {},
     "output_type": "execute_result"
    }
   ],
   "source": [
    "file_cui_counts.reset_index().loc[:, [\"norm_file\", \"count_ctakes\", \"count_metamap\"]].groupby(\"norm_file\").sum().describe()"
   ]
  },
  {
   "cell_type": "markdown",
   "metadata": {},
   "source": [
    "### Basic"
   ]
  },
  {
   "cell_type": "code",
   "execution_count": 21,
   "metadata": {},
   "outputs": [
    {
     "name": "stdout",
     "output_type": "stream",
     "text": [
      "Sample Type / Medical Specialty:  ENT - Otolaryngology\n",
      "Sample Name: Endoscopic Sinus Surgery \n",
      "Descri\n"
     ]
    }
   ],
   "source": [
    "text_path = \"/home/xc383@drexel.edu/text2graph/data/mtsamples/despaced\"\n",
    "file_name = \"mtsamples-type-100-sample-1019\"\n",
    "with open(text_path + \"/despaced_\" + file_name + \".txt\", \"r\") as file:\n",
    "    text = file.read()\n",
    "print(text[:100])"
   ]
  },
  {
   "cell_type": "code",
   "execution_count": 22,
   "metadata": {},
   "outputs": [
    {
     "data": {
      "text/html": [
       "<div>\n",
       "<style scoped>\n",
       "    .dataframe tbody tr th:only-of-type {\n",
       "        vertical-align: middle;\n",
       "    }\n",
       "\n",
       "    .dataframe tbody tr th {\n",
       "        vertical-align: top;\n",
       "    }\n",
       "\n",
       "    .dataframe thead th {\n",
       "        text-align: right;\n",
       "    }\n",
       "</style>\n",
       "<table border=\"1\" class=\"dataframe\">\n",
       "  <thead>\n",
       "    <tr style=\"text-align: right;\">\n",
       "      <th></th>\n",
       "      <th>norm_file</th>\n",
       "      <th>start</th>\n",
       "      <th>end</th>\n",
       "      <th>cui</th>\n",
       "    </tr>\n",
       "  </thead>\n",
       "  <tbody>\n",
       "    <tr>\n",
       "      <th>199793</th>\n",
       "      <td>mtsamples-type-100-sample-1019</td>\n",
       "      <td>34</td>\n",
       "      <td>37</td>\n",
       "      <td>C0150934</td>\n",
       "    </tr>\n",
       "    <tr>\n",
       "      <th>199794</th>\n",
       "      <td>mtsamples-type-100-sample-1019</td>\n",
       "      <td>40</td>\n",
       "      <td>54</td>\n",
       "      <td>C0150934</td>\n",
       "    </tr>\n",
       "    <tr>\n",
       "      <th>199756</th>\n",
       "      <td>mtsamples-type-100-sample-1019</td>\n",
       "      <td>68</td>\n",
       "      <td>78</td>\n",
       "      <td>C0014245</td>\n",
       "    </tr>\n",
       "    <tr>\n",
       "      <th>199795</th>\n",
       "      <td>mtsamples-type-100-sample-1019</td>\n",
       "      <td>79</td>\n",
       "      <td>84</td>\n",
       "      <td>C0030471</td>\n",
       "    </tr>\n",
       "    <tr>\n",
       "      <th>199757</th>\n",
       "      <td>mtsamples-type-100-sample-1019</td>\n",
       "      <td>85</td>\n",
       "      <td>92</td>\n",
       "      <td>C0543467</td>\n",
       "    </tr>\n",
       "  </tbody>\n",
       "</table>\n",
       "</div>"
      ],
      "text/plain": [
       "                             norm_file  start  end       cui\n",
       "199793  mtsamples-type-100-sample-1019     34   37  C0150934\n",
       "199794  mtsamples-type-100-sample-1019     40   54  C0150934\n",
       "199756  mtsamples-type-100-sample-1019     68   78  C0014245\n",
       "199795  mtsamples-type-100-sample-1019     79   84  C0030471\n",
       "199757  mtsamples-type-100-sample-1019     85   92  C0543467"
      ]
     },
     "execution_count": 22,
     "metadata": {},
     "output_type": "execute_result"
    }
   ],
   "source": [
    "cpos = ctakes.loc[:, [\"norm_file\", \"start\", \"end\", \"cui\"]]\n",
    "cpos.sort_values([\"norm_file\", \"start\"]).head(5)"
   ]
  },
  {
   "cell_type": "code",
   "execution_count": 23,
   "metadata": {},
   "outputs": [
    {
     "data": {
      "text/html": [
       "<div>\n",
       "<style scoped>\n",
       "    .dataframe tbody tr th:only-of-type {\n",
       "        vertical-align: middle;\n",
       "    }\n",
       "\n",
       "    .dataframe tbody tr th {\n",
       "        vertical-align: top;\n",
       "    }\n",
       "\n",
       "    .dataframe thead th {\n",
       "        text-align: right;\n",
       "    }\n",
       "</style>\n",
       "<table border=\"1\" class=\"dataframe\">\n",
       "  <thead>\n",
       "    <tr style=\"text-align: right;\">\n",
       "      <th></th>\n",
       "      <th>norm_file</th>\n",
       "      <th>start_pos</th>\n",
       "      <th>end_pos</th>\n",
       "      <th>document_offset</th>\n",
       "      <th>document_id</th>\n",
       "      <th>cui</th>\n",
       "      <th>true_start</th>\n",
       "      <th>true_end</th>\n",
       "    </tr>\n",
       "  </thead>\n",
       "  <tbody>\n",
       "    <tr>\n",
       "      <th>806824</th>\n",
       "      <td>mtsamples-type-100-sample-1019</td>\n",
       "      <td>0</td>\n",
       "      <td>6</td>\n",
       "      <td>0</td>\n",
       "      <td>0</td>\n",
       "      <td>C0370003</td>\n",
       "      <td>0</td>\n",
       "      <td>6</td>\n",
       "    </tr>\n",
       "    <tr>\n",
       "      <th>806825</th>\n",
       "      <td>mtsamples-type-100-sample-1019</td>\n",
       "      <td>7</td>\n",
       "      <td>11</td>\n",
       "      <td>0</td>\n",
       "      <td>0</td>\n",
       "      <td>C0332307</td>\n",
       "      <td>7</td>\n",
       "      <td>11</td>\n",
       "    </tr>\n",
       "    <tr>\n",
       "      <th>806826</th>\n",
       "      <td>mtsamples-type-100-sample-1019</td>\n",
       "      <td>14</td>\n",
       "      <td>31</td>\n",
       "      <td>0</td>\n",
       "      <td>0</td>\n",
       "      <td>C0037778</td>\n",
       "      <td>14</td>\n",
       "      <td>31</td>\n",
       "    </tr>\n",
       "    <tr>\n",
       "      <th>806827</th>\n",
       "      <td>mtsamples-type-100-sample-1019</td>\n",
       "      <td>34</td>\n",
       "      <td>40</td>\n",
       "      <td>0</td>\n",
       "      <td>0</td>\n",
       "      <td>C0442603</td>\n",
       "      <td>34</td>\n",
       "      <td>40</td>\n",
       "    </tr>\n",
       "    <tr>\n",
       "      <th>806828</th>\n",
       "      <td>mtsamples-type-100-sample-1019</td>\n",
       "      <td>0</td>\n",
       "      <td>6</td>\n",
       "      <td>46</td>\n",
       "      <td>1</td>\n",
       "      <td>C0370003</td>\n",
       "      <td>47</td>\n",
       "      <td>53</td>\n",
       "    </tr>\n",
       "    <tr>\n",
       "      <th>806829</th>\n",
       "      <td>mtsamples-type-100-sample-1019</td>\n",
       "      <td>7</td>\n",
       "      <td>11</td>\n",
       "      <td>46</td>\n",
       "      <td>1</td>\n",
       "      <td>C1547383</td>\n",
       "      <td>54</td>\n",
       "      <td>58</td>\n",
       "    </tr>\n",
       "  </tbody>\n",
       "</table>\n",
       "</div>"
      ],
      "text/plain": [
       "                             norm_file  start_pos  end_pos  document_offset  \\\n",
       "806824  mtsamples-type-100-sample-1019          0        6                0   \n",
       "806825  mtsamples-type-100-sample-1019          7       11                0   \n",
       "806826  mtsamples-type-100-sample-1019         14       31                0   \n",
       "806827  mtsamples-type-100-sample-1019         34       40                0   \n",
       "806828  mtsamples-type-100-sample-1019          0        6               46   \n",
       "806829  mtsamples-type-100-sample-1019          7       11               46   \n",
       "\n",
       "        document_id       cui  true_start  true_end  \n",
       "806824            0  C0370003           0         6  \n",
       "806825            0  C0332307           7        11  \n",
       "806826            0  C0037778          14        31  \n",
       "806827            0  C0442603          34        40  \n",
       "806828            1  C0370003          47        53  \n",
       "806829            1  C1547383          54        58  "
      ]
     },
     "execution_count": 23,
     "metadata": {},
     "output_type": "execute_result"
    }
   ],
   "source": [
    "mpos = metamap.loc[:, [\"norm_file\", \"start_pos\", \"end_pos\", \"document_offset\", \"document_id\", \"cui\"]]\n",
    "mpos[\"true_start\"] = mpos.start_pos + mpos.document_offset + mpos.document_id\n",
    "mpos[\"true_end\"] = mpos.end_pos + mpos.document_offset + mpos.document_id\n",
    "mpos.sort_values([\"norm_file\", \"true_start\"]).head(6)"
   ]
  },
  {
   "cell_type": "code",
   "execution_count": 24,
   "metadata": {},
   "outputs": [],
   "source": [
    "file_cpos = cpos.loc[cpos.norm_file==file_name]\n",
    "file_mpos = mpos.loc[mpos.norm_file==file_name]"
   ]
  },
  {
   "cell_type": "code",
   "execution_count": 25,
   "metadata": {},
   "outputs": [
    {
     "data": {
      "text/html": [
       "<div>\n",
       "<style scoped>\n",
       "    .dataframe tbody tr th:only-of-type {\n",
       "        vertical-align: middle;\n",
       "    }\n",
       "\n",
       "    .dataframe tbody tr th {\n",
       "        vertical-align: top;\n",
       "    }\n",
       "\n",
       "    .dataframe thead th {\n",
       "        text-align: right;\n",
       "    }\n",
       "</style>\n",
       "<table border=\"1\" class=\"dataframe\">\n",
       "  <thead>\n",
       "    <tr style=\"text-align: right;\">\n",
       "      <th></th>\n",
       "      <th>norm_file_x</th>\n",
       "      <th>start</th>\n",
       "      <th>end</th>\n",
       "      <th>cui_x</th>\n",
       "      <th>norm_file_y</th>\n",
       "      <th>start_pos</th>\n",
       "      <th>end_pos</th>\n",
       "      <th>document_offset</th>\n",
       "      <th>document_id</th>\n",
       "      <th>cui_y</th>\n",
       "      <th>true_start</th>\n",
       "      <th>true_end</th>\n",
       "    </tr>\n",
       "  </thead>\n",
       "  <tbody>\n",
       "  </tbody>\n",
       "</table>\n",
       "</div>"
      ],
      "text/plain": [
       "Empty DataFrame\n",
       "Columns: [norm_file_x, start, end, cui_x, norm_file_y, start_pos, end_pos, document_offset, document_id, cui_y, true_start, true_end]\n",
       "Index: []"
      ]
     },
     "execution_count": 25,
     "metadata": {},
     "output_type": "execute_result"
    }
   ],
   "source": [
    "pd.merge(file_cpos, file_mpos, left_on=[\"start\", \"end\"], right_on=[\"true_start\", \"true_end\"])"
   ]
  },
  {
   "cell_type": "markdown",
   "metadata": {},
   "source": [
    "# Expiriments"
   ]
  },
  {
   "cell_type": "markdown",
   "metadata": {},
   "source": [
    "### Creating a Sample"
   ]
  },
  {
   "cell_type": "code",
   "execution_count": 26,
   "metadata": {},
   "outputs": [
    {
     "name": "stdout",
     "output_type": "stream",
     "text": [
      "Sample Size: 385\n"
     ]
    }
   ],
   "source": [
    "import math\n",
    "p = 0.5\n",
    "z = 1.96\n",
    "n = len(ctakes.norm_file.unique())\n",
    "desired_margin_of_error = 0.05\n",
    "\n",
    "sample_size = math.ceil((z ** 2 * p * (1 - p)) / (desired_margin_of_error ** 2))\n",
    "print(\"Sample Size: %d\" % sample_size)"
   ]
  },
  {
   "cell_type": "code",
   "execution_count": 27,
   "metadata": {},
   "outputs": [],
   "source": [
    "files = pd.DataFrame(ctakes.norm_file.unique(), columns=[\"norm_file\"])\n",
    "sample_files = files.sample(sample_size, random_state=101)"
   ]
  },
  {
   "cell_type": "markdown",
   "metadata": {},
   "source": [
    "### Evaluate Concepts Extracted"
   ]
  },
  {
   "cell_type": "code",
   "execution_count": 28,
   "metadata": {},
   "outputs": [],
   "source": [
    "sample_metamap = pd.merge(sample_files, metamap, on=\"norm_file\")\n",
    "sample_ctakes = pd.merge(sample_files, ctakes, on=\"norm_file\")"
   ]
  },
  {
   "cell_type": "code",
   "execution_count": 29,
   "metadata": {},
   "outputs": [
    {
     "data": {
      "image/png": "[encoded data removed]",
      "text/plain": [
       "<Figure size 600x450 with 1 Axes>"
      ]
     },
     "metadata": {},
     "output_type": "display_data"
    }
   ],
   "source": [
    "fig, ax = plt.subplots(figsize=(6, 4.5))\n",
    "\n",
    "plt.bar(\n",
    "    x=[\"Metamap\", \"cTakes\"],\n",
    "    height=[len(sample_metamap), len(sample_ctakes)],\n",
    "    alpha=0.8\n",
    ")\n",
    "\n",
    "ax.set_title(\"Count of Instances Extracted\")\n",
    "ax.set_ylabel(\"Count\")\n",
    "ax.set_ylabel(\"Extraction Method\")\n",
    "\n",
    "plt.show()"
   ]
  },
  {
   "cell_type": "code",
   "execution_count": 30,
   "metadata": {},
   "outputs": [
    {
     "data": {
      "text/html": [
       "<div>\n",
       "<style scoped>\n",
       "    .dataframe tbody tr th:only-of-type {\n",
       "        vertical-align: middle;\n",
       "    }\n",
       "\n",
       "    .dataframe tbody tr th {\n",
       "        vertical-align: top;\n",
       "    }\n",
       "\n",
       "    .dataframe thead th {\n",
       "        text-align: right;\n",
       "    }\n",
       "</style>\n",
       "<table border=\"1\" class=\"dataframe\">\n",
       "  <thead>\n",
       "    <tr style=\"text-align: right;\">\n",
       "      <th></th>\n",
       "      <th></th>\n",
       "      <th>count_ctakes</th>\n",
       "      <th>count_metamap</th>\n",
       "    </tr>\n",
       "    <tr>\n",
       "      <th>norm_file</th>\n",
       "      <th>cui</th>\n",
       "      <th></th>\n",
       "      <th></th>\n",
       "    </tr>\n",
       "  </thead>\n",
       "  <tbody>\n",
       "    <tr>\n",
       "      <th rowspan=\"3\" valign=\"top\">mtsamples-type-90-sample-213</th>\n",
       "      <th>C0030193</th>\n",
       "      <td>56.0</td>\n",
       "      <td>33.0</td>\n",
       "    </tr>\n",
       "    <tr>\n",
       "      <th>C0817096</th>\n",
       "      <td>50.0</td>\n",
       "      <td>3.0</td>\n",
       "    </tr>\n",
       "    <tr>\n",
       "      <th>C0152244</th>\n",
       "      <td>37.0</td>\n",
       "      <td>NaN</td>\n",
       "    </tr>\n",
       "  </tbody>\n",
       "</table>\n",
       "</div>"
      ],
      "text/plain": [
       "                                       count_ctakes  count_metamap\n",
       "norm_file                    cui                                  \n",
       "mtsamples-type-90-sample-213 C0030193          56.0           33.0\n",
       "                             C0817096          50.0            3.0\n",
       "                             C0152244          37.0            NaN"
      ]
     },
     "execution_count": 30,
     "metadata": {},
     "output_type": "execute_result"
    }
   ],
   "source": [
    "file_cui_counts = pd.merge(\n",
    "    left=sample_ctakes.value_counts(merge_cols),\n",
    "    right=sample_metamap.value_counts(merge_cols),\n",
    "    on=merge_cols,\n",
    "    suffixes=[\"_ctakes\", \"_metamap\"],\n",
    "    how=\"outer\"\n",
    ")\n",
    "file_cui_counts.head(3)"
   ]
  },
  {
   "cell_type": "code",
   "execution_count": 31,
   "metadata": {},
   "outputs": [
    {
     "data": {
      "text/html": [
       "<div>\n",
       "<style scoped>\n",
       "    .dataframe tbody tr th:only-of-type {\n",
       "        vertical-align: middle;\n",
       "    }\n",
       "\n",
       "    .dataframe tbody tr th {\n",
       "        vertical-align: top;\n",
       "    }\n",
       "\n",
       "    .dataframe thead th {\n",
       "        text-align: right;\n",
       "    }\n",
       "</style>\n",
       "<table border=\"1\" class=\"dataframe\">\n",
       "  <thead>\n",
       "    <tr style=\"text-align: right;\">\n",
       "      <th></th>\n",
       "      <th>count_ctakes</th>\n",
       "      <th>count_metamap</th>\n",
       "    </tr>\n",
       "  </thead>\n",
       "  <tbody>\n",
       "    <tr>\n",
       "      <th>count</th>\n",
       "      <td>28775.000000</td>\n",
       "      <td>57594.000000</td>\n",
       "    </tr>\n",
       "    <tr>\n",
       "      <th>mean</th>\n",
       "      <td>1.893797</td>\n",
       "      <td>1.606331</td>\n",
       "    </tr>\n",
       "    <tr>\n",
       "      <th>std</th>\n",
       "      <td>2.042907</td>\n",
       "      <td>1.468692</td>\n",
       "    </tr>\n",
       "    <tr>\n",
       "      <th>min</th>\n",
       "      <td>1.000000</td>\n",
       "      <td>1.000000</td>\n",
       "    </tr>\n",
       "    <tr>\n",
       "      <th>25%</th>\n",
       "      <td>1.000000</td>\n",
       "      <td>1.000000</td>\n",
       "    </tr>\n",
       "    <tr>\n",
       "      <th>50%</th>\n",
       "      <td>1.000000</td>\n",
       "      <td>1.000000</td>\n",
       "    </tr>\n",
       "    <tr>\n",
       "      <th>75%</th>\n",
       "      <td>2.000000</td>\n",
       "      <td>2.000000</td>\n",
       "    </tr>\n",
       "    <tr>\n",
       "      <th>max</th>\n",
       "      <td>56.000000</td>\n",
       "      <td>47.000000</td>\n",
       "    </tr>\n",
       "  </tbody>\n",
       "</table>\n",
       "</div>"
      ],
      "text/plain": [
       "       count_ctakes  count_metamap\n",
       "count  28775.000000   57594.000000\n",
       "mean       1.893797       1.606331\n",
       "std        2.042907       1.468692\n",
       "min        1.000000       1.000000\n",
       "25%        1.000000       1.000000\n",
       "50%        1.000000       1.000000\n",
       "75%        2.000000       2.000000\n",
       "max       56.000000      47.000000"
      ]
     },
     "execution_count": 31,
     "metadata": {},
     "output_type": "execute_result"
    }
   ],
   "source": [
    "file_cui_counts.describe()"
   ]
  },
  {
   "cell_type": "code",
   "execution_count": 32,
   "metadata": {},
   "outputs": [
    {
     "name": "stderr",
     "output_type": "stream",
     "text": [
      "/tmp/ipykernel_3955680/1378868919.py:5: UserWarning: set_ticklabels() should only be used with a fixed number of ticks, i.e. after set_ticks() or using a FixedLocator.\n",
      "  cui_references_per_file.set_xticklabels([\"cTakes\", \"Metamap\"])\n"
     ]
    },
    {
     "data": {
      "image/png": "[encoded data removed]",
      "text/plain": [
       "<Figure size 640x480 with 1 Axes>"
      ]
     },
     "metadata": {},
     "output_type": "display_data"
    }
   ],
   "source": [
    "cui_references_per_file = sns.boxplot(file_cui_counts, showfliers=False)\n",
    "cui_references_per_file.set_title(\"Same CUI Mentions per File by Extraction Method\")\n",
    "cui_references_per_file.set_ylabel(\"CUI Mentions per File\")\n",
    "cui_references_per_file.set_xlabel(\"Extraction Method\")\n",
    "cui_references_per_file.set_xticklabels([\"cTakes\", \"Metamap\"])\n",
    "plt.show()"
   ]
  },
  {
   "cell_type": "code",
   "execution_count": 33,
   "metadata": {},
   "outputs": [
    {
     "data": {
      "text/plain": [
       "<Axes: >"
      ]
     },
     "execution_count": 33,
     "metadata": {},
     "output_type": "execute_result"
    },
    {
     "data": {
      "image/png": "[encoded data removed]",
      "text/plain": [
       "<Figure size 640x480 with 1 Axes>"
      ]
     },
     "metadata": {},
     "output_type": "display_data"
    }
   ],
   "source": [
    "sns.boxplot(file_cui_counts.reset_index().loc[:, [\"norm_file\", \"count_ctakes\", \"count_metamap\"]].groupby(\"norm_file\").sum(), showfliers=False)"
   ]
  },
  {
   "cell_type": "code",
   "execution_count": 34,
   "metadata": {},
   "outputs": [
    {
     "data": {
      "text/html": [
       "<div>\n",
       "<style scoped>\n",
       "    .dataframe tbody tr th:only-of-type {\n",
       "        vertical-align: middle;\n",
       "    }\n",
       "\n",
       "    .dataframe tbody tr th {\n",
       "        vertical-align: top;\n",
       "    }\n",
       "\n",
       "    .dataframe thead th {\n",
       "        text-align: right;\n",
       "    }\n",
       "</style>\n",
       "<table border=\"1\" class=\"dataframe\">\n",
       "  <thead>\n",
       "    <tr style=\"text-align: right;\">\n",
       "      <th></th>\n",
       "      <th>norm_file</th>\n",
       "      <th>file</th>\n",
       "      <th>document_id</th>\n",
       "      <th>utterance_id</th>\n",
       "      <th>phrase_id</th>\n",
       "      <th>mapping_id</th>\n",
       "      <th>canidate_id</th>\n",
       "      <th>cui</th>\n",
       "      <th>start_pos</th>\n",
       "      <th>end_pos</th>\n",
       "      <th>...</th>\n",
       "      <th>score</th>\n",
       "      <th>matched</th>\n",
       "      <th>preferred</th>\n",
       "      <th>is_head</th>\n",
       "      <th>negated</th>\n",
       "      <th>file_name</th>\n",
       "      <th>tui</th>\n",
       "      <th>tgroup</th>\n",
       "      <th>start</th>\n",
       "      <th>end</th>\n",
       "    </tr>\n",
       "  </thead>\n",
       "  <tbody>\n",
       "    <tr>\n",
       "      <th>0</th>\n",
       "      <td>mtsamples-type-97-sample-2149</td>\n",
       "      <td>mtsamples-type-97-sample-2149.txt.json</td>\n",
       "      <td>0</td>\n",
       "      <td>0</td>\n",
       "      <td>0</td>\n",
       "      <td>0</td>\n",
       "      <td>0</td>\n",
       "      <td>C0370003</td>\n",
       "      <td>0</td>\n",
       "      <td>6</td>\n",
       "      <td>...</td>\n",
       "      <td>-604</td>\n",
       "      <td>Specimen</td>\n",
       "      <td>Specimen</td>\n",
       "      <td>no</td>\n",
       "      <td>False</td>\n",
       "      <td>NaN</td>\n",
       "      <td>T167</td>\n",
       "      <td>OBJC</td>\n",
       "      <td>0</td>\n",
       "      <td>6</td>\n",
       "    </tr>\n",
       "    <tr>\n",
       "      <th>1</th>\n",
       "      <td>mtsamples-type-97-sample-2149</td>\n",
       "      <td>mtsamples-type-97-sample-2149.txt.json</td>\n",
       "      <td>0</td>\n",
       "      <td>0</td>\n",
       "      <td>0</td>\n",
       "      <td>0</td>\n",
       "      <td>1</td>\n",
       "      <td>C0332307</td>\n",
       "      <td>7</td>\n",
       "      <td>11</td>\n",
       "      <td>...</td>\n",
       "      <td>-604</td>\n",
       "      <td>Type - attribute</td>\n",
       "      <td>Type - attribute</td>\n",
       "      <td>no</td>\n",
       "      <td>False</td>\n",
       "      <td>NaN</td>\n",
       "      <td>T080</td>\n",
       "      <td>CONC</td>\n",
       "      <td>7</td>\n",
       "      <td>11</td>\n",
       "    </tr>\n",
       "    <tr>\n",
       "      <th>2</th>\n",
       "      <td>mtsamples-type-97-sample-2149</td>\n",
       "      <td>mtsamples-type-97-sample-2149.txt.json</td>\n",
       "      <td>0</td>\n",
       "      <td>0</td>\n",
       "      <td>0</td>\n",
       "      <td>0</td>\n",
       "      <td>2</td>\n",
       "      <td>C0037778</td>\n",
       "      <td>14</td>\n",
       "      <td>31</td>\n",
       "      <td>...</td>\n",
       "      <td>-833</td>\n",
       "      <td>Medical speciality</td>\n",
       "      <td>Medical Specialities</td>\n",
       "      <td>yes</td>\n",
       "      <td>True</td>\n",
       "      <td>NaN</td>\n",
       "      <td>T091</td>\n",
       "      <td>OCCU</td>\n",
       "      <td>14</td>\n",
       "      <td>31</td>\n",
       "    </tr>\n",
       "  </tbody>\n",
       "</table>\n",
       "<p>3 rows × 23 columns</p>\n",
       "</div>"
      ],
      "text/plain": [
       "                       norm_file                                    file  \\\n",
       "0  mtsamples-type-97-sample-2149  mtsamples-type-97-sample-2149.txt.json   \n",
       "1  mtsamples-type-97-sample-2149  mtsamples-type-97-sample-2149.txt.json   \n",
       "2  mtsamples-type-97-sample-2149  mtsamples-type-97-sample-2149.txt.json   \n",
       "\n",
       "   document_id  utterance_id  phrase_id  mapping_id  canidate_id       cui  \\\n",
       "0            0             0          0           0            0  C0370003   \n",
       "1            0             0          0           0            1  C0332307   \n",
       "2            0             0          0           0            2  C0037778   \n",
       "\n",
       "   start_pos  end_pos  ...  score             matched             preferred  \\\n",
       "0          0        6  ...   -604            Specimen              Specimen   \n",
       "1          7       11  ...   -604    Type - attribute      Type - attribute   \n",
       "2         14       31  ...   -833  Medical speciality  Medical Specialities   \n",
       "\n",
       "   is_head negated file_name   tui  tgroup  start end  \n",
       "0       no   False       NaN  T167    OBJC      0   6  \n",
       "1       no   False       NaN  T080    CONC      7  11  \n",
       "2      yes    True       NaN  T091    OCCU     14  31  \n",
       "\n",
       "[3 rows x 23 columns]"
      ]
     },
     "execution_count": 34,
     "metadata": {},
     "output_type": "execute_result"
    }
   ],
   "source": [
    "calc_span_start = lambda x: x[\"start_pos\"] + x[\"document_offset\"] + x[\"document_id\"]\n",
    "calc_span_end = lambda x: x[\"end_pos\"] + x[\"document_offset\"] + x[\"document_id\"]\n",
    "\n",
    "sample_metamap[\"start\"] = sample_metamap.apply(calc_span_start, axis=1)\n",
    "sample_metamap[\"end\"] = sample_metamap.apply(calc_span_end, axis=1)\n",
    "\n",
    "sample_metamap.head(3)"
   ]
  },
  {
   "cell_type": "code",
   "execution_count": 35,
   "metadata": {},
   "outputs": [],
   "source": [
    "base_scpos = sample_ctakes.loc[:, [\"norm_file\", \"cui\",  \"tgroup\", \"tui\", \"start\", \"end\"]]\n",
    "scpos = base_scpos.reset_index().rename({\"index\": \"id\"}, axis=1)\n",
    "scpos[\"id\"] = scpos.id.apply(lambda x: \"c\" + str(x))\n",
    "\n",
    "base_smpos = sample_metamap.loc[:, [\"norm_file\", \"cui\", \"tgroup\", \"tui\", \"start\", \"end\"]]\n",
    "smpos = base_smpos.reset_index().rename({\"index\": \"id\"}, axis=1)\n",
    "smpos[\"id\"] = smpos.id.apply(lambda x: \"m\" + str(x))\n",
    "\n",
    "matches = pd.merge(smpos, scpos, on=[\"norm_file\", \"start\", \"end\"], suffixes=[\"_metamap\", \"_ctakes\"], how=\"outer\")"
   ]
  },
  {
   "cell_type": "code",
   "execution_count": 36,
   "metadata": {},
   "outputs": [],
   "source": [
    "import numpy as np\n",
    "all_tgroup_cnts = matches.replace(np.nan, None).apply(lambda x: x[\"tgroup_metamap\"] if x[\"tgroup_metamap\"] is not None else x[\"tgroup_ctakes\"], axis=1).value_counts()\n",
    "exact_match_tgroup_cnts = matches.loc[matches.cui_metamap == matches.cui_ctakes, \"tgroup_ctakes\"].rename(\"tui\").value_counts()"
   ]
  },
  {
   "cell_type": "markdown",
   "metadata": {},
   "source": [
    "### Comparing Semantic Typings"
   ]
  },
  {
   "cell_type": "code",
   "execution_count": 37,
   "metadata": {},
   "outputs": [
    {
     "data": {
      "image/png": "[encoded data removed]",
      "text/plain": [
       "<Figure size 640x480 with 1 Axes>"
      ]
     },
     "metadata": {},
     "output_type": "display_data"
    }
   ],
   "source": [
    "fig, ax = plt.subplots()\n",
    "\n",
    "(exact_match_tgroup_cnts / all_tgroup_cnts).sort_values(ascending=False)[::-1].plot.barh(title=\"Percent of Group Extractions as an Exact Match\", xlabel=\"% of Total for Group\", ylabel=\"Semantic Group\", alpha=0.8)\n",
    "plt.show()"
   ]
  },
  {
   "cell_type": "code",
   "execution_count": 38,
   "metadata": {},
   "outputs": [],
   "source": [
    "import numpy as np\n",
    "all_tui_cnts = matches.replace(np.nan, None).apply(lambda x: x[\"tui_metamap\"] if x[\"tui_metamap\"] is not None else x[\"tui_ctakes\"], axis=1).value_counts()\n",
    "exact_match_tui_cnts = matches.loc[matches.cui_metamap == matches.cui_ctakes, \"tui_ctakes\"].rename(\"tui\").value_counts()"
   ]
  },
  {
   "cell_type": "code",
   "execution_count": 39,
   "metadata": {},
   "outputs": [
    {
     "name": "stdout",
     "output_type": "stream",
     "text": [
      "The number of TUIs found in exact matches over all concepts: 45/110 (40.91%)\n"
     ]
    },
    {
     "data": {
      "image/png": "[encoded data removed]",
      "text/plain": [
       "<Figure size 600x1000 with 1 Axes>"
      ]
     },
     "metadata": {},
     "output_type": "display_data"
    }
   ],
   "source": [
    "fig, ax = plt.subplots(figsize=(6, 10))\n",
    "\n",
    "plt.axvline(x=0.25, linewidth=1, linestyle=\"--\", alpha=0.5, label=\"25%\")\n",
    "plt.axvline(x=0.5, linewidth=1, linestyle=\"--\", alpha=0.5, label=\"50%\")\n",
    "plt.axvline(x=0.75, linewidth=1, linestyle=\"--\", alpha=0.5, label=\"75%\")\n",
    "\n",
    "tmp = (exact_match_tui_cnts / all_tui_cnts)\n",
    "tmp = tmp.loc[~tmp.isnull()]\n",
    "tmp.sort_values(ascending=False)[::-1].plot.barh(title=\"Percent of TUI Extractions as an Exact Match\", xlabel=\"% of Total for TUI\", ylabel=\"TUI\", alpha=0.8)\n",
    "\n",
    "print(\"The number of TUIs found in exact matches over all concepts: %d/%d (%.2f%%)\" % (len(tmp), len(all_tui_cnts), len(tmp) / len(all_tui_cnts) * 100))\n",
    "plt.show()"
   ]
  },
  {
   "cell_type": "code",
   "execution_count": 40,
   "metadata": {},
   "outputs": [],
   "source": [
    "metamap_tgroups = matches.tgroup_metamap.value_counts().rename(\"metamap\").fillna(0) / matches.tgroup_metamap.value_counts().sum()\n",
    "ctakes_tgroups = matches.tgroup_ctakes.value_counts().rename(\"ctakes\").fillna(0) / matches.tgroup_ctakes.value_counts().sum()\n",
    "\n",
    "groups = metamap_tgroups.to_frame().join(ctakes_tgroups).fillna(0).sort_index()"
   ]
  },
  {
   "cell_type": "code",
   "execution_count": 41,
   "metadata": {},
   "outputs": [
    {
     "data": {
      "text/plain": [
       "(8, 'CONC, DEVI, GENE, GEOG, LIVB, OBJC, OCCU, ORGA')"
      ]
     },
     "execution_count": 41,
     "metadata": {},
     "output_type": "execute_result"
    }
   ],
   "source": [
    "len(groups[groups.ctakes==0].index), \", \".join(groups[groups.ctakes==0].index)"
   ]
  },
  {
   "cell_type": "code",
   "execution_count": 42,
   "metadata": {},
   "outputs": [
    {
     "data": {
      "text/html": [
       "<div>\n",
       "<style scoped>\n",
       "    .dataframe tbody tr th:only-of-type {\n",
       "        vertical-align: middle;\n",
       "    }\n",
       "\n",
       "    .dataframe tbody tr th {\n",
       "        vertical-align: top;\n",
       "    }\n",
       "\n",
       "    .dataframe thead th {\n",
       "        text-align: right;\n",
       "    }\n",
       "</style>\n",
       "<table border=\"1\" class=\"dataframe\">\n",
       "  <thead>\n",
       "    <tr style=\"text-align: right;\">\n",
       "      <th></th>\n",
       "      <th>abbrev_group</th>\n",
       "      <th>name_group</th>\n",
       "      <th>tui</th>\n",
       "      <th>type_name</th>\n",
       "      <th>abbrev_type</th>\n",
       "      <th>name_type</th>\n",
       "    </tr>\n",
       "  </thead>\n",
       "  <tbody>\n",
       "    <tr>\n",
       "      <th>0</th>\n",
       "      <td>ACTI</td>\n",
       "      <td>Activities &amp; Behaviors</td>\n",
       "      <td>T052</td>\n",
       "      <td>Activity</td>\n",
       "      <td>acty</td>\n",
       "      <td>Activity</td>\n",
       "    </tr>\n",
       "    <tr>\n",
       "      <th>1</th>\n",
       "      <td>ACTI</td>\n",
       "      <td>Activities &amp; Behaviors</td>\n",
       "      <td>T053</td>\n",
       "      <td>Behavior</td>\n",
       "      <td>bhvr</td>\n",
       "      <td>Behavior</td>\n",
       "    </tr>\n",
       "    <tr>\n",
       "      <th>2</th>\n",
       "      <td>ACTI</td>\n",
       "      <td>Activities &amp; Behaviors</td>\n",
       "      <td>T056</td>\n",
       "      <td>Daily or Recreational Activity</td>\n",
       "      <td>dora</td>\n",
       "      <td>Daily or Recreational Activity</td>\n",
       "    </tr>\n",
       "    <tr>\n",
       "      <th>3</th>\n",
       "      <td>ACTI</td>\n",
       "      <td>Activities &amp; Behaviors</td>\n",
       "      <td>T051</td>\n",
       "      <td>Event</td>\n",
       "      <td>evnt</td>\n",
       "      <td>Event</td>\n",
       "    </tr>\n",
       "    <tr>\n",
       "      <th>4</th>\n",
       "      <td>ACTI</td>\n",
       "      <td>Activities &amp; Behaviors</td>\n",
       "      <td>T064</td>\n",
       "      <td>Governmental or Regulatory Activity</td>\n",
       "      <td>gora</td>\n",
       "      <td>Governmental or Regulatory Activity</td>\n",
       "    </tr>\n",
       "    <tr>\n",
       "      <th>...</th>\n",
       "      <td>...</td>\n",
       "      <td>...</td>\n",
       "      <td>...</td>\n",
       "      <td>...</td>\n",
       "      <td>...</td>\n",
       "      <td>...</td>\n",
       "    </tr>\n",
       "    <tr>\n",
       "      <th>122</th>\n",
       "      <td>PROC</td>\n",
       "      <td>Procedures</td>\n",
       "      <td>T058</td>\n",
       "      <td>Health Care Activity</td>\n",
       "      <td>hlca</td>\n",
       "      <td>Health Care Activity</td>\n",
       "    </tr>\n",
       "    <tr>\n",
       "      <th>123</th>\n",
       "      <td>PROC</td>\n",
       "      <td>Procedures</td>\n",
       "      <td>T059</td>\n",
       "      <td>Laboratory Procedure</td>\n",
       "      <td>lbpr</td>\n",
       "      <td>Laboratory Procedure</td>\n",
       "    </tr>\n",
       "    <tr>\n",
       "      <th>124</th>\n",
       "      <td>PROC</td>\n",
       "      <td>Procedures</td>\n",
       "      <td>T063</td>\n",
       "      <td>Molecular Biology Research Technique</td>\n",
       "      <td>mbrt</td>\n",
       "      <td>Molecular Biology Research Technique</td>\n",
       "    </tr>\n",
       "    <tr>\n",
       "      <th>125</th>\n",
       "      <td>PROC</td>\n",
       "      <td>Procedures</td>\n",
       "      <td>T062</td>\n",
       "      <td>Research Activity</td>\n",
       "      <td>resa</td>\n",
       "      <td>Research Activity</td>\n",
       "    </tr>\n",
       "    <tr>\n",
       "      <th>126</th>\n",
       "      <td>PROC</td>\n",
       "      <td>Procedures</td>\n",
       "      <td>T061</td>\n",
       "      <td>Therapeutic or Preventive Procedure</td>\n",
       "      <td>topp</td>\n",
       "      <td>Therapeutic or Preventive Procedure</td>\n",
       "    </tr>\n",
       "  </tbody>\n",
       "</table>\n",
       "<p>127 rows × 6 columns</p>\n",
       "</div>"
      ],
      "text/plain": [
       "    abbrev_group              name_group   tui  \\\n",
       "0           ACTI  Activities & Behaviors  T052   \n",
       "1           ACTI  Activities & Behaviors  T053   \n",
       "2           ACTI  Activities & Behaviors  T056   \n",
       "3           ACTI  Activities & Behaviors  T051   \n",
       "4           ACTI  Activities & Behaviors  T064   \n",
       "..           ...                     ...   ...   \n",
       "122         PROC              Procedures  T058   \n",
       "123         PROC              Procedures  T059   \n",
       "124         PROC              Procedures  T063   \n",
       "125         PROC              Procedures  T062   \n",
       "126         PROC              Procedures  T061   \n",
       "\n",
       "                                type_name abbrev_type  \\\n",
       "0                                Activity        acty   \n",
       "1                                Behavior        bhvr   \n",
       "2          Daily or Recreational Activity        dora   \n",
       "3                                   Event        evnt   \n",
       "4     Governmental or Regulatory Activity        gora   \n",
       "..                                    ...         ...   \n",
       "122                  Health Care Activity        hlca   \n",
       "123                  Laboratory Procedure        lbpr   \n",
       "124  Molecular Biology Research Technique        mbrt   \n",
       "125                     Research Activity        resa   \n",
       "126   Therapeutic or Preventive Procedure        topp   \n",
       "\n",
       "                                name_type  \n",
       "0                                Activity  \n",
       "1                                Behavior  \n",
       "2          Daily or Recreational Activity  \n",
       "3                                   Event  \n",
       "4     Governmental or Regulatory Activity  \n",
       "..                                    ...  \n",
       "122                  Health Care Activity  \n",
       "123                  Laboratory Procedure  \n",
       "124  Molecular Biology Research Technique  \n",
       "125                     Research Activity  \n",
       "126   Therapeutic or Preventive Procedure  \n",
       "\n",
       "[127 rows x 6 columns]"
      ]
     },
     "execution_count": 42,
     "metadata": {},
     "output_type": "execute_result"
    }
   ],
   "source": [
    "semantic_map"
   ]
  },
  {
   "cell_type": "code",
   "execution_count": 43,
   "metadata": {},
   "outputs": [],
   "source": [
    "abbrv_to_name = {k:v for k, v in semantic_map.loc[:, [\"abbrev_group\", \"name_group\"]].drop_duplicates().values.tolist()}"
   ]
  },
  {
   "cell_type": "code",
   "execution_count": 44,
   "metadata": {},
   "outputs": [
    {
     "data": {
      "text/html": [
       "<div>\n",
       "<style scoped>\n",
       "    .dataframe tbody tr th:only-of-type {\n",
       "        vertical-align: middle;\n",
       "    }\n",
       "\n",
       "    .dataframe tbody tr th {\n",
       "        vertical-align: top;\n",
       "    }\n",
       "\n",
       "    .dataframe thead th {\n",
       "        text-align: right;\n",
       "    }\n",
       "</style>\n",
       "<table border=\"1\" class=\"dataframe\">\n",
       "  <thead>\n",
       "    <tr style=\"text-align: right;\">\n",
       "      <th></th>\n",
       "      <th>tgroup_metamap</th>\n",
       "      <th>metamap</th>\n",
       "      <th>ctakes</th>\n",
       "      <th>group_name</th>\n",
       "    </tr>\n",
       "  </thead>\n",
       "  <tbody>\n",
       "    <tr>\n",
       "      <th>0</th>\n",
       "      <td>ACTI</td>\n",
       "      <td>0.0125</td>\n",
       "      <td>0.0083</td>\n",
       "      <td>Activities &amp; Behaviors</td>\n",
       "    </tr>\n",
       "    <tr>\n",
       "      <th>1</th>\n",
       "      <td>ANAT</td>\n",
       "      <td>0.1101</td>\n",
       "      <td>0.3133</td>\n",
       "      <td>Anatomy</td>\n",
       "    </tr>\n",
       "    <tr>\n",
       "      <th>2</th>\n",
       "      <td>CHEM</td>\n",
       "      <td>0.0390</td>\n",
       "      <td>0.0648</td>\n",
       "      <td>Chemicals &amp; Drugs</td>\n",
       "    </tr>\n",
       "    <tr>\n",
       "      <th>3</th>\n",
       "      <td>CONC</td>\n",
       "      <td>0.4083</td>\n",
       "      <td>0.0000</td>\n",
       "      <td>Concepts &amp; Ideas</td>\n",
       "    </tr>\n",
       "    <tr>\n",
       "      <th>4</th>\n",
       "      <td>DEVI</td>\n",
       "      <td>0.0289</td>\n",
       "      <td>0.0000</td>\n",
       "      <td>Devices</td>\n",
       "    </tr>\n",
       "    <tr>\n",
       "      <th>5</th>\n",
       "      <td>DISO</td>\n",
       "      <td>0.1741</td>\n",
       "      <td>0.3929</td>\n",
       "      <td>Disorders</td>\n",
       "    </tr>\n",
       "    <tr>\n",
       "      <th>6</th>\n",
       "      <td>GENE</td>\n",
       "      <td>0.0001</td>\n",
       "      <td>0.0000</td>\n",
       "      <td>Genes &amp; Molecular Sequences</td>\n",
       "    </tr>\n",
       "    <tr>\n",
       "      <th>7</th>\n",
       "      <td>GEOG</td>\n",
       "      <td>0.0034</td>\n",
       "      <td>0.0000</td>\n",
       "      <td>Geographic Areas</td>\n",
       "    </tr>\n",
       "    <tr>\n",
       "      <th>8</th>\n",
       "      <td>LIVB</td>\n",
       "      <td>0.0315</td>\n",
       "      <td>0.0000</td>\n",
       "      <td>Living Beings</td>\n",
       "    </tr>\n",
       "    <tr>\n",
       "      <th>9</th>\n",
       "      <td>OBJC</td>\n",
       "      <td>0.0299</td>\n",
       "      <td>0.0000</td>\n",
       "      <td>Objects</td>\n",
       "    </tr>\n",
       "    <tr>\n",
       "      <th>10</th>\n",
       "      <td>OCCU</td>\n",
       "      <td>0.0104</td>\n",
       "      <td>0.0000</td>\n",
       "      <td>Occupations</td>\n",
       "    </tr>\n",
       "    <tr>\n",
       "      <th>11</th>\n",
       "      <td>ORGA</td>\n",
       "      <td>0.0054</td>\n",
       "      <td>0.0000</td>\n",
       "      <td>Organizations</td>\n",
       "    </tr>\n",
       "    <tr>\n",
       "      <th>12</th>\n",
       "      <td>PHEN</td>\n",
       "      <td>0.0048</td>\n",
       "      <td>0.0029</td>\n",
       "      <td>Phenomena</td>\n",
       "    </tr>\n",
       "    <tr>\n",
       "      <th>13</th>\n",
       "      <td>PHYS</td>\n",
       "      <td>0.0306</td>\n",
       "      <td>0.0410</td>\n",
       "      <td>Physiology</td>\n",
       "    </tr>\n",
       "    <tr>\n",
       "      <th>14</th>\n",
       "      <td>PROC</td>\n",
       "      <td>0.1111</td>\n",
       "      <td>0.1769</td>\n",
       "      <td>Procedures</td>\n",
       "    </tr>\n",
       "  </tbody>\n",
       "</table>\n",
       "</div>"
      ],
      "text/plain": [
       "   tgroup_metamap  metamap  ctakes                   group_name\n",
       "0            ACTI   0.0125  0.0083       Activities & Behaviors\n",
       "1            ANAT   0.1101  0.3133                      Anatomy\n",
       "2            CHEM   0.0390  0.0648            Chemicals & Drugs\n",
       "3            CONC   0.4083  0.0000             Concepts & Ideas\n",
       "4            DEVI   0.0289  0.0000                      Devices\n",
       "5            DISO   0.1741  0.3929                    Disorders\n",
       "6            GENE   0.0001  0.0000  Genes & Molecular Sequences\n",
       "7            GEOG   0.0034  0.0000             Geographic Areas\n",
       "8            LIVB   0.0315  0.0000                Living Beings\n",
       "9            OBJC   0.0299  0.0000                      Objects\n",
       "10           OCCU   0.0104  0.0000                  Occupations\n",
       "11           ORGA   0.0054  0.0000                Organizations\n",
       "12           PHEN   0.0048  0.0029                    Phenomena\n",
       "13           PHYS   0.0306  0.0410                   Physiology\n",
       "14           PROC   0.1111  0.1769                   Procedures"
      ]
     },
     "execution_count": 44,
     "metadata": {},
     "output_type": "execute_result"
    }
   ],
   "source": [
    "tmp = groups.apply(lambda x: round(x, 4))\n",
    "tmp = tmp.reset_index()\n",
    "tmp[\"group_name\"] = tmp.tgroup_metamap.map(abbrv_to_name)\n",
    "tmp"
   ]
  },
  {
   "cell_type": "code",
   "execution_count": 52,
   "metadata": {},
   "outputs": [
    {
     "data": {
      "image/png": "[encoded data removed]",
      "text/plain": [
       "<Figure size 2000x600 with 2 Axes>"
      ]
     },
     "metadata": {},
     "output_type": "display_data"
    }
   ],
   "source": [
    "fig, ax = plt.subplots(1, 2, figsize=(20, 6))\n",
    "\n",
    "groups.plot.bar(\n",
    "    title=\"Percent Whole by Application (Each App adds to 100)\",\n",
    "    ylabel=\"% of Whole\",\n",
    "    xlabel=\"Group\",\n",
    "    ax=ax[0]\n",
    ")\n",
    "\n",
    "(groups.metamap/(groups.metamap + groups.ctakes)).rename(\"metamap\").to_frame().join((groups.ctakes/(groups.metamap + groups.ctakes)).rename(\"ctakes\")).plot.bar(\n",
    "    title=\"Percent Whole by Extracted Groups (Each Group adds to 100)\",\n",
    "    ylabel=\"% of Whole\",\n",
    "    xlabel=\"Group\",\n",
    "    ax=ax[1]\n",
    ")\n",
    "\n",
    "plt.show()"
   ]
  },
  {
   "cell_type": "markdown",
   "metadata": {},
   "source": [
    "Metamap collects more groups than cTakes so the graphic depics this. It is not showing how the apps perform on same topics. Below shows this"
   ]
  },
  {
   "cell_type": "code",
   "execution_count": 46,
   "metadata": {},
   "outputs": [
    {
     "data": {
      "image/png": "[encoded data removed]",
      "text/plain": [
       "<Figure size 2000x600 with 2 Axes>"
      ]
     },
     "metadata": {},
     "output_type": "display_data"
    }
   ],
   "source": [
    "ctakes_tgroups = matches.tgroup_ctakes.value_counts().rename(\"ctakes\").fillna(0) / matches.tgroup_ctakes.value_counts().sum()\n",
    "metamap_tgroups = matches.loc[matches.tgroup_metamap.isin(ctakes_tgroups.index), \"tgroup_metamap\"].value_counts().rename(\"metamap\").fillna(0) / matches.loc[matches.tgroup_metamap.isin(ctakes_tgroups.index), \"tgroup_metamap\"].value_counts().sum()\n",
    "\n",
    "groups = ctakes_tgroups.to_frame().join(metamap_tgroups).sort_index()[[\"metamap\", \"ctakes\"]]\n",
    "\n",
    "fig, ax = plt.subplots(1, 2, figsize=(20, 6))\n",
    "\n",
    "groups.plot.bar(\n",
    "    title=\"Percent Whole by Application (Each App adds to 100)\",\n",
    "    ylabel=\"% of Whole\",\n",
    "    xlabel=\"Group\",\n",
    "    ax=ax[0]\n",
    ")\n",
    "\n",
    "(groups.metamap/(groups.metamap + groups.ctakes)).rename(\"metamap\").to_frame().join((groups.ctakes/(groups.metamap + groups.ctakes)).rename(\"ctakes\")).plot.bar(\n",
    "    title=\"Percent Whole by Extracted Groups (Each Group adds to 100)\",\n",
    "    ylabel=\"% of Whole\",\n",
    "    xlabel=\"Group\",\n",
    "    ax=ax[1]\n",
    ")\n",
    "\n",
    "plt.show()"
   ]
  },
  {
   "cell_type": "code",
   "execution_count": 47,
   "metadata": {},
   "outputs": [
    {
     "data": {
      "text/plain": [
       "<Axes: xlabel='tgroup_ctakes'>"
      ]
     },
     "execution_count": 47,
     "metadata": {},
     "output_type": "execute_result"
    },
    {
     "data": {
      "image/png": "[encoded data removed]",
      "text/plain": [
       "<Figure size 640x480 with 1 Axes>"
      ]
     },
     "metadata": {},
     "output_type": "display_data"
    }
   ],
   "source": [
    "ctakes_tgroups = matches.tgroup_ctakes.value_counts().rename(\"ctakes\").fillna(0)\n",
    "metamap_tgroups = matches.loc[matches.tgroup_metamap.isin(ctakes_tgroups.index), \"tgroup_metamap\"].value_counts().rename(\"metamap\").fillna(0)\n",
    "\n",
    "groups = ctakes_tgroups.to_frame().join(metamap_tgroups).sort_index()[[\"metamap\", \"ctakes\"]]\n",
    "groups.plot.bar()"
   ]
  },
  {
   "cell_type": "code",
   "execution_count": 48,
   "metadata": {},
   "outputs": [
    {
     "data": {
      "text/plain": [
       "<Axes: xlabel='tgroup_metamap'>"
      ]
     },
     "execution_count": 48,
     "metadata": {},
     "output_type": "execute_result"
    },
    {
     "data": {
      "image/png": "[encoded data removed]",
      "text/plain": [
       "<Figure size 640x480 with 1 Axes>"
      ]
     },
     "metadata": {},
     "output_type": "display_data"
    }
   ],
   "source": [
    "ctakes_tgroups = matches.tgroup_ctakes.value_counts().rename(\"ctakes\").fillna(0)\n",
    "metamap_tgroups = matches.tgroup_metamap.value_counts().rename(\"metamap\").fillna(0)\n",
    "\n",
    "groups = metamap_tgroups.to_frame().join(ctakes_tgroups).sort_index()[[\"metamap\", \"ctakes\"]]\n",
    "groups.plot.bar()"
   ]
  },
  {
   "cell_type": "markdown",
   "metadata": {},
   "source": [
    "## Overlaps"
   ]
  },
  {
   "cell_type": "code",
   "execution_count": 49,
   "metadata": {},
   "outputs": [],
   "source": [
    "import sqlite3\n",
    "def insert_positions(df, table, cxn, n=1000):\n",
    "\n",
    "    cols = df.columns\n",
    "    sql = \"INSERT INTO %s (%s) VALUES (%s);\" % (table, \", \".join(cols), \", \".join([\"?\"] * len(cols)))\n",
    "\n",
    "    values = df.values.tolist()\n",
    "    for i in range(0, len(values), n):\n",
    "        curr = cxn.cursor()\n",
    "        curr.executemany(sql, values[i:i+n])\n",
    "        curr.close()\n",
    "        cxn.commit()\n",
    "        yield (i,i+n)"
   ]
  },
  {
   "cell_type": "code",
   "execution_count": 60,
   "metadata": {},
   "outputs": [],
   "source": [
    "cxn = sqlite3.connect(\"/home/xc383@drexel.edu/text2graph/postitions.db\")\n",
    "curr = cxn.cursor()\n",
    "curr.execute(\"\"\"\n",
    "CREATE TABLE metamap (\n",
    "\tid varchar(255) primary key,\n",
    "\tnorm_file varchar(255) not null,\n",
    "\tcui varchar(55) not null,\n",
    "\ttgroup varchar(4) not null,\n",
    "\ttui varchar(4) not null,\n",
    "\tstart int not null,\n",
    "\tend int not null\n",
    ");\n",
    "\"\"\")\n",
    "curr.execute(\"\"\"\n",
    "CREATE TABLE ctakes (\n",
    "\tid varchar(255) primary key,\n",
    "\tnorm_file varchar(255) not null,\n",
    "\tcui varchar(55) not null,\n",
    "\ttgroup varchar(4) not null,\n",
    "\ttui varchar(4) not null,\n",
    "\tstart int not null,\n",
    "\tend int not null\n",
    ");\n",
    "\"\"\")\n",
    "cxn.commit()\n",
    "curr.close()"
   ]
  },
  {
   "cell_type": "code",
   "execution_count": 61,
   "metadata": {},
   "outputs": [],
   "source": [
    "itm = insert_positions(smpos, \"metamap\", cxn, 10000)\n",
    "for i in itm:\n",
    "    pass"
   ]
  },
  {
   "cell_type": "code",
   "execution_count": 62,
   "metadata": {},
   "outputs": [],
   "source": [
    "itc = insert_positions(scpos, \"ctakes\", cxn, 10000)\n",
    "for i in itc:\n",
    "    pass"
   ]
  },
  {
   "cell_type": "markdown",
   "metadata": {},
   "source": [
    "CREATE TABLE metamap (\n",
    "\tid varchar(255) primary key,\n",
    "\tnorm_file varchar(255) not null,\n",
    "\tcui varchar(55) not null,\n",
    "\ttgroup varchar(4) not null,\n",
    "\ttui varchar(4) not null,\n",
    "\tstart int not null,\n",
    "\tend int not null\n",
    ");\n",
    "\n",
    "CREATE TABLE ctakes (\n",
    "\tid varchar(255) primary key,\n",
    "\tnorm_file varchar(255) not null,\n",
    "\tcui varchar(55) not null,\n",
    "\ttgroup varchar(4) not null,\n",
    "\ttui varchar(4) not null,\n",
    "\tstart int not null,\n",
    "\tend int not null\n",
    ");\n",
    "\n",
    "CREATE TABLE overlaps AS\n",
    "SELECT\n",
    "        m.norm_file,\n",
    "        m.id AS m_id,\n",
    "        m.cui AS m_cui,\n",
    "        m.tgroup AS m_tgroup,\n",
    "        m.tui AS m_tui,\n",
    "        m.start AS m_start,\n",
    "        m.end AS m_end,\n",
    "        c.id AS c_id,\n",
    "        c.cui AS c_cui,\n",
    "        c.tgroup AS c_tgroup,\n",
    "        c.tui AS c_tui,\n",
    "        c.start AS c_start,\n",
    "        c.end AS c_end\n",
    "    FROM\n",
    "        metamap m\n",
    "    JOIN\n",
    "        ctakes c ON m.norm_file = c.norm_file\n",
    "    WHERE\n",
    "        m.start <= c.end AND m.end >= c.start\n",
    "        AND m.norm_file = c.norm_file;"
   ]
  },
  {
   "cell_type": "code",
   "execution_count": 64,
   "metadata": {},
   "outputs": [],
   "source": [
    "query = \"\"\"\n",
    "    SELECT\n",
    "        m.norm_file,\n",
    "        m.id AS m_id,\n",
    "        m.cui AS m_cui,\n",
    "        m.tgroup AS m_tgroup,\n",
    "        m.tui AS m_tui,\n",
    "        m.start AS m_start,\n",
    "        m.end AS m_end,\n",
    "        c.id AS c_id,\n",
    "        c.cui AS c_cui,\n",
    "        c.tgroup AS c_tgroup,\n",
    "        c.tui AS c_tui,\n",
    "        c.start AS c_start,\n",
    "        c.end AS c_end\n",
    "    FROM\n",
    "        metamap m\n",
    "    JOIN\n",
    "        ctakes c ON m.norm_file = c.norm_file\n",
    "    WHERE\n",
    "        m.start <= c.end AND m.end >= c.start\n",
    "        AND m.norm_file = c.norm_file;\n",
    "\"\"\""
   ]
  },
  {
   "cell_type": "code",
   "execution_count": 65,
   "metadata": {},
   "outputs": [],
   "source": [
    "overlaps = cxn.execute(query)"
   ]
  },
  {
   "cell_type": "code",
   "execution_count": 66,
   "metadata": {},
   "outputs": [],
   "source": [
    "cols = [x[0] for x in overlaps.description]\n",
    "ovrlps = pd.DataFrame(overlaps.fetchall(), columns=cols)"
   ]
  },
  {
   "cell_type": "code",
   "execution_count": 67,
   "metadata": {},
   "outputs": [
    {
     "data": {
      "image/png": "[encoded data removed]",
      "text/plain": [
       "<Figure size 640x480 with 2 Axes>"
      ]
     },
     "metadata": {},
     "output_type": "display_data"
    }
   ],
   "source": [
    "fig, ax = plt.subplots(1, 2)\n",
    "sns.boxplot(ovrlps.value_counts(\"c_id\"), showfliers=False, ax=ax[0])\n",
    "ax[0].set_title(\"cTakes\")\n",
    "sns.boxplot(ovrlps.value_counts(\"m_id\"), showfliers=False, ax=ax[1])\n",
    "ax[1].set_title(\"Metamap\")\n",
    "\n",
    "plt.suptitle(\"Number of Overlaps per Instance\")\n",
    "plt.tight_layout()"
   ]
  },
  {
   "cell_type": "code",
   "execution_count": 68,
   "metadata": {},
   "outputs": [
    {
     "name": "stdout",
     "output_type": "stream",
     "text": [
      "67.77% of overlapping spans have the same group.\n",
      "41.51% of overlapping spans have the same cui.\n",
      "Constrained to Common Groups:\n",
      "\t78.89% of overlapping spans have the same group.\n",
      "\t48.31% of overlapping spans have the same cui.\n"
     ]
    }
   ],
   "source": [
    "print(f\"{sum(ovrlps.m_tgroup == ovrlps.c_tgroup) / len(ovrlps) * 100:.2f}% of overlapping spans have the same group.\")\n",
    "print(f\"{sum(ovrlps.m_cui == ovrlps.c_cui) / len(ovrlps) * 100:.2f}% of overlapping spans have the same cui.\")\n",
    "print(\"Constrained to Common Groups:\")\n",
    "print(f\"\\t{sum(ovrlps.loc[ovrlps.m_tgroup.isin(scpos.tgroup.unique())].m_tgroup == ovrlps.loc[ovrlps.m_tgroup.isin(scpos.tgroup.unique())].c_tgroup) / len(ovrlps.loc[ovrlps.m_tgroup.isin(scpos.tgroup.unique())]) * 100:.2f}% of overlapping spans have the same group.\")\n",
    "print(f\"\\t{sum(ovrlps.loc[ovrlps.m_tgroup.isin(scpos.tgroup.unique())].m_cui == ovrlps.loc[ovrlps.m_tgroup.isin(scpos.tgroup.unique())].c_cui) / len(ovrlps.loc[ovrlps.m_tgroup.isin(scpos.tgroup.unique())]) * 100:.2f}% of overlapping spans have the same cui.\")"
   ]
  },
  {
   "cell_type": "code",
   "execution_count": 69,
   "metadata": {},
   "outputs": [
    {
     "data": {
      "text/plain": [
       "97.1"
      ]
     },
     "execution_count": 69,
     "metadata": {},
     "output_type": "execute_result"
    }
   ],
   "source": [
    "c1 = pd.merge(ovrlps, scpos, left_on=\"c_id\", right_on=\"id\", how=\"inner\")\n",
    "round((len(c1.c_id.unique()) / len(scpos)) * 100, 2)"
   ]
  },
  {
   "cell_type": "code",
   "execution_count": 70,
   "metadata": {},
   "outputs": [
    {
     "data": {
      "text/plain": [
       "42.37"
      ]
     },
     "execution_count": 70,
     "metadata": {},
     "output_type": "execute_result"
    }
   ],
   "source": [
    "m1 = pd.merge(ovrlps, smpos, left_on=\"m_id\", right_on=\"id\", how=\"inner\")\n",
    "round((len(m1.m_id.unique()) / len(smpos)) * 100, 2)"
   ]
  },
  {
   "cell_type": "code",
   "execution_count": 71,
   "metadata": {},
   "outputs": [
    {
     "data": {
      "text/plain": [
       "42.37"
      ]
     },
     "execution_count": 71,
     "metadata": {},
     "output_type": "execute_result"
    }
   ],
   "source": [
    "m2 = pd.merge(ovrlps.loc[ovrlps.m_tgroup.isin(scpos.tgroup.unique())], smpos, left_on=\"m_id\", right_on=\"id\", how=\"inner\")\n",
    "round((len(m1.m_id.unique()) / len(smpos)) * 100, 2)"
   ]
  }
 ],
 "metadata": {
  "kernelspec": {
   "display_name": "ctakes",
   "language": "python",
   "name": "python3"
  },
  "language_info": {
   "codemirror_mode": {
    "name": "ipython",
    "version": 3
   },
   "file_extension": ".py",
   "mimetype": "text/x-python",
   "name": "python",
   "nbconvert_exporter": "python",
   "pygments_lexer": "ipython3",
   "version": "3.12.0"
  }
 },
 "nbformat": 4,
 "nbformat_minor": 2
}
