{
 "cells": [
  {
   "cell_type": "code",
   "execution_count": 1,
   "metadata": {},
   "outputs": [],
   "source": [
    "from database import Database\n",
    "import re"
   ]
  },
  {
   "cell_type": "code",
   "execution_count": 2,
   "metadata": {},
   "outputs": [],
   "source": [
    "credentials = {\n",
    "    \"host\": \"\",\n",
    "    \"database\": \"aact\",\n",
    "    \"user\": \"xc383@drexel.edu\",\n",
    "    \"password\": \"\"\n",
    "}"
   ]
  },
  {
   "cell_type": "code",
   "execution_count": 3,
   "metadata": {},
   "outputs": [
    {
     "name": "stdout",
     "output_type": "stream",
     "text": [
      "Querying database\n",
      "                 current_timestamp\n",
      "0 2023-11-06 16:23:43.322374+00:00\n",
      "Disconnecting from database\n"
     ]
    }
   ],
   "source": [
    "db = Database(**credentials)\n",
    "db.connect()\n",
    "\n",
    "print(\"Querying database\")\n",
    "df = db.execute(sql=\"select current_timestamp\", expecting_return=True)\n",
    "print(df)\n",
    "\n",
    "print(\"Disconnecting from database\")\n",
    "db.disconnect()"
   ]
  },
  {
   "cell_type": "code",
   "execution_count": 4,
   "metadata": {},
   "outputs": [],
   "source": [
    "x = db.execute_yield(\"select nct_id, criteria from eligibilities;\")"
   ]
  },
  {
   "cell_type": "code",
   "execution_count": 10,
   "metadata": {},
   "outputs": [
    {
     "data": {
      "text/plain": [
       "{'nct_id': 'NCT01301781',\n",
       " 'criteria': 'Inclusion Criteria:\\n\\nConstipated, defined by ROME III definition\\nSubject has < 3 satisfactory BMs during the run-in period\\n\\nExclusion Criteria:\\n\\nSubjects with known or suspected ileus, gastrointestinal obstruction, gastric retention, bowel perforation, toxic colitis, toxic megacolon\\nSubjects taking laxatives or prokinetic agents that refuse to discontinue these treatments.\\nSubjects who are allergic to any BLI801 component\\nSubjects taking narcotic analgesics or other medications known to cause constipation.\\nSubjects who, in the opinion of the Investigator, should not be included in the study for any reason, including inability to follow study procedures\\nSubjects who have participated in an investigational clinical, surgical, drug, or device study within the past 30 days\\nSubjects with an active history of drug or alcohol abuse'}"
      ]
     },
     "execution_count": 10,
     "metadata": {},
     "output_type": "execute_result"
    }
   ],
   "source": [
    "next(x)"
   ]
  },
  {
   "cell_type": "code",
   "execution_count": 5,
   "metadata": {},
   "outputs": [],
   "source": [
    "df = db.execute(\"select nct_id, criteria from eligibilities;\", expecting_return=True)"
   ]
  },
  {
   "cell_type": "code",
   "execution_count": 6,
   "metadata": {},
   "outputs": [
    {
     "name": "stdout",
     "output_type": "stream",
     "text": [
      "Inclusion Criteria:\n",
      "\n",
      "Constipated, defined by ROME III definition\n",
      "Subject has < 3 satisfactory BMs during the run-in period\n",
      "\n",
      "Exclusion Criteria:\n",
      "\n",
      "Subjects with known or suspected ileus, gastrointestinal obstruction, gastric retention, bowel perforation, toxic colitis, toxic megacolon\n",
      "Subjects taking laxatives or prokinetic agents that refuse to discontinue these treatments.\n",
      "Subjects who are allergic to any BLI801 component\n",
      "Subjects taking narcotic analgesics or other medications known to cause constipation.\n",
      "Subjects who, in the opinion of the Investigator, should not be included in the study for any reason, including inability to follow study procedures\n",
      "Subjects who have participated in an investigational clinical, surgical, drug, or device study within the past 30 days\n",
      "Subjects with an active history of drug or alcohol abuse\n"
     ]
    }
   ],
   "source": [
    "text = df.iloc[5, 1]\n",
    "print(text)"
   ]
  },
  {
   "cell_type": "code",
   "execution_count": 6,
   "metadata": {},
   "outputs": [],
   "source": [
    "base_pattern = r\"clusion\\s+[Cc]riteria\\S?\\s+([\\S\\s]+)\"\n",
    "inclusion_pattern = \"[Ii]n\" + base_pattern + \"[Ee]xclusion\"\n",
    "exclusion_pattern = \"[Ee]x\" + base_pattern + \"[Ii]nclusion\""
   ]
  },
  {
   "cell_type": "code",
   "execution_count": 14,
   "metadata": {},
   "outputs": [],
   "source": [
    "def breakdown_criteria_text(text: str) -> dict[str, str]:\n",
    "\n",
    "    criteria_split_pattern = r\"(\\w+)\\s+[Cc]riteria\\W?\"\n",
    "    split_pattern = re.compile(criteria_split_pattern)\n",
    "\n",
    "    doc = {\n",
    "        \"inclusion\": [],\n",
    "        \"exclusion\": []\n",
    "    }\n",
    "\n",
    "    criteria_parts = re.split(split_pattern, text)\n",
    "    i = 0\n",
    "\n",
    "    while i < len(criteria_parts):\n",
    "        lower_case_part = criteria_parts[i].lower()\n",
    "        if lower_case_part == \"inclusion\":\n",
    "            i += 1\n",
    "            doc[lower_case_part].append(criteria_parts[i])\n",
    "        elif lower_case_part == \"exclusion\":\n",
    "            i += 1\n",
    "            doc[lower_case_part].append(criteria_parts[i])\n",
    "        i += 1\n",
    "\n",
    "    return doc"
   ]
  },
  {
   "cell_type": "code",
   "execution_count": 8,
   "metadata": {},
   "outputs": [],
   "source": [
    "def tolines(text: str) -> list[str]:\n",
    "    newlines_break = re.compile(r\"\\n+\")\n",
    "    return re.split(newlines_break, text)"
   ]
  },
  {
   "cell_type": "code",
   "execution_count": 34,
   "metadata": {},
   "outputs": [],
   "source": [
    "def check_valid(section):\n",
    "    return True"
   ]
  },
  {
   "cell_type": "code",
   "execution_count": 30,
   "metadata": {},
   "outputs": [],
   "source": [
    "def filter_criterea(criteria):\n",
    "    lines = criteria\n",
    "    i = 0\n",
    "    while i < len(lines):\n",
    "        if len(lines[i]) < 10:\n",
    "            lines.pop(i)\n",
    "        else:\n",
    "            i += 1\n",
    "    return criteria"
   ]
  },
  {
   "cell_type": "code",
   "execution_count": 37,
   "metadata": {},
   "outputs": [],
   "source": [
    "def process_criteria(idx, text):\n",
    "    criteria = []\n",
    "    sections = breakdown_criteria_text(text)\n",
    "\n",
    "    inclusion = \"\\n\".join(sections[\"inclusion\"])\n",
    "    exclusion = \"\\n\".join(sections[\"exclusion\"])\n",
    "\n",
    "    if check_valid(inclusion):\n",
    "        cnt = 0\n",
    "        for item in filter_criterea(tolines(inclusion)):\n",
    "            criteria.append((idx, \"inclusion\", cnt, item))\n",
    "            cnt += 1\n",
    "\n",
    "    if check_valid(exclusion):\n",
    "        cnt = 0\n",
    "        for item in filter_criterea(tolines(exclusion)):\n",
    "            criteria.append((idx, \"exclusion\", cnt, item))\n",
    "            cnt += 1\n",
    "\n",
    "    return criteria"
   ]
  },
  {
   "cell_type": "code",
   "execution_count": 38,
   "metadata": {},
   "outputs": [
    {
     "data": {
      "text/plain": [
       "[(0,\n",
       "  'inclusion',\n",
       "  0,\n",
       "  'Patients aged 18 years or over who have attended the MND clinic at the Royal Hallamshire Hospital, Sheffield.'),\n",
       " (0,\n",
       "  'inclusion',\n",
       "  1,\n",
       "  'Patients with amyotrophic lateral sclerosis diagnosed by a consultant neurologist with symptom onset within the last three years.'),\n",
       " (0,\n",
       "  'inclusion',\n",
       "  2,\n",
       "  'Patients with amyotrophic lateral sclerosis, primary muscular atrophy or progressive lateral sclerosis diagnosed by a consultant neurologist with a deterioration in their condition as evidenced by a deterioration in the ALS functional rating score (ALSFRS-R) by at least two points during the previous 18 months.'),\n",
       " (0, 'inclusion', 3, 'Live within 120 minute drive from Sheffield'),\n",
       " (0, 'inclusion', 4, 'Age 18 years or older'),\n",
       " (0,\n",
       "  'inclusion',\n",
       "  5,\n",
       "  'Person identified by the patient as the major provider of informal care (emotional and/or practical support) to the patient and provides more than one hour per week of unpaid care'),\n",
       " (0,\n",
       "  'inclusion',\n",
       "  6,\n",
       "  'Carer willing to allow data they provide during the trial to be shared by the research team with their own doctor in the event of serious clinical need.'),\n",
       " (0, 'exclusion', 0, 'Patients attend another MND care centre in the UK.'),\n",
       " (0,\n",
       "  'exclusion',\n",
       "  1,\n",
       "  'Significant impairment in decision making capacity preventing informed consent by the subject due to a major mental disorder including fronto-temporal dementia.'),\n",
       " (0,\n",
       "  'exclusion',\n",
       "  2,\n",
       "  'Patient unable to use the TiM system due to physical, intellectual or language difficulties and unwilling to permit carer to operate it on their behalf. Patients will be asked to complete two questions used within the TiM system, with, or without the help to their carer to verify their ability to use the system.'),\n",
       " (0,\n",
       "  'exclusion',\n",
       "  3,\n",
       "  'The patient has no eligible informal carer willing to participate in the trial'),\n",
       " (0,\n",
       "  'exclusion',\n",
       "  4,\n",
       "  \"Insufficient mobile telephone reception in the patients' home to use the TiM system.\"),\n",
       " (0,\n",
       "  'exclusion',\n",
       "  5,\n",
       "  'Any other major impairment that may affect their ability to participate in the study'),\n",
       " (0,\n",
       "  'exclusion',\n",
       "  6,\n",
       "  'Significant decision making capacity preventing informed consent due to a major mental disorder.'),\n",
       " (0,\n",
       "  'exclusion',\n",
       "  7,\n",
       "  'Carer unable to use the TiM system due to physical, intellectual or language difficulties. Carers will be asked to complete two questions used within the TiM system to verify their ability to use the system.'),\n",
       " (0,\n",
       "  'exclusion',\n",
       "  8,\n",
       "  'Inability to participate in the study due to other major physical or mental illness or language difficulties.'),\n",
       " (0,\n",
       "  'exclusion',\n",
       "  9,\n",
       "  'Professional carers receiving direct payment for their services.')]"
      ]
     },
     "execution_count": 38,
     "metadata": {},
     "output_type": "execute_result"
    }
   ],
   "source": [
    "process_criteria(0, text)"
   ]
  },
  {
   "cell_type": "code",
   "execution_count": 40,
   "metadata": {},
   "outputs": [
    {
     "data": {
      "text/plain": [
       "['Female subjects 18 years of age or older with FIGO Stages III-IV epithelial ovarian, primary peritoneal or fallopian tube cancer with an indication for first-line treatment with paclitaxel and carboplatin x 6 cycles (Subjects with pseudomyxoma, mesothelioma, adenocarcinoma with an unknown primary tumour, carcinosarcoma, sarcoma, mucinous or neuroendocrine histology are excluded',\n",
       " 'Subjects with FIGO Stage IIIA or IIIB disease must have undergone PDS for ovarian, primary peritoneal or fallopian tube cancer within 12 weeks prior to randomization',\n",
       " 'Subjects with FIGO Stage IIIC or IV disease must either:',\n",
       " 'Undergo PDS for epithelial ovarian, primary peritoneal or fallopian tube cancer within 12 weeks prior to randomization or',\n",
       " 'Plan to have IDS following 3 cycles of paclitaxel and carboplatin plus AMG 386 or AMG 386 placebo for biopsy proven epithelial ovarian, primary peritoneal or fallopian tube cancer',\n",
       " 'ECOG performance status of 0 or 1',\n",
       " 'Adequate bone marrow, renal and hepatic function']"
      ]
     },
     "execution_count": 40,
     "metadata": {},
     "output_type": "execute_result"
    }
   ],
   "source": [
    "inclusions"
   ]
  }
 ],
 "metadata": {
  "kernelspec": {
   "display_name": "critereon",
   "language": "python",
   "name": "python3"
  },
  "language_info": {
   "codemirror_mode": {
    "name": "ipython",
    "version": 3
   },
   "file_extension": ".py",
   "mimetype": "text/x-python",
   "name": "python",
   "nbconvert_exporter": "python",
   "pygments_lexer": "ipython3",
   "version": "3.12.0"
  }
 },
 "nbformat": 4,
 "nbformat_minor": 2
}
