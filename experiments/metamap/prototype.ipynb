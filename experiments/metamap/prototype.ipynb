{
 "cells": [
  {
   "cell_type": "markdown",
   "metadata": {},
   "source": [
    "# Metamap output Prototyping\n",
    "\n",
    "A notebook devoted to wranggling output from metamap. Details on JSON format can be found here: https://lhncbc.nlm.nih.gov/ii/tools/MetaMap/Docs/JSON.pdf"
   ]
  },
  {
   "cell_type": "code",
   "execution_count": 1,
   "metadata": {},
   "outputs": [],
   "source": [
    "import os\n",
    "import json"
   ]
  },
  {
   "cell_type": "code",
   "execution_count": 2,
   "metadata": {},
   "outputs": [
    {
     "name": "stdout",
     "output_type": "stream",
     "text": [
      "There are 9 documents\n"
     ]
    }
   ],
   "source": [
    "JSON_SAMPLE = \"/home/xc383@drexel.edu/text2graph/experiments/metamap/data/mtsamples-type-70-sample-154.txt.json\"\n",
    "with open(JSON_SAMPLE, \"r\") as file:\n",
    "    data = json.loads(file.readlines()[1])\n",
    "print(\"There are %d documents\" % len(data[\"AllDocuments\"]))"
   ]
  },
  {
   "cell_type": "code",
   "execution_count": 2,
   "metadata": {},
   "outputs": [],
   "source": [
    "from typing import List, Optional\n",
    "from dataclasses import dataclass, asdict, astuple\n",
    "\n",
    "@dataclass\n",
    "class Mapping:\n",
    "\n",
    "    cui: str\n",
    "    sources: List[str]\n",
    "    score: int\n",
    "    matched: str\n",
    "    preferred: str\n",
    "    matched_words: List[str]\n",
    "    semantic_types: List[str]\n",
    "\n",
    "    is_head: Optional[bool]=None\n",
    "    negated: Optional[bool]=None\n",
    "\n",
    "\n",
    "    def asdict(self) -> dict:\n",
    "        return asdict(self)\n",
    "\n",
    "    def astuple(self) -> dict:\n",
    "        return astuple(self)\n",
    "\n",
    "def map_to_uterance(mapping: dict) -> Mapping:\n",
    "    ret = Mapping(\n",
    "        cui=mapping.get(\"CandidateCUI\"),\n",
    "        sources=mapping.get(\"Sources\"),\n",
    "        score=int(mapping.get(\"CandidateScore\")),\n",
    "        matched=mapping.get(\"CandidateMatched\"),\n",
    "        matched_words=mapping.get(\"MatchedWords\"),\n",
    "        preferred=mapping.get(\"CandidatePreferred\"),\n",
    "        semantic_types=mapping.get(\"SemTypes\"),\n",
    "        is_head=mapping.get(\"isHead\")\n",
    "    )\n",
    "\n",
    "    if mapping.get(\"IsHead\") == \"no\":\n",
    "        ret.is_head = False\n",
    "    elif mapping.get(\"IsHead\") == \"yes\":\n",
    "        ret.is_head = True\n",
    "\n",
    "    if mapping.get(\"Negated\") != \"0\":\n",
    "        ret.negated = True\n",
    "    else:\n",
    "        ret.negated = False\n",
    "\n",
    "    return ret"
   ]
  },
  {
   "cell_type": "code",
   "execution_count": 109,
   "metadata": {},
   "outputs": [],
   "source": [
    "def failproof(func, default=None):\n",
    "    def wrap(*args, **kwargs):\n",
    "        try:\n",
    "            return func(*args, **kwargs)\n",
    "        except:\n",
    "            return default\n",
    "    return wrap\n"
   ]
  },
  {
   "cell_type": "code",
   "execution_count": 133,
   "metadata": {},
   "outputs": [],
   "source": [
    "def crawl(mapping, keyset, func=lambda x: x):\n",
    "\n",
    "    content = []\n",
    "    key = keyset[0]\n",
    "    value = mapping.get(key)\n",
    "\n",
    "    if not keyset[1:] and isinstance(value, list):\n",
    "        for item in value:\n",
    "            content.append(func(item))\n",
    "    elif not keyset[1:] and value:\n",
    "        content.append(func(value))\n",
    "    elif keyset[1:] and isinstance(value, list):\n",
    "        for item in value:\n",
    "            content += crawl(item, keyset[1:], func)\n",
    "    elif keyset[1:] and isinstance(value, dict):\n",
    "        content += crawl(value, keyset[1:], func)\n",
    "\n",
    "    return content\n"
   ]
  },
  {
   "cell_type": "code",
   "execution_count": 117,
   "metadata": {},
   "outputs": [],
   "source": [
    "test = {\n",
    "    \"a\": [\n",
    "        {\"b\": 1},\n",
    "        {\"b\": 2}\n",
    "    ]\n",
    "}"
   ]
  },
  {
   "cell_type": "code",
   "execution_count": 118,
   "metadata": {},
   "outputs": [
    {
     "data": {
      "text/plain": [
       "[1, 2]"
      ]
     },
     "execution_count": 118,
     "metadata": {},
     "output_type": "execute_result"
    }
   ],
   "source": [
    "crawl(test, [\"a\", \"b\"], lambda x: x)"
   ]
  },
  {
   "cell_type": "code",
   "execution_count": 134,
   "metadata": {},
   "outputs": [],
   "source": [
    "path = [\"AllDocuments\", \"Document\", \"Utterances\", \"Phrases\", \"Mappings\", \"MappingCandidates\"]\n",
    "func = failproof(map_to_uterance, [])\n",
    "\n",
    "x = crawl(data, path, func)"
   ]
  },
  {
   "cell_type": "code",
   "execution_count": 6,
   "metadata": {},
   "outputs": [
    {
     "data": {
      "text/plain": [
       "['cui',\n",
       " 'sources',\n",
       " 'score',\n",
       " 'matched',\n",
       " 'preferred',\n",
       " 'matched_words',\n",
       " 'semantic_types',\n",
       " 'is_head',\n",
       " 'negated']"
      ]
     },
     "execution_count": 6,
     "metadata": {},
     "output_type": "execute_result"
    }
   ],
   "source": [
    "from dataclasses import fields\n"
   ]
  },
  {
   "cell_type": "code",
   "execution_count": 23,
   "metadata": {},
   "outputs": [],
   "source": [
    "def parse_mapping_canidates(mapping):\n",
    "    concepts = []\n",
    "    for canidate in mapping.get(\"MappingCandidates\"):\n",
    "        concepts.append(map_to_uterance(canidate))\n",
    "    return concepts\n",
    "\n",
    "def parse_phrase_mapping(phrase):\n",
    "    concepts = []\n",
    "    for mapping in phrase.get(\"Mappings\"):\n",
    "        concepts += parse_mapping_canidates(mapping)\n",
    "    return concepts\n",
    "\n",
    "def parse_utterance_phrase(utterance):\n",
    "    concepts = []\n",
    "    for phrase in utterance.get(\"Phrases\"):\n",
    "        concepts += parse_phrase_mapping(phrase)\n",
    "    return concepts\n",
    "\n",
    "def parse_document_utterances(document):\n",
    "    concepts = []\n",
    "    for utterance in document.get(\"Utterances\"):\n",
    "        concepts += parse_utterance_phrase(utterance)\n",
    "    return concepts"
   ]
  },
  {
   "cell_type": "code",
   "execution_count": 21,
   "metadata": {},
   "outputs": [
    {
     "data": {
      "text/plain": [
       "['AllDocuments',\n",
       " 'Document',\n",
       " 'Utterances',\n",
       " 'Phrases',\n",
       " 'Mappings',\n",
       " 'MappingCandidates']"
      ]
     },
     "execution_count": 21,
     "metadata": {},
     "output_type": "execute_result"
    }
   ],
   "source": []
  },
  {
   "cell_type": "code",
   "execution_count": 114,
   "metadata": {},
   "outputs": [
    {
     "data": {
      "text/plain": [
       "[Mapping(cui='C0037088', sources=['SNOMEDCT_US'], score=-966, matched='Clinical finding', preferred='Signs and Symptoms', matched_words=['finding'], semantic_types=['sosy'], is_head=True, negated=False),\n",
       " Mapping(cui='C0184661', sources=['SNOMEDCT_US'], score=-1000, matched='Procedure, NOS', preferred='Interventional procedure', matched_words=['procedure'], semantic_types=['topp'], is_head=True, negated=False),\n",
       " Mapping(cui='C0332287', sources=['SNOMEDCT_US'], score=-578, matched='In addition to', preferred='In addition to', matched_words=['with'], semantic_types=['ftcn'], is_head=False, negated=False),\n",
       " Mapping(cui='C0030702', sources=['SNOMEDCT_US'], score=-731, matched='Client satisfaction', preferred='Client satisfaction', matched_words=['patient', 'satisfaction'], semantic_types=['qlco'], is_head=True, negated=False),\n",
       " Mapping(cui='C0002915', sources=['SNOMEDCT_US'], score=-600, matched='General anesthesia, NOS', preferred='General Anesthesia', matched_words=['general', 'anaesthesia'], semantic_types=['topp'], is_head=False, negated=False),\n",
       " Mapping(cui='C1522653', sources=['SNOMEDCT_US'], score=-578, matched='Intratracheal route', preferred='Endotracheal Route of Drug Administration', matched_words=['endotracheal'], semantic_types=['ftcn'], is_head=False, negated=False),\n",
       " Mapping(cui='C1281594', sources=['SNOMEDCT_US'], score=-1000, matched='Entire abdomen', preferred='Entire abdomen', matched_words=['entire', 'abdomen'], semantic_types=['bpoc'], is_head=True, negated=False),\n",
       " Mapping(cui='C0230171', sources=['SNOMEDCT_US'], score=-1000, matched='Flank (surface region)', preferred='Flank (surface region)', matched_words=['flanks'], semantic_types=['blor'], is_head=True, negated=False),\n",
       " Mapping(cui='C0031066', sources=['SNOMEDCT_US'], score=-1000, matched='Anogenital region', preferred='Anogenital region', matched_words=['perineum'], semantic_types=['blor'], is_head=True, negated=False),\n",
       " Mapping(cui='C0039866', sources=['SNOMEDCT_US'], score=-770, matched='Thigh structure', preferred='Thigh structure', matched_words=['thighs'], semantic_types=['blor'], is_head=True, negated=False),\n",
       " Mapping(cui='C0022742', sources=['SNOMEDCT_US'], score=-604, matched='Bone structure of knee', preferred='Knee', matched_words=['knees'], semantic_types=['bpoc'], is_head=False, negated=False),\n",
       " Mapping(cui='C0232920', sources=['SNOMEDCT_US'], score=-770, matched='Sterile (qualifier value)', preferred='Sterile (qualifier value)', matched_words=['sterile'], semantic_types=['qlco'], is_head=True, negated=False),\n",
       " Mapping(cui='C0205197', sources=['SNOMEDCT_US'], score=-1000, matched='Complete', preferred='Complete', matched_words=['completed'], semantic_types=['qlco'], is_head=True, negated=False),\n",
       " Mapping(cui='C0179323', sources=['SNOMEDCT_US'], score=-861, matched='Blade', preferred='Blades (device)', matched_words=['blade'], semantic_types=['medd'], is_head=True, negated=False),\n",
       " Mapping(cui='C1273517', sources=['SNOMEDCT_US'], score=-1000, matched='Used by', preferred='Used by', matched_words=['used'], semantic_types=['fndg'], is_head=True, negated=False),\n",
       " Mapping(cui='C0700321', sources=['SNOMEDCT_US'], score=-581, matched='Small', preferred='Small', matched_words=['small'], semantic_types=['qnco'], is_head=False, negated=False),\n",
       " Mapping(cui='C0043255', sources=['SNOMEDCT_US'], score=-778, matched='Stab wound', preferred='Wounds, Stab', matched_words=['stab', 'wounds'], semantic_types=['inpo'], is_head=True, negated=False),\n",
       " Mapping(cui='C0205093', sources=['SNOMEDCT_US'], score=-581, matched='Lateral', preferred='Lateral', matched_words=['lateral'], semantic_types=['spco'], is_head=False, negated=False),\n",
       " Mapping(cui='C0019552', sources=['SNOMEDCT_US'], score=-581, matched='Hip structure', preferred='Hip structure', matched_words=['hips'], semantic_types=['bpoc'], is_head=False, negated=False),\n",
       " Mapping(cui='C0230189', sources=['SNOMEDCT_US'], score=-1000, matched='Hypogastric region', preferred='Hypogastric region', matched_words=['pubic', 'area'], semantic_types=['blor'], is_head=True, negated=False),\n",
       " Mapping(cui='C1282910', sources=['SNOMEDCT_US'], score=-593, matched='Upper', preferred='Upper', matched_words=['upper'], semantic_types=['spco'], is_head=False, negated=False),\n",
       " Mapping(cui='C0205154', sources=['SNOMEDCT_US'], score=-760, matched='Along edge (qualifier value)', preferred='Along edge (qualifier value)', matched_words=['edge'], semantic_types=['spco'], is_head=True, negated=False),\n",
       " Mapping(cui='C0041638', sources=['SNOMEDCT_US'], score=-593, matched='Umbilicus', preferred='Umbilicus (Anatomy)', matched_words=['umbilicus'], semantic_types=['blor'], is_head=False, negated=False),\n",
       " Mapping(cui='C0700321', sources=['SNOMEDCT_US'], score=-694, matched='Small', preferred='Small', matched_words=['small'], semantic_types=['qnco'], is_head=False, negated=False),\n",
       " Mapping(cui='C0184898', sources=['SNOMEDCT_US'], score=-861, matched='Surgical incisions', preferred='Surgical incisions', matched_words=['incisions'], semantic_types=['topp'], is_head=True, negated=False),\n",
       " Mapping(cui='C0520453', sources=['SNOMEDCT_US'], score=-1000, matched='Cannula, device', preferred='Cannula device', matched_words=['cannula'], semantic_types=['medd'], is_head=True, negated=False),\n",
       " Mapping(cui='C1273517', sources=['SNOMEDCT_US'], score=-1000, matched='Used by', preferred='Used by', matched_words=['used'], semantic_types=['fndg'], is_head=True, negated=False),\n",
       " Mapping(cui='C0332448', sources=['SNOMEDCT_US'], score=-1000, matched='Infiltration', preferred='Infiltration', matched_words=['infiltrate'], semantic_types=['patf'], is_head=True, negated=False),\n",
       " Mapping(cui='C0073385', sources=['SNOMEDCT_US'], score=-806, matched=\"Lactated Ringer's solution\", preferred=\"Lactated Ringer's Solution\", matched_words=['lactated', 'ringers'], semantic_types=['orch', 'phsu'], is_head=True, negated=False),\n",
       " Mapping(cui='C0008318', sources=['SNOMEDCT_US'], score=-593, matched='Cholecalciferol', preferred='cholecalciferol', matched_words=['cc'], semantic_types=['orch', 'phsu', 'vita'], is_head=False, negated=False),\n",
       " Mapping(cui='C0332448', sources=['SNOMEDCT_US'], score=-1000, matched='Infiltration', preferred='Infiltration', matched_words=['infiltrated'], semantic_types=['patf'], is_head=True, negated=False),\n",
       " Mapping(cui='C0205265', sources=['SNOMEDCT_US'], score=-770, matched='Initially', preferred='Initially', matched_words=['initially'], semantic_types=['tmco'], is_head=True, negated=False),\n",
       " Mapping(cui='C0230168', sources=['SNOMEDCT_US'], score=-770, matched='Abdominal cavity, NOS', preferred='Abdominal Cavity', matched_words=['abdomen'], semantic_types=['blor'], is_head=True, negated=False),\n",
       " Mapping(cui='C0439086', sources=['SNOMEDCT_US'], score=-1000, matched='<3 (qualifier value)', preferred='<3 (qualifier value)', matched_words=['3'], semantic_types=['qnco'], is_head=True, negated=False),\n",
       " Mapping(cui='C0549212', sources=['SNOMEDCT_US'], score=-660, matched='<none>', preferred='-4', matched_words=['4'], semantic_types=['qnco'], is_head=False, negated=False),\n",
       " Mapping(cui='C0520453', sources=['SNOMEDCT_US'], score=-827, matched='Cannula, device', preferred='Cannula device', matched_words=['cannulas'], semantic_types=['medd'], is_head=True, negated=False),\n",
       " Mapping(cui='C1273517', sources=['SNOMEDCT_US'], score=-1000, matched='Used by', preferred='Used by', matched_words=['used'], semantic_types=['fndg'], is_head=True, negated=False),\n",
       " Mapping(cui='C0699809', sources=['SNOMEDCT_US'], score=-1000, matched='Does carry', preferred='Does carry', matched_words=['carry'], semantic_types=['fndg'], is_head=True, negated=False),\n",
       " Mapping(cui='C0439787', sources=['SNOMEDCT_US'], score=-1000, matched='Out', preferred='Out (direction)', matched_words=['out'], semantic_types=['spco'], is_head=True, negated=False),\n",
       " Mapping(cui='C2095250', sources=['SNOMEDCT_US'], score=-844, matched='Suction assisted lipectomy of abdomen', preferred='Suction assisted lipectomy of abdomen', matched_words=['liposuction', 'of', 'abdomen'], semantic_types=['topp'], is_head=True, negated=False),\n",
       " Mapping(cui='C1883720', sources=['SNOMEDCT_US'], score=-966, matched='Removes', preferred='Removing (action)', matched_words=['remove'], semantic_types=['acty'], is_head=True, negated=False),\n",
       " Mapping(cui='C0439810', sources=['SNOMEDCT_US'], score=-748, matched='Total', preferred='Total', matched_words=['total'], semantic_types=['qlco'], is_head=True, negated=False),\n",
       " Mapping(cui='C4517537', sources=['SNOMEDCT_US'], score=-581, matched='<none>', preferred='1100', matched_words=['1100'], semantic_types=['qnco'], is_head=False, negated=False),\n",
       " Mapping(cui='C0008318', sources=['SNOMEDCT_US'], score=-581, matched='Cholecalciferol', preferred='cholecalciferol', matched_words=['cc'], semantic_types=['orch', 'phsu', 'vita'], is_head=False, negated=False),\n",
       " Mapping(cui='C0370199', sources=['SNOMEDCT_US'], score=-581, matched='Aspirate', preferred='Aspirate substance', matched_words=['aspirate'], semantic_types=['bdsu'], is_head=False, negated=False),\n",
       " Mapping(cui='C0205393', sources=['SNOMEDCT_US'], score=-694, matched='Most', preferred='Most', matched_words=['mostly'], semantic_types=['qnco'], is_head=False, negated=False),\n",
       " Mapping(cui='C0424612', sources=['SNOMEDCT_US'], score=-861, matched='Obese build', preferred='Obese build', matched_words=['fat'], semantic_types=['orga'], is_head=True, negated=False),\n",
       " Mapping(cui='C0700321', sources=['SNOMEDCT_US'], score=-694, matched='Small', preferred='Small', matched_words=['little'], semantic_types=['qnco'], is_head=False, negated=False),\n",
       " Mapping(cui='C0444611', sources=['SNOMEDCT_US'], score=-861, matched='Fluid', preferred='Fluid behavior', matched_words=['fluid'], semantic_types=['qlco'], is_head=True, negated=False),\n",
       " Mapping(cui='C0178913', sources=['SNOMEDCT_US'], score=-1000, matched='Blood specimen', preferred='Blood specimen', matched_words=['blood'], semantic_types=['bdsu'], is_head=True, negated=False),\n",
       " Mapping(cui='C0004268', sources=['SNOMEDCT_US'], score=-1000, matched='Attention', preferred='Attention', matched_words=['attention'], semantic_types=['menp'], is_head=True, negated=False),\n",
       " Mapping(cui='C0439851', sources=['SNOMEDCT_US'], score=-737, matched='Direct', preferred='Direct type of relationship', matched_words=['direct'], semantic_types=['qlco'], is_head=True, negated=False),\n",
       " Mapping(cui='C0039866', sources=['SNOMEDCT_US'], score=-770, matched='Thigh structure', preferred='Thigh structure', matched_words=['thighs'], semantic_types=['blor'], is_head=True, negated=False),\n",
       " Mapping(cui='C0205102', sources=['SNOMEDCT_US'], score=-1000, matched='Internal', preferred='Internal', matched_words=['inner'], semantic_types=['spco'], is_head=True, negated=False),\n",
       " Mapping(cui='C0205101', sources=['SNOMEDCT_US'], score=-1000, matched='Extrinsic', preferred='Extrinsic', matched_words=['outer'], semantic_types=['spco'], is_head=True, negated=False),\n",
       " Mapping(cui='C0439810', sources=['SNOMEDCT_US'], score=-760, matched='Total', preferred='Total', matched_words=['total'], semantic_types=['qlco'], is_head=True, negated=False),\n",
       " Mapping(cui='C0008318', sources=['SNOMEDCT_US'], score=-593, matched='Cholecalciferol', preferred='cholecalciferol', matched_words=['cc'], semantic_types=['orch', 'phsu', 'vita'], is_head=False, negated=False),\n",
       " Mapping(cui='C0332448', sources=['SNOMEDCT_US'], score=-742, matched='Infiltration', preferred='Infiltration', matched_words=['infiltrated'], semantic_types=['patf'], is_head=True, negated=False),\n",
       " Mapping(cui='C0205093', sources=['SNOMEDCT_US'], score=-742, matched='Lateral', preferred='Lateral', matched_words=['lateral'], semantic_types=['spco'], is_head=True, negated=False),\n",
       " Mapping(cui='C0039866', sources=['SNOMEDCT_US'], score=-742, matched='Thigh structure', preferred='Thigh structure', matched_words=['thighs'], semantic_types=['blor'], is_head=True, negated=False),\n",
       " Mapping(cui='C0205171', sources=['SNOMEDCT_US'], score=-742, matched='Singular', preferred='Singular', matched_words=['only'], semantic_types=['qnco'], is_head=True, negated=False),\n",
       " Mapping(cui='C0008318', sources=['SNOMEDCT_US'], score=-742, matched='Cholecalciferol', preferred='cholecalciferol', matched_words=['cc'], semantic_types=['orch', 'phsu', 'vita'], is_head=True, negated=False),\n",
       " Mapping(cui='C0230423', sources=['SNOMEDCT_US'], score=-983, matched='Structure of medial surface of thigh', preferred='Structure of medial surface of thigh', matched_words=['medial', 'thigh'], semantic_types=['blor'], is_head=True, negated=False),\n",
       " Mapping(cui='C0205197', sources=['SNOMEDCT_US'], score=-1000, matched='Complete', preferred='Complete', matched_words=['completed'], semantic_types=['qlco'], is_head=True, negated=False),\n",
       " Mapping(cui='C0439086', sources=['SNOMEDCT_US'], score=-1000, matched='<3 (qualifier value)', preferred='<3 (qualifier value)', matched_words=['3'], semantic_types=['qnco'], is_head=True, negated=False),\n",
       " Mapping(cui='C0549212', sources=['SNOMEDCT_US'], score=-660, matched='<none>', preferred='-4', matched_words=['4'], semantic_types=['qnco'], is_head=False, negated=False),\n",
       " Mapping(cui='C0520453', sources=['SNOMEDCT_US'], score=-827, matched='Cannula, device', preferred='Cannula device', matched_words=['cannulas'], semantic_types=['medd'], is_head=True, negated=False),\n",
       " Mapping(cui='C1273517', sources=['SNOMEDCT_US'], score=-1000, matched='Used by', preferred='Used by', matched_words=['used'], semantic_types=['fndg'], is_head=True, negated=False),\n",
       " Mapping(cui='C0038638', sources=['SNOMEDCT_US'], score=-1000, matched='Suction drainage', preferred='Suction drainage', matched_words=['suction'], semantic_types=['topp'], is_head=True, negated=False),\n",
       " Mapping(cui='C3844101', sources=['SNOMEDCT_US'], score=-593, matched='650', preferred='650', matched_words=['650'], semantic_types=['qnco'], is_head=False, negated=False),\n",
       " Mapping(cui='C0008318', sources=['SNOMEDCT_US'], score=-760, matched='Cholecalciferol', preferred='cholecalciferol', matched_words=['cc'], semantic_types=['orch', 'phsu', 'vita'], is_head=True, negated=False),\n",
       " Mapping(cui='C0441987', sources=['SNOMEDCT_US'], score=-593, matched='Side', preferred='Side', matched_words=['side'], semantic_types=['spco'], is_head=False, negated=False),\n",
       " Mapping(cui='C0332232', sources=['SNOMEDCT_US'], score=-581, matched='Approximate', preferred='Approximate', matched_words=['approximately'], semantic_types=['qlco'], is_head=False, negated=False),\n",
       " Mapping(cui='C0008318', sources=['SNOMEDCT_US'], score=-748, matched='Cholecalciferol', preferred='cholecalciferol', matched_words=['cc'], semantic_types=['orch', 'phsu', 'vita'], is_head=True, negated=False),\n",
       " Mapping(cui='C0205102', sources=['SNOMEDCT_US'], score=-581, matched='Internal', preferred='Internal', matched_words=['inner'], semantic_types=['spco'], is_head=False, negated=False),\n",
       " Mapping(cui='C0039866', sources=['SNOMEDCT_US'], score=-581, matched='Thigh structure', preferred='Thigh structure', matched_words=['thigh'], semantic_types=['blor'], is_head=False, negated=False),\n",
       " Mapping(cui='C3816748', sources=['SNOMEDCT_US'], score=-760, matched='600', preferred='600', matched_words=['600'], semantic_types=['qnco'], is_head=True, negated=False),\n",
       " Mapping(cui='C0205093', sources=['SNOMEDCT_US'], score=-760, matched='Lateral', preferred='Lateral', matched_words=['lateral'], semantic_types=['spco'], is_head=True, negated=False),\n",
       " Mapping(cui='C0039866', sources=['SNOMEDCT_US'], score=-760, matched='Thigh structure', preferred='Thigh structure', matched_words=['thigh'], semantic_types=['blor'], is_head=True, negated=False),\n",
       " Mapping(cui='C0030705', sources=['SNOMEDCT_US'], score=-1000, matched='Patient', preferred='Patients', matched_words=['patient'], semantic_types=['podg'], is_head=True, negated=False),\n",
       " Mapping(cui='C0184661', sources=['SNOMEDCT_US'], score=-827, matched='Procedure, NOS', preferred='Interventional procedure', matched_words=['procedure'], semantic_types=['topp'], is_head=True, negated=False),\n",
       " Mapping(cui='C3641222', sources=['SNOMEDCT_US'], score=-901, matched='Very good (qualifier value)', preferred='Very good (qualifier value)', matched_words=['very', 'well'], semantic_types=['qlco'], is_head=True, negated=False),\n",
       " Mapping(cui='C0444868', sources=['SNOMEDCT_US'], score=-770, matched='All', preferred='All', matched_words=['all'], semantic_types=['qnco'], is_head=True, negated=False),\n",
       " Mapping(cui='C0370199', sources=['SNOMEDCT_US'], score=-770, matched='Aspirate', preferred='Aspirate substance', matched_words=['aspirate'], semantic_types=['bdsu'], is_head=True, negated=False),\n",
       " Mapping(cui='C0205393', sources=['SNOMEDCT_US'], score=-593, matched='Most', preferred='Most', matched_words=['mostly'], semantic_types=['qnco'], is_head=False, negated=False),\n",
       " Mapping(cui='C0424612', sources=['SNOMEDCT_US'], score=-760, matched='Obese build', preferred='Obese build', matched_words=['fat'], semantic_types=['orga'], is_head=True, negated=False),\n",
       " Mapping(cui='C0700321', sources=['SNOMEDCT_US'], score=-593, matched='Small', preferred='Small', matched_words=['little'], semantic_types=['qnco'], is_head=False, negated=False),\n",
       " Mapping(cui='C0444611', sources=['SNOMEDCT_US'], score=-593, matched='Fluid', preferred='Fluid behavior', matched_words=['fluid'], semantic_types=['qlco'], is_head=False, negated=False),\n",
       " Mapping(cui='C0442824', sources=['SNOMEDCT_US'], score=-660, matched='Very', preferred='Very', matched_words=['very'], semantic_types=['qlco'], is_head=False, negated=False),\n",
       " Mapping(cui='C0700321', sources=['SNOMEDCT_US'], score=-660, matched='Small', preferred='Small', matched_words=['little'], semantic_types=['qnco'], is_head=False, negated=False),\n",
       " Mapping(cui='C0178913', sources=['SNOMEDCT_US'], score=-827, matched='Blood specimen', preferred='Blood specimen', matched_words=['blood'], semantic_types=['bdsu'], is_head=True, negated=False),\n",
       " Mapping(cui='C0043250', sources=['SNOMEDCT_US'], score=-1000, matched='Wound, NOS', preferred='Injury wounds', matched_words=['wounds'], semantic_types=['inpo'], is_head=True, negated=False),\n",
       " Mapping(cui='C1321564', sources=['SNOMEDCT_US'], score=-827, matched='Strip', preferred='strip medical device', matched_words=['strip'], semantic_types=['medd'], is_head=True, negated=False),\n",
       " Mapping(cui='C0278286', sources=['SNOMEDCT_US'], score=-770, matched='Dressing of skin or wound', preferred='Dressing of skin or wound', matched_words=['dressing'], semantic_types=['topp'], is_head=True, negated=False),\n",
       " Mapping(cui='C0000726', sources=['SNOMEDCT_US'], score=-604, matched='Abdomen', preferred='Abdomen', matched_words=['abd'], semantic_types=['blor'], is_head=False, negated=False),\n",
       " Mapping(cui='C0182158', sources=['SNOMEDCT_US'], score=-604, matched='Pad', preferred='Pads', matched_words=['pads'], semantic_types=['medd'], is_head=False, negated=False),\n",
       " Mapping(cui='C1632850', sources=['SNOMEDCT_US'], score=-966, matched='Apply', preferred='apply - action', matched_words=['apply'], semantic_types=['ftcn'], is_head=True, negated=False),\n",
       " Mapping(cui='C0030705', sources=['SNOMEDCT_US'], score=-1000, matched='Patient', preferred='Patients', matched_words=['patient'], semantic_types=['podg'], is_head=True, negated=False),\n",
       " Mapping(cui='C0184661', sources=['SNOMEDCT_US'], score=-827, matched='Procedure, NOS', preferred='Interventional procedure', matched_words=['procedure'], semantic_types=['topp'], is_head=True, negated=False),\n",
       " Mapping(cui='C3641222', sources=['SNOMEDCT_US'], score=-901, matched='Very good (qualifier value)', preferred='Very good (qualifier value)', matched_words=['very', 'well'], semantic_types=['qlco'], is_head=True, negated=False),\n",
       " Mapping(cui='C0034871', sources=['SNOMEDCT_US'], score=-806, matched='Recovery room', preferred='Postoperative anesthesia care unit (PACU)', matched_words=['recovery', 'room'], semantic_types=['hcro', 'mnob'], is_head=True, negated=False),\n",
       " Mapping(cui='C0205170', sources=['SNOMEDCT_US'], score=-694, matched='Good', preferred='Good', matched_words=['good'], semantic_types=['qlco'], is_head=False, negated=False),\n",
       " Mapping(cui='C0012634', sources=['SNOMEDCT_US'], score=-861, matched='Disease', preferred='Disease', matched_words=['condition'], semantic_types=['dsyn'], is_head=True, negated=False)]"
      ]
     },
     "execution_count": 114,
     "metadata": {},
     "output_type": "execute_result"
    }
   ],
   "source": [
    "parse_document_utterances(data[\"AllDocuments\"][8][\"Document\"])"
   ]
  },
  {
   "cell_type": "code",
   "execution_count": 7,
   "metadata": {},
   "outputs": [
    {
     "ename": "NameError",
     "evalue": "name 'data' is not defined",
     "output_type": "error",
     "traceback": [
      "\u001b[0;31m---------------------------------------------------------------------------\u001b[0m",
      "\u001b[0;31mNameError\u001b[0m                                 Traceback (most recent call last)",
      "\u001b[1;32m/home/xc383@drexel.edu/text2graph/experiments/metamap/prototype.ipynb Cell 14\u001b[0m line \u001b[0;36m1\n\u001b[0;32m----> <a href='vscode-notebook-cell://ssh-remote%2Bbvm82.cci.drexel.edu/home/xc383%40drexel.edu/text2graph/experiments/metamap/prototype.ipynb#X16sdnNjb2RlLXJlbW90ZQ%3D%3D?line=0'>1</a>\u001b[0m data[\u001b[39m\"\u001b[39m\u001b[39mAllDocuments\u001b[39m\u001b[39m\"\u001b[39m][\u001b[39m8\u001b[39m][\u001b[39m\"\u001b[39m\u001b[39mDocument\u001b[39m\u001b[39m\"\u001b[39m][\u001b[39m\"\u001b[39m\u001b[39mAAs\u001b[39m\u001b[39m\"\u001b[39m]\n",
      "\u001b[0;31mNameError\u001b[0m: name 'data' is not defined"
     ]
    }
   ],
   "source": [
    "data[\"AllDocuments\"][8][\"Document\"][\"AAs\"]"
   ]
  }
 ],
 "metadata": {
  "kernelspec": {
   "display_name": "metamap",
   "language": "python",
   "name": "python3"
  },
  "language_info": {
   "codemirror_mode": {
    "name": "ipython",
    "version": 3
   },
   "file_extension": ".py",
   "mimetype": "text/x-python",
   "name": "python",
   "nbconvert_exporter": "python",
   "pygments_lexer": "ipython3",
   "version": "3.12.0"
  }
 },
 "nbformat": 4,
 "nbformat_minor": 2
}
